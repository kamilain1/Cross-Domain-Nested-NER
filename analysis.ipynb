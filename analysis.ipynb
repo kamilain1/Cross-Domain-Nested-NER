{
 "metadata": {
  "kernelspec": {
   "display_name": "Python 3",
   "name": "python3"
  },
  "language_info": {
   "name": "python",
   "version": "3.7.12",
   "mimetype": "text/x-python",
   "codemirror_mode": {
    "name": "ipython",
    "version": 3
   },
   "pygments_lexer": "ipython3",
   "nbconvert_exporter": "python",
   "file_extension": ".py"
  },
  "colab": {
   "provenance": [],
   "gpuType": "T4"
  },
  "accelerator": "GPU",
  "widgets": {
   "application/vnd.jupyter.widget-state+json": {
    "78b636d6ac4449b7a3f3b1095d039636": {
     "model_module": "@jupyter-widgets/controls",
     "model_name": "HBoxModel",
     "model_module_version": "1.5.0",
     "state": {
      "_dom_classes": [],
      "_model_module": "@jupyter-widgets/controls",
      "_model_module_version": "1.5.0",
      "_model_name": "HBoxModel",
      "_view_count": null,
      "_view_module": "@jupyter-widgets/controls",
      "_view_module_version": "1.5.0",
      "_view_name": "HBoxView",
      "box_style": "",
      "children": [
       "IPY_MODEL_bb9cb463d9ce41919ca11bdfaca62196",
       "IPY_MODEL_de0d7c62b7374b82b4ba356c931f85ee",
       "IPY_MODEL_c23aa6fe1153444585693bc9775a4398"
      ],
      "layout": "IPY_MODEL_469e816bb17d4c79b5c22866ff01710e"
     }
    },
    "bb9cb463d9ce41919ca11bdfaca62196": {
     "model_module": "@jupyter-widgets/controls",
     "model_name": "HTMLModel",
     "model_module_version": "1.5.0",
     "state": {
      "_dom_classes": [],
      "_model_module": "@jupyter-widgets/controls",
      "_model_module_version": "1.5.0",
      "_model_name": "HTMLModel",
      "_view_count": null,
      "_view_module": "@jupyter-widgets/controls",
      "_view_module_version": "1.5.0",
      "_view_name": "HTMLView",
      "description": "",
      "description_tooltip": null,
      "layout": "IPY_MODEL_ffae1f190c9c4df1a981014079a79068",
      "placeholder": "​",
      "style": "IPY_MODEL_801bcbfd33104712920e0782abe526fb",
      "value": "Downloading (…)okenizer_config.json: 100%"
     }
    },
    "de0d7c62b7374b82b4ba356c931f85ee": {
     "model_module": "@jupyter-widgets/controls",
     "model_name": "FloatProgressModel",
     "model_module_version": "1.5.0",
     "state": {
      "_dom_classes": [],
      "_model_module": "@jupyter-widgets/controls",
      "_model_module_version": "1.5.0",
      "_model_name": "FloatProgressModel",
      "_view_count": null,
      "_view_module": "@jupyter-widgets/controls",
      "_view_module_version": "1.5.0",
      "_view_name": "ProgressView",
      "bar_style": "success",
      "description": "",
      "description_tooltip": null,
      "layout": "IPY_MODEL_4d973629f71049b7a2bb8ddfa86d25f5",
      "max": 24,
      "min": 0,
      "orientation": "horizontal",
      "style": "IPY_MODEL_9b21486a5d224ee98775352cc59e3f89",
      "value": 24
     }
    },
    "c23aa6fe1153444585693bc9775a4398": {
     "model_module": "@jupyter-widgets/controls",
     "model_name": "HTMLModel",
     "model_module_version": "1.5.0",
     "state": {
      "_dom_classes": [],
      "_model_module": "@jupyter-widgets/controls",
      "_model_module_version": "1.5.0",
      "_model_name": "HTMLModel",
      "_view_count": null,
      "_view_module": "@jupyter-widgets/controls",
      "_view_module_version": "1.5.0",
      "_view_name": "HTMLView",
      "description": "",
      "description_tooltip": null,
      "layout": "IPY_MODEL_cb96f954c2e0400ea6cf5afc3d6308de",
      "placeholder": "​",
      "style": "IPY_MODEL_04a172ab76f7484bb1064252616f5bcc",
      "value": " 24.0/24.0 [00:00&lt;00:00, 1.59kB/s]"
     }
    },
    "469e816bb17d4c79b5c22866ff01710e": {
     "model_module": "@jupyter-widgets/base",
     "model_name": "LayoutModel",
     "model_module_version": "1.2.0",
     "state": {
      "_model_module": "@jupyter-widgets/base",
      "_model_module_version": "1.2.0",
      "_model_name": "LayoutModel",
      "_view_count": null,
      "_view_module": "@jupyter-widgets/base",
      "_view_module_version": "1.2.0",
      "_view_name": "LayoutView",
      "align_content": null,
      "align_items": null,
      "align_self": null,
      "border": null,
      "bottom": null,
      "display": null,
      "flex": null,
      "flex_flow": null,
      "grid_area": null,
      "grid_auto_columns": null,
      "grid_auto_flow": null,
      "grid_auto_rows": null,
      "grid_column": null,
      "grid_gap": null,
      "grid_row": null,
      "grid_template_areas": null,
      "grid_template_columns": null,
      "grid_template_rows": null,
      "height": null,
      "justify_content": null,
      "justify_items": null,
      "left": null,
      "margin": null,
      "max_height": null,
      "max_width": null,
      "min_height": null,
      "min_width": null,
      "object_fit": null,
      "object_position": null,
      "order": null,
      "overflow": null,
      "overflow_x": null,
      "overflow_y": null,
      "padding": null,
      "right": null,
      "top": null,
      "visibility": null,
      "width": null
     }
    },
    "ffae1f190c9c4df1a981014079a79068": {
     "model_module": "@jupyter-widgets/base",
     "model_name": "LayoutModel",
     "model_module_version": "1.2.0",
     "state": {
      "_model_module": "@jupyter-widgets/base",
      "_model_module_version": "1.2.0",
      "_model_name": "LayoutModel",
      "_view_count": null,
      "_view_module": "@jupyter-widgets/base",
      "_view_module_version": "1.2.0",
      "_view_name": "LayoutView",
      "align_content": null,
      "align_items": null,
      "align_self": null,
      "border": null,
      "bottom": null,
      "display": null,
      "flex": null,
      "flex_flow": null,
      "grid_area": null,
      "grid_auto_columns": null,
      "grid_auto_flow": null,
      "grid_auto_rows": null,
      "grid_column": null,
      "grid_gap": null,
      "grid_row": null,
      "grid_template_areas": null,
      "grid_template_columns": null,
      "grid_template_rows": null,
      "height": null,
      "justify_content": null,
      "justify_items": null,
      "left": null,
      "margin": null,
      "max_height": null,
      "max_width": null,
      "min_height": null,
      "min_width": null,
      "object_fit": null,
      "object_position": null,
      "order": null,
      "overflow": null,
      "overflow_x": null,
      "overflow_y": null,
      "padding": null,
      "right": null,
      "top": null,
      "visibility": null,
      "width": null
     }
    },
    "801bcbfd33104712920e0782abe526fb": {
     "model_module": "@jupyter-widgets/controls",
     "model_name": "DescriptionStyleModel",
     "model_module_version": "1.5.0",
     "state": {
      "_model_module": "@jupyter-widgets/controls",
      "_model_module_version": "1.5.0",
      "_model_name": "DescriptionStyleModel",
      "_view_count": null,
      "_view_module": "@jupyter-widgets/base",
      "_view_module_version": "1.2.0",
      "_view_name": "StyleView",
      "description_width": ""
     }
    },
    "4d973629f71049b7a2bb8ddfa86d25f5": {
     "model_module": "@jupyter-widgets/base",
     "model_name": "LayoutModel",
     "model_module_version": "1.2.0",
     "state": {
      "_model_module": "@jupyter-widgets/base",
      "_model_module_version": "1.2.0",
      "_model_name": "LayoutModel",
      "_view_count": null,
      "_view_module": "@jupyter-widgets/base",
      "_view_module_version": "1.2.0",
      "_view_name": "LayoutView",
      "align_content": null,
      "align_items": null,
      "align_self": null,
      "border": null,
      "bottom": null,
      "display": null,
      "flex": null,
      "flex_flow": null,
      "grid_area": null,
      "grid_auto_columns": null,
      "grid_auto_flow": null,
      "grid_auto_rows": null,
      "grid_column": null,
      "grid_gap": null,
      "grid_row": null,
      "grid_template_areas": null,
      "grid_template_columns": null,
      "grid_template_rows": null,
      "height": null,
      "justify_content": null,
      "justify_items": null,
      "left": null,
      "margin": null,
      "max_height": null,
      "max_width": null,
      "min_height": null,
      "min_width": null,
      "object_fit": null,
      "object_position": null,
      "order": null,
      "overflow": null,
      "overflow_x": null,
      "overflow_y": null,
      "padding": null,
      "right": null,
      "top": null,
      "visibility": null,
      "width": null
     }
    },
    "9b21486a5d224ee98775352cc59e3f89": {
     "model_module": "@jupyter-widgets/controls",
     "model_name": "ProgressStyleModel",
     "model_module_version": "1.5.0",
     "state": {
      "_model_module": "@jupyter-widgets/controls",
      "_model_module_version": "1.5.0",
      "_model_name": "ProgressStyleModel",
      "_view_count": null,
      "_view_module": "@jupyter-widgets/base",
      "_view_module_version": "1.2.0",
      "_view_name": "StyleView",
      "bar_color": null,
      "description_width": ""
     }
    },
    "cb96f954c2e0400ea6cf5afc3d6308de": {
     "model_module": "@jupyter-widgets/base",
     "model_name": "LayoutModel",
     "model_module_version": "1.2.0",
     "state": {
      "_model_module": "@jupyter-widgets/base",
      "_model_module_version": "1.2.0",
      "_model_name": "LayoutModel",
      "_view_count": null,
      "_view_module": "@jupyter-widgets/base",
      "_view_module_version": "1.2.0",
      "_view_name": "LayoutView",
      "align_content": null,
      "align_items": null,
      "align_self": null,
      "border": null,
      "bottom": null,
      "display": null,
      "flex": null,
      "flex_flow": null,
      "grid_area": null,
      "grid_auto_columns": null,
      "grid_auto_flow": null,
      "grid_auto_rows": null,
      "grid_column": null,
      "grid_gap": null,
      "grid_row": null,
      "grid_template_areas": null,
      "grid_template_columns": null,
      "grid_template_rows": null,
      "height": null,
      "justify_content": null,
      "justify_items": null,
      "left": null,
      "margin": null,
      "max_height": null,
      "max_width": null,
      "min_height": null,
      "min_width": null,
      "object_fit": null,
      "object_position": null,
      "order": null,
      "overflow": null,
      "overflow_x": null,
      "overflow_y": null,
      "padding": null,
      "right": null,
      "top": null,
      "visibility": null,
      "width": null
     }
    },
    "04a172ab76f7484bb1064252616f5bcc": {
     "model_module": "@jupyter-widgets/controls",
     "model_name": "DescriptionStyleModel",
     "model_module_version": "1.5.0",
     "state": {
      "_model_module": "@jupyter-widgets/controls",
      "_model_module_version": "1.5.0",
      "_model_name": "DescriptionStyleModel",
      "_view_count": null,
      "_view_module": "@jupyter-widgets/base",
      "_view_module_version": "1.2.0",
      "_view_name": "StyleView",
      "description_width": ""
     }
    },
    "e9c7e3757bcd4bae853e416a8a72f878": {
     "model_module": "@jupyter-widgets/controls",
     "model_name": "HBoxModel",
     "model_module_version": "1.5.0",
     "state": {
      "_dom_classes": [],
      "_model_module": "@jupyter-widgets/controls",
      "_model_module_version": "1.5.0",
      "_model_name": "HBoxModel",
      "_view_count": null,
      "_view_module": "@jupyter-widgets/controls",
      "_view_module_version": "1.5.0",
      "_view_name": "HBoxView",
      "box_style": "",
      "children": [
       "IPY_MODEL_c3ed489c1d364e629a2db38d6888f0ad",
       "IPY_MODEL_5c2c584074b94b7dbc54fa50fb956d6a",
       "IPY_MODEL_522bd7aff1b54715ad0ddd16a6d21af1"
      ],
      "layout": "IPY_MODEL_af1c5900460547198cc9ba3b8131d16c"
     }
    },
    "c3ed489c1d364e629a2db38d6888f0ad": {
     "model_module": "@jupyter-widgets/controls",
     "model_name": "HTMLModel",
     "model_module_version": "1.5.0",
     "state": {
      "_dom_classes": [],
      "_model_module": "@jupyter-widgets/controls",
      "_model_module_version": "1.5.0",
      "_model_name": "HTMLModel",
      "_view_count": null,
      "_view_module": "@jupyter-widgets/controls",
      "_view_module_version": "1.5.0",
      "_view_name": "HTMLView",
      "description": "",
      "description_tooltip": null,
      "layout": "IPY_MODEL_ed5f106684434ff98a0978bd04f48198",
      "placeholder": "​",
      "style": "IPY_MODEL_2f7c7224d55d467fac1fc6065a7ebbf3",
      "value": "Downloading (…)lve/main/config.json: 100%"
     }
    },
    "5c2c584074b94b7dbc54fa50fb956d6a": {
     "model_module": "@jupyter-widgets/controls",
     "model_name": "FloatProgressModel",
     "model_module_version": "1.5.0",
     "state": {
      "_dom_classes": [],
      "_model_module": "@jupyter-widgets/controls",
      "_model_module_version": "1.5.0",
      "_model_name": "FloatProgressModel",
      "_view_count": null,
      "_view_module": "@jupyter-widgets/controls",
      "_view_module_version": "1.5.0",
      "_view_name": "ProgressView",
      "bar_style": "success",
      "description": "",
      "description_tooltip": null,
      "layout": "IPY_MODEL_08217ac5dee843478d4ab8877665788a",
      "max": 642,
      "min": 0,
      "orientation": "horizontal",
      "style": "IPY_MODEL_cc403fc14ea4413589fb329a0e5b2b54",
      "value": 642
     }
    },
    "522bd7aff1b54715ad0ddd16a6d21af1": {
     "model_module": "@jupyter-widgets/controls",
     "model_name": "HTMLModel",
     "model_module_version": "1.5.0",
     "state": {
      "_dom_classes": [],
      "_model_module": "@jupyter-widgets/controls",
      "_model_module_version": "1.5.0",
      "_model_name": "HTMLModel",
      "_view_count": null,
      "_view_module": "@jupyter-widgets/controls",
      "_view_module_version": "1.5.0",
      "_view_name": "HTMLView",
      "description": "",
      "description_tooltip": null,
      "layout": "IPY_MODEL_770d7c5f28f6449ea13b408592626c58",
      "placeholder": "​",
      "style": "IPY_MODEL_18039cacd90c455aa83b4b4fabacfcad",
      "value": " 642/642 [00:00&lt;00:00, 33.0kB/s]"
     }
    },
    "af1c5900460547198cc9ba3b8131d16c": {
     "model_module": "@jupyter-widgets/base",
     "model_name": "LayoutModel",
     "model_module_version": "1.2.0",
     "state": {
      "_model_module": "@jupyter-widgets/base",
      "_model_module_version": "1.2.0",
      "_model_name": "LayoutModel",
      "_view_count": null,
      "_view_module": "@jupyter-widgets/base",
      "_view_module_version": "1.2.0",
      "_view_name": "LayoutView",
      "align_content": null,
      "align_items": null,
      "align_self": null,
      "border": null,
      "bottom": null,
      "display": null,
      "flex": null,
      "flex_flow": null,
      "grid_area": null,
      "grid_auto_columns": null,
      "grid_auto_flow": null,
      "grid_auto_rows": null,
      "grid_column": null,
      "grid_gap": null,
      "grid_row": null,
      "grid_template_areas": null,
      "grid_template_columns": null,
      "grid_template_rows": null,
      "height": null,
      "justify_content": null,
      "justify_items": null,
      "left": null,
      "margin": null,
      "max_height": null,
      "max_width": null,
      "min_height": null,
      "min_width": null,
      "object_fit": null,
      "object_position": null,
      "order": null,
      "overflow": null,
      "overflow_x": null,
      "overflow_y": null,
      "padding": null,
      "right": null,
      "top": null,
      "visibility": null,
      "width": null
     }
    },
    "ed5f106684434ff98a0978bd04f48198": {
     "model_module": "@jupyter-widgets/base",
     "model_name": "LayoutModel",
     "model_module_version": "1.2.0",
     "state": {
      "_model_module": "@jupyter-widgets/base",
      "_model_module_version": "1.2.0",
      "_model_name": "LayoutModel",
      "_view_count": null,
      "_view_module": "@jupyter-widgets/base",
      "_view_module_version": "1.2.0",
      "_view_name": "LayoutView",
      "align_content": null,
      "align_items": null,
      "align_self": null,
      "border": null,
      "bottom": null,
      "display": null,
      "flex": null,
      "flex_flow": null,
      "grid_area": null,
      "grid_auto_columns": null,
      "grid_auto_flow": null,
      "grid_auto_rows": null,
      "grid_column": null,
      "grid_gap": null,
      "grid_row": null,
      "grid_template_areas": null,
      "grid_template_columns": null,
      "grid_template_rows": null,
      "height": null,
      "justify_content": null,
      "justify_items": null,
      "left": null,
      "margin": null,
      "max_height": null,
      "max_width": null,
      "min_height": null,
      "min_width": null,
      "object_fit": null,
      "object_position": null,
      "order": null,
      "overflow": null,
      "overflow_x": null,
      "overflow_y": null,
      "padding": null,
      "right": null,
      "top": null,
      "visibility": null,
      "width": null
     }
    },
    "2f7c7224d55d467fac1fc6065a7ebbf3": {
     "model_module": "@jupyter-widgets/controls",
     "model_name": "DescriptionStyleModel",
     "model_module_version": "1.5.0",
     "state": {
      "_model_module": "@jupyter-widgets/controls",
      "_model_module_version": "1.5.0",
      "_model_name": "DescriptionStyleModel",
      "_view_count": null,
      "_view_module": "@jupyter-widgets/base",
      "_view_module_version": "1.2.0",
      "_view_name": "StyleView",
      "description_width": ""
     }
    },
    "08217ac5dee843478d4ab8877665788a": {
     "model_module": "@jupyter-widgets/base",
     "model_name": "LayoutModel",
     "model_module_version": "1.2.0",
     "state": {
      "_model_module": "@jupyter-widgets/base",
      "_model_module_version": "1.2.0",
      "_model_name": "LayoutModel",
      "_view_count": null,
      "_view_module": "@jupyter-widgets/base",
      "_view_module_version": "1.2.0",
      "_view_name": "LayoutView",
      "align_content": null,
      "align_items": null,
      "align_self": null,
      "border": null,
      "bottom": null,
      "display": null,
      "flex": null,
      "flex_flow": null,
      "grid_area": null,
      "grid_auto_columns": null,
      "grid_auto_flow": null,
      "grid_auto_rows": null,
      "grid_column": null,
      "grid_gap": null,
      "grid_row": null,
      "grid_template_areas": null,
      "grid_template_columns": null,
      "grid_template_rows": null,
      "height": null,
      "justify_content": null,
      "justify_items": null,
      "left": null,
      "margin": null,
      "max_height": null,
      "max_width": null,
      "min_height": null,
      "min_width": null,
      "object_fit": null,
      "object_position": null,
      "order": null,
      "overflow": null,
      "overflow_x": null,
      "overflow_y": null,
      "padding": null,
      "right": null,
      "top": null,
      "visibility": null,
      "width": null
     }
    },
    "cc403fc14ea4413589fb329a0e5b2b54": {
     "model_module": "@jupyter-widgets/controls",
     "model_name": "ProgressStyleModel",
     "model_module_version": "1.5.0",
     "state": {
      "_model_module": "@jupyter-widgets/controls",
      "_model_module_version": "1.5.0",
      "_model_name": "ProgressStyleModel",
      "_view_count": null,
      "_view_module": "@jupyter-widgets/base",
      "_view_module_version": "1.2.0",
      "_view_name": "StyleView",
      "bar_color": null,
      "description_width": ""
     }
    },
    "770d7c5f28f6449ea13b408592626c58": {
     "model_module": "@jupyter-widgets/base",
     "model_name": "LayoutModel",
     "model_module_version": "1.2.0",
     "state": {
      "_model_module": "@jupyter-widgets/base",
      "_model_module_version": "1.2.0",
      "_model_name": "LayoutModel",
      "_view_count": null,
      "_view_module": "@jupyter-widgets/base",
      "_view_module_version": "1.2.0",
      "_view_name": "LayoutView",
      "align_content": null,
      "align_items": null,
      "align_self": null,
      "border": null,
      "bottom": null,
      "display": null,
      "flex": null,
      "flex_flow": null,
      "grid_area": null,
      "grid_auto_columns": null,
      "grid_auto_flow": null,
      "grid_auto_rows": null,
      "grid_column": null,
      "grid_gap": null,
      "grid_row": null,
      "grid_template_areas": null,
      "grid_template_columns": null,
      "grid_template_rows": null,
      "height": null,
      "justify_content": null,
      "justify_items": null,
      "left": null,
      "margin": null,
      "max_height": null,
      "max_width": null,
      "min_height": null,
      "min_width": null,
      "object_fit": null,
      "object_position": null,
      "order": null,
      "overflow": null,
      "overflow_x": null,
      "overflow_y": null,
      "padding": null,
      "right": null,
      "top": null,
      "visibility": null,
      "width": null
     }
    },
    "18039cacd90c455aa83b4b4fabacfcad": {
     "model_module": "@jupyter-widgets/controls",
     "model_name": "DescriptionStyleModel",
     "model_module_version": "1.5.0",
     "state": {
      "_model_module": "@jupyter-widgets/controls",
      "_model_module_version": "1.5.0",
      "_model_name": "DescriptionStyleModel",
      "_view_count": null,
      "_view_module": "@jupyter-widgets/base",
      "_view_module_version": "1.2.0",
      "_view_name": "StyleView",
      "description_width": ""
     }
    },
    "924417402fd54699953b724023f89a31": {
     "model_module": "@jupyter-widgets/controls",
     "model_name": "HBoxModel",
     "model_module_version": "1.5.0",
     "state": {
      "_dom_classes": [],
      "_model_module": "@jupyter-widgets/controls",
      "_model_module_version": "1.5.0",
      "_model_name": "HBoxModel",
      "_view_count": null,
      "_view_module": "@jupyter-widgets/controls",
      "_view_module_version": "1.5.0",
      "_view_name": "HBoxView",
      "box_style": "",
      "children": [
       "IPY_MODEL_31ce0647173f40458fbe027e70a9485f",
       "IPY_MODEL_1916ac3341a044e1b105971d95c6cb27",
       "IPY_MODEL_cc70286a93a041d9ada9b580320eb87c"
      ],
      "layout": "IPY_MODEL_f74f11c4e67942a9bcb4f02ce81860df"
     }
    },
    "31ce0647173f40458fbe027e70a9485f": {
     "model_module": "@jupyter-widgets/controls",
     "model_name": "HTMLModel",
     "model_module_version": "1.5.0",
     "state": {
      "_dom_classes": [],
      "_model_module": "@jupyter-widgets/controls",
      "_model_module_version": "1.5.0",
      "_model_name": "HTMLModel",
      "_view_count": null,
      "_view_module": "@jupyter-widgets/controls",
      "_view_module_version": "1.5.0",
      "_view_name": "HTMLView",
      "description": "",
      "description_tooltip": null,
      "layout": "IPY_MODEL_eb8ebff19ff744799155c36bc0dc699d",
      "placeholder": "​",
      "style": "IPY_MODEL_6cff1df0e9e34864ba61dc64ca5f96be",
      "value": "Downloading (…)solve/main/vocab.txt: 100%"
     }
    },
    "1916ac3341a044e1b105971d95c6cb27": {
     "model_module": "@jupyter-widgets/controls",
     "model_name": "FloatProgressModel",
     "model_module_version": "1.5.0",
     "state": {
      "_dom_classes": [],
      "_model_module": "@jupyter-widgets/controls",
      "_model_module_version": "1.5.0",
      "_model_name": "FloatProgressModel",
      "_view_count": null,
      "_view_module": "@jupyter-widgets/controls",
      "_view_module_version": "1.5.0",
      "_view_name": "ProgressView",
      "bar_style": "success",
      "description": "",
      "description_tooltip": null,
      "layout": "IPY_MODEL_17b958f01efe4a609ac369a7f3e56638",
      "max": 1649718,
      "min": 0,
      "orientation": "horizontal",
      "style": "IPY_MODEL_e317baf4ae784041b362cd20e3fc7793",
      "value": 1649718
     }
    },
    "cc70286a93a041d9ada9b580320eb87c": {
     "model_module": "@jupyter-widgets/controls",
     "model_name": "HTMLModel",
     "model_module_version": "1.5.0",
     "state": {
      "_dom_classes": [],
      "_model_module": "@jupyter-widgets/controls",
      "_model_module_version": "1.5.0",
      "_model_name": "HTMLModel",
      "_view_count": null,
      "_view_module": "@jupyter-widgets/controls",
      "_view_module_version": "1.5.0",
      "_view_name": "HTMLView",
      "description": "",
      "description_tooltip": null,
      "layout": "IPY_MODEL_49ba0055fd234f449ac99a1046bff56c",
      "placeholder": "​",
      "style": "IPY_MODEL_25c41fb4a1584c3ab79df2d1eb043534",
      "value": " 1.65M/1.65M [00:00&lt;00:00, 2.62MB/s]"
     }
    },
    "f74f11c4e67942a9bcb4f02ce81860df": {
     "model_module": "@jupyter-widgets/base",
     "model_name": "LayoutModel",
     "model_module_version": "1.2.0",
     "state": {
      "_model_module": "@jupyter-widgets/base",
      "_model_module_version": "1.2.0",
      "_model_name": "LayoutModel",
      "_view_count": null,
      "_view_module": "@jupyter-widgets/base",
      "_view_module_version": "1.2.0",
      "_view_name": "LayoutView",
      "align_content": null,
      "align_items": null,
      "align_self": null,
      "border": null,
      "bottom": null,
      "display": null,
      "flex": null,
      "flex_flow": null,
      "grid_area": null,
      "grid_auto_columns": null,
      "grid_auto_flow": null,
      "grid_auto_rows": null,
      "grid_column": null,
      "grid_gap": null,
      "grid_row": null,
      "grid_template_areas": null,
      "grid_template_columns": null,
      "grid_template_rows": null,
      "height": null,
      "justify_content": null,
      "justify_items": null,
      "left": null,
      "margin": null,
      "max_height": null,
      "max_width": null,
      "min_height": null,
      "min_width": null,
      "object_fit": null,
      "object_position": null,
      "order": null,
      "overflow": null,
      "overflow_x": null,
      "overflow_y": null,
      "padding": null,
      "right": null,
      "top": null,
      "visibility": null,
      "width": null
     }
    },
    "eb8ebff19ff744799155c36bc0dc699d": {
     "model_module": "@jupyter-widgets/base",
     "model_name": "LayoutModel",
     "model_module_version": "1.2.0",
     "state": {
      "_model_module": "@jupyter-widgets/base",
      "_model_module_version": "1.2.0",
      "_model_name": "LayoutModel",
      "_view_count": null,
      "_view_module": "@jupyter-widgets/base",
      "_view_module_version": "1.2.0",
      "_view_name": "LayoutView",
      "align_content": null,
      "align_items": null,
      "align_self": null,
      "border": null,
      "bottom": null,
      "display": null,
      "flex": null,
      "flex_flow": null,
      "grid_area": null,
      "grid_auto_columns": null,
      "grid_auto_flow": null,
      "grid_auto_rows": null,
      "grid_column": null,
      "grid_gap": null,
      "grid_row": null,
      "grid_template_areas": null,
      "grid_template_columns": null,
      "grid_template_rows": null,
      "height": null,
      "justify_content": null,
      "justify_items": null,
      "left": null,
      "margin": null,
      "max_height": null,
      "max_width": null,
      "min_height": null,
      "min_width": null,
      "object_fit": null,
      "object_position": null,
      "order": null,
      "overflow": null,
      "overflow_x": null,
      "overflow_y": null,
      "padding": null,
      "right": null,
      "top": null,
      "visibility": null,
      "width": null
     }
    },
    "6cff1df0e9e34864ba61dc64ca5f96be": {
     "model_module": "@jupyter-widgets/controls",
     "model_name": "DescriptionStyleModel",
     "model_module_version": "1.5.0",
     "state": {
      "_model_module": "@jupyter-widgets/controls",
      "_model_module_version": "1.5.0",
      "_model_name": "DescriptionStyleModel",
      "_view_count": null,
      "_view_module": "@jupyter-widgets/base",
      "_view_module_version": "1.2.0",
      "_view_name": "StyleView",
      "description_width": ""
     }
    },
    "17b958f01efe4a609ac369a7f3e56638": {
     "model_module": "@jupyter-widgets/base",
     "model_name": "LayoutModel",
     "model_module_version": "1.2.0",
     "state": {
      "_model_module": "@jupyter-widgets/base",
      "_model_module_version": "1.2.0",
      "_model_name": "LayoutModel",
      "_view_count": null,
      "_view_module": "@jupyter-widgets/base",
      "_view_module_version": "1.2.0",
      "_view_name": "LayoutView",
      "align_content": null,
      "align_items": null,
      "align_self": null,
      "border": null,
      "bottom": null,
      "display": null,
      "flex": null,
      "flex_flow": null,
      "grid_area": null,
      "grid_auto_columns": null,
      "grid_auto_flow": null,
      "grid_auto_rows": null,
      "grid_column": null,
      "grid_gap": null,
      "grid_row": null,
      "grid_template_areas": null,
      "grid_template_columns": null,
      "grid_template_rows": null,
      "height": null,
      "justify_content": null,
      "justify_items": null,
      "left": null,
      "margin": null,
      "max_height": null,
      "max_width": null,
      "min_height": null,
      "min_width": null,
      "object_fit": null,
      "object_position": null,
      "order": null,
      "overflow": null,
      "overflow_x": null,
      "overflow_y": null,
      "padding": null,
      "right": null,
      "top": null,
      "visibility": null,
      "width": null
     }
    },
    "e317baf4ae784041b362cd20e3fc7793": {
     "model_module": "@jupyter-widgets/controls",
     "model_name": "ProgressStyleModel",
     "model_module_version": "1.5.0",
     "state": {
      "_model_module": "@jupyter-widgets/controls",
      "_model_module_version": "1.5.0",
      "_model_name": "ProgressStyleModel",
      "_view_count": null,
      "_view_module": "@jupyter-widgets/base",
      "_view_module_version": "1.2.0",
      "_view_name": "StyleView",
      "bar_color": null,
      "description_width": ""
     }
    },
    "49ba0055fd234f449ac99a1046bff56c": {
     "model_module": "@jupyter-widgets/base",
     "model_name": "LayoutModel",
     "model_module_version": "1.2.0",
     "state": {
      "_model_module": "@jupyter-widgets/base",
      "_model_module_version": "1.2.0",
      "_model_name": "LayoutModel",
      "_view_count": null,
      "_view_module": "@jupyter-widgets/base",
      "_view_module_version": "1.2.0",
      "_view_name": "LayoutView",
      "align_content": null,
      "align_items": null,
      "align_self": null,
      "border": null,
      "bottom": null,
      "display": null,
      "flex": null,
      "flex_flow": null,
      "grid_area": null,
      "grid_auto_columns": null,
      "grid_auto_flow": null,
      "grid_auto_rows": null,
      "grid_column": null,
      "grid_gap": null,
      "grid_row": null,
      "grid_template_areas": null,
      "grid_template_columns": null,
      "grid_template_rows": null,
      "height": null,
      "justify_content": null,
      "justify_items": null,
      "left": null,
      "margin": null,
      "max_height": null,
      "max_width": null,
      "min_height": null,
      "min_width": null,
      "object_fit": null,
      "object_position": null,
      "order": null,
      "overflow": null,
      "overflow_x": null,
      "overflow_y": null,
      "padding": null,
      "right": null,
      "top": null,
      "visibility": null,
      "width": null
     }
    },
    "25c41fb4a1584c3ab79df2d1eb043534": {
     "model_module": "@jupyter-widgets/controls",
     "model_name": "DescriptionStyleModel",
     "model_module_version": "1.5.0",
     "state": {
      "_model_module": "@jupyter-widgets/controls",
      "_model_module_version": "1.5.0",
      "_model_name": "DescriptionStyleModel",
      "_view_count": null,
      "_view_module": "@jupyter-widgets/base",
      "_view_module_version": "1.2.0",
      "_view_name": "StyleView",
      "description_width": ""
     }
    },
    "6d47c74d7af14c0183d45fc6a3643c92": {
     "model_module": "@jupyter-widgets/controls",
     "model_name": "HBoxModel",
     "model_module_version": "1.5.0",
     "state": {
      "_dom_classes": [],
      "_model_module": "@jupyter-widgets/controls",
      "_model_module_version": "1.5.0",
      "_model_name": "HBoxModel",
      "_view_count": null,
      "_view_module": "@jupyter-widgets/controls",
      "_view_module_version": "1.5.0",
      "_view_name": "HBoxView",
      "box_style": "",
      "children": [
       "IPY_MODEL_0b5dd06c43dc46088ef4411429f3d3b7",
       "IPY_MODEL_45998126280f45c88276d24c82f65332",
       "IPY_MODEL_d3ca8f9a35b548d991c1f3fbddfdc69a"
      ],
      "layout": "IPY_MODEL_eef63a8b1ffe46bbbf58e21a37b89d7a"
     }
    },
    "0b5dd06c43dc46088ef4411429f3d3b7": {
     "model_module": "@jupyter-widgets/controls",
     "model_name": "HTMLModel",
     "model_module_version": "1.5.0",
     "state": {
      "_dom_classes": [],
      "_model_module": "@jupyter-widgets/controls",
      "_model_module_version": "1.5.0",
      "_model_name": "HTMLModel",
      "_view_count": null,
      "_view_module": "@jupyter-widgets/controls",
      "_view_module_version": "1.5.0",
      "_view_name": "HTMLView",
      "description": "",
      "description_tooltip": null,
      "layout": "IPY_MODEL_c9cb6eca391d48069eeeaa23aec15dbf",
      "placeholder": "​",
      "style": "IPY_MODEL_ace6d80e61d241dc917881d8d32def76",
      "value": "Downloading (…)cial_tokens_map.json: 100%"
     }
    },
    "45998126280f45c88276d24c82f65332": {
     "model_module": "@jupyter-widgets/controls",
     "model_name": "FloatProgressModel",
     "model_module_version": "1.5.0",
     "state": {
      "_dom_classes": [],
      "_model_module": "@jupyter-widgets/controls",
      "_model_module_version": "1.5.0",
      "_model_name": "FloatProgressModel",
      "_view_count": null,
      "_view_module": "@jupyter-widgets/controls",
      "_view_module_version": "1.5.0",
      "_view_name": "ProgressView",
      "bar_style": "success",
      "description": "",
      "description_tooltip": null,
      "layout": "IPY_MODEL_1968ac56918a4febb68bcd90ef71b7a6",
      "max": 112,
      "min": 0,
      "orientation": "horizontal",
      "style": "IPY_MODEL_e3e4b9f3010a499e905f6e11c658295e",
      "value": 112
     }
    },
    "d3ca8f9a35b548d991c1f3fbddfdc69a": {
     "model_module": "@jupyter-widgets/controls",
     "model_name": "HTMLModel",
     "model_module_version": "1.5.0",
     "state": {
      "_dom_classes": [],
      "_model_module": "@jupyter-widgets/controls",
      "_model_module_version": "1.5.0",
      "_model_name": "HTMLModel",
      "_view_count": null,
      "_view_module": "@jupyter-widgets/controls",
      "_view_module_version": "1.5.0",
      "_view_name": "HTMLView",
      "description": "",
      "description_tooltip": null,
      "layout": "IPY_MODEL_354281746a03492dbb972fc2fd790ebf",
      "placeholder": "​",
      "style": "IPY_MODEL_200ffde9437a47619ecbcb21fc8a1e08",
      "value": " 112/112 [00:00&lt;00:00, 2.17kB/s]"
     }
    },
    "eef63a8b1ffe46bbbf58e21a37b89d7a": {
     "model_module": "@jupyter-widgets/base",
     "model_name": "LayoutModel",
     "model_module_version": "1.2.0",
     "state": {
      "_model_module": "@jupyter-widgets/base",
      "_model_module_version": "1.2.0",
      "_model_name": "LayoutModel",
      "_view_count": null,
      "_view_module": "@jupyter-widgets/base",
      "_view_module_version": "1.2.0",
      "_view_name": "LayoutView",
      "align_content": null,
      "align_items": null,
      "align_self": null,
      "border": null,
      "bottom": null,
      "display": null,
      "flex": null,
      "flex_flow": null,
      "grid_area": null,
      "grid_auto_columns": null,
      "grid_auto_flow": null,
      "grid_auto_rows": null,
      "grid_column": null,
      "grid_gap": null,
      "grid_row": null,
      "grid_template_areas": null,
      "grid_template_columns": null,
      "grid_template_rows": null,
      "height": null,
      "justify_content": null,
      "justify_items": null,
      "left": null,
      "margin": null,
      "max_height": null,
      "max_width": null,
      "min_height": null,
      "min_width": null,
      "object_fit": null,
      "object_position": null,
      "order": null,
      "overflow": null,
      "overflow_x": null,
      "overflow_y": null,
      "padding": null,
      "right": null,
      "top": null,
      "visibility": null,
      "width": null
     }
    },
    "c9cb6eca391d48069eeeaa23aec15dbf": {
     "model_module": "@jupyter-widgets/base",
     "model_name": "LayoutModel",
     "model_module_version": "1.2.0",
     "state": {
      "_model_module": "@jupyter-widgets/base",
      "_model_module_version": "1.2.0",
      "_model_name": "LayoutModel",
      "_view_count": null,
      "_view_module": "@jupyter-widgets/base",
      "_view_module_version": "1.2.0",
      "_view_name": "LayoutView",
      "align_content": null,
      "align_items": null,
      "align_self": null,
      "border": null,
      "bottom": null,
      "display": null,
      "flex": null,
      "flex_flow": null,
      "grid_area": null,
      "grid_auto_columns": null,
      "grid_auto_flow": null,
      "grid_auto_rows": null,
      "grid_column": null,
      "grid_gap": null,
      "grid_row": null,
      "grid_template_areas": null,
      "grid_template_columns": null,
      "grid_template_rows": null,
      "height": null,
      "justify_content": null,
      "justify_items": null,
      "left": null,
      "margin": null,
      "max_height": null,
      "max_width": null,
      "min_height": null,
      "min_width": null,
      "object_fit": null,
      "object_position": null,
      "order": null,
      "overflow": null,
      "overflow_x": null,
      "overflow_y": null,
      "padding": null,
      "right": null,
      "top": null,
      "visibility": null,
      "width": null
     }
    },
    "ace6d80e61d241dc917881d8d32def76": {
     "model_module": "@jupyter-widgets/controls",
     "model_name": "DescriptionStyleModel",
     "model_module_version": "1.5.0",
     "state": {
      "_model_module": "@jupyter-widgets/controls",
      "_model_module_version": "1.5.0",
      "_model_name": "DescriptionStyleModel",
      "_view_count": null,
      "_view_module": "@jupyter-widgets/base",
      "_view_module_version": "1.2.0",
      "_view_name": "StyleView",
      "description_width": ""
     }
    },
    "1968ac56918a4febb68bcd90ef71b7a6": {
     "model_module": "@jupyter-widgets/base",
     "model_name": "LayoutModel",
     "model_module_version": "1.2.0",
     "state": {
      "_model_module": "@jupyter-widgets/base",
      "_model_module_version": "1.2.0",
      "_model_name": "LayoutModel",
      "_view_count": null,
      "_view_module": "@jupyter-widgets/base",
      "_view_module_version": "1.2.0",
      "_view_name": "LayoutView",
      "align_content": null,
      "align_items": null,
      "align_self": null,
      "border": null,
      "bottom": null,
      "display": null,
      "flex": null,
      "flex_flow": null,
      "grid_area": null,
      "grid_auto_columns": null,
      "grid_auto_flow": null,
      "grid_auto_rows": null,
      "grid_column": null,
      "grid_gap": null,
      "grid_row": null,
      "grid_template_areas": null,
      "grid_template_columns": null,
      "grid_template_rows": null,
      "height": null,
      "justify_content": null,
      "justify_items": null,
      "left": null,
      "margin": null,
      "max_height": null,
      "max_width": null,
      "min_height": null,
      "min_width": null,
      "object_fit": null,
      "object_position": null,
      "order": null,
      "overflow": null,
      "overflow_x": null,
      "overflow_y": null,
      "padding": null,
      "right": null,
      "top": null,
      "visibility": null,
      "width": null
     }
    },
    "e3e4b9f3010a499e905f6e11c658295e": {
     "model_module": "@jupyter-widgets/controls",
     "model_name": "ProgressStyleModel",
     "model_module_version": "1.5.0",
     "state": {
      "_model_module": "@jupyter-widgets/controls",
      "_model_module_version": "1.5.0",
      "_model_name": "ProgressStyleModel",
      "_view_count": null,
      "_view_module": "@jupyter-widgets/base",
      "_view_module_version": "1.2.0",
      "_view_name": "StyleView",
      "bar_color": null,
      "description_width": ""
     }
    },
    "354281746a03492dbb972fc2fd790ebf": {
     "model_module": "@jupyter-widgets/base",
     "model_name": "LayoutModel",
     "model_module_version": "1.2.0",
     "state": {
      "_model_module": "@jupyter-widgets/base",
      "_model_module_version": "1.2.0",
      "_model_name": "LayoutModel",
      "_view_count": null,
      "_view_module": "@jupyter-widgets/base",
      "_view_module_version": "1.2.0",
      "_view_name": "LayoutView",
      "align_content": null,
      "align_items": null,
      "align_self": null,
      "border": null,
      "bottom": null,
      "display": null,
      "flex": null,
      "flex_flow": null,
      "grid_area": null,
      "grid_auto_columns": null,
      "grid_auto_flow": null,
      "grid_auto_rows": null,
      "grid_column": null,
      "grid_gap": null,
      "grid_row": null,
      "grid_template_areas": null,
      "grid_template_columns": null,
      "grid_template_rows": null,
      "height": null,
      "justify_content": null,
      "justify_items": null,
      "left": null,
      "margin": null,
      "max_height": null,
      "max_width": null,
      "min_height": null,
      "min_width": null,
      "object_fit": null,
      "object_position": null,
      "order": null,
      "overflow": null,
      "overflow_x": null,
      "overflow_y": null,
      "padding": null,
      "right": null,
      "top": null,
      "visibility": null,
      "width": null
     }
    },
    "200ffde9437a47619ecbcb21fc8a1e08": {
     "model_module": "@jupyter-widgets/controls",
     "model_name": "DescriptionStyleModel",
     "model_module_version": "1.5.0",
     "state": {
      "_model_module": "@jupyter-widgets/controls",
      "_model_module_version": "1.5.0",
      "_model_name": "DescriptionStyleModel",
      "_view_count": null,
      "_view_module": "@jupyter-widgets/base",
      "_view_module_version": "1.2.0",
      "_view_name": "StyleView",
      "description_width": ""
     }
    }
   }
  }
 },
 "nbformat_minor": 0,
 "nbformat": 4,
 "cells": [
  {
   "cell_type": "markdown",
   "source": [
    "### Setting the environment"
   ],
   "metadata": {
    "id": "45b-W8wowtX0"
   }
  },
  {
   "cell_type": "code",
   "source": [
    "!pip install fastNLP==1.0.1 -q\n",
    "!pip install transformers -q\n",
    "!pip install sparse==0.13.0 -q\n",
    "!pip install torch==1.11.0+cu113 --extra-index-url https://download.pytorch.org/whl/cu113 -q\n",
    "!pip install llvmlite==0.38.1 --user -q\n",
    "!pip install numba==0.55.2 --user -q\n",
    "!pip install adjustText -q"
   ],
   "metadata": {
    "_uuid": "8f2839f25d086af736a60e9eeb907d3b93b6e0e5",
    "_cell_guid": "b1076dfc-b9ad-4769-8c92-a6c4dae69d19",
    "execution": {
     "iopub.status.busy": "2023-05-16T18:12:28.483568Z",
     "iopub.execute_input": "2023-05-16T18:12:28.484651Z",
     "iopub.status.idle": "2023-05-16T18:15:13.390898Z",
     "shell.execute_reply.started": "2023-05-16T18:12:28.484615Z",
     "shell.execute_reply": "2023-05-16T18:15:13.388843Z"
    },
    "trusted": true,
    "colab": {
     "base_uri": "https://localhost:8080/"
    },
    "id": "OAUZVXERwtX7",
    "outputId": "ded1f9cd-6225-4371-bbdc-26d61067411e"
   },
   "execution_count": 3,
   "outputs": [
    {
     "output_type": "stream",
     "name": "stdout",
     "text": [
      "\u001B[?25l     \u001B[90m━━━━━━━━━━━━━━━━━━━━━━━━━━━━━━━━━━━━━━━━\u001B[0m \u001B[32m0.0/644.7 kB\u001B[0m \u001B[31m?\u001B[0m eta \u001B[36m-:--:--\u001B[0m\r\u001B[2K     \u001B[90m━━━━━━━━━━━━━━━━━━━━━━━━━━━━━━━━━━━━━━\u001B[0m \u001B[32m644.7/644.7 kB\u001B[0m \u001B[31m43.9 MB/s\u001B[0m eta \u001B[36m0:00:00\u001B[0m\n",
      "\u001B[?25h  Preparing metadata (setup.py) ... \u001B[?25l\u001B[?25hdone\n",
      "\u001B[2K     \u001B[90m━━━━━━━━━━━━━━━━━━━━━━━━━━━━━━━━━━━━━━\u001B[0m \u001B[32m217.3/217.3 kB\u001B[0m \u001B[31m26.8 MB/s\u001B[0m eta \u001B[36m0:00:00\u001B[0m\n",
      "\u001B[2K     \u001B[90m━━━━━━━━━━━━━━━━━━━━━━━━━━━━━━━━━━━━━━━━\u001B[0m \u001B[32m51.1/51.1 kB\u001B[0m \u001B[31m7.0 MB/s\u001B[0m eta \u001B[36m0:00:00\u001B[0m\n",
      "\u001B[?25h  Building wheel for fastNLP (setup.py) ... \u001B[?25l\u001B[?25hdone\n",
      "\u001B[2K     \u001B[90m━━━━━━━━━━━━━━━━━━━━━━━━━━━━━━━━━━━━━━━━\u001B[0m \u001B[32m7.1/7.1 MB\u001B[0m \u001B[31m107.5 MB/s\u001B[0m eta \u001B[36m0:00:00\u001B[0m\n",
      "\u001B[2K     \u001B[90m━━━━━━━━━━━━━━━━━━━━━━━━━━━━━━━━━━━━━━\u001B[0m \u001B[32m224.5/224.5 kB\u001B[0m \u001B[31m27.1 MB/s\u001B[0m eta \u001B[36m0:00:00\u001B[0m\n",
      "\u001B[2K     \u001B[90m━━━━━━━━━━━━━━━━━━━━━━━━━━━━━━━━━━━━━━━━\u001B[0m \u001B[32m7.8/7.8 MB\u001B[0m \u001B[31m116.4 MB/s\u001B[0m eta \u001B[36m0:00:00\u001B[0m\n",
      "\u001B[2K     \u001B[90m━━━━━━━━━━━━━━━━━━━━━━━━━━━━━━━━━━━━━━━━\u001B[0m \u001B[32m77.8/77.8 kB\u001B[0m \u001B[31m9.1 MB/s\u001B[0m eta \u001B[36m0:00:00\u001B[0m\n",
      "\u001B[2K     \u001B[90m━━━━━━━━━━━━━━━━━━━━━━━━━━━━━━━━━━━━━━━━\u001B[0m \u001B[32m1.6/1.6 GB\u001B[0m \u001B[31m758.2 kB/s\u001B[0m eta \u001B[36m0:00:00\u001B[0m\n",
      "\u001B[?25h\u001B[31mERROR: pip's dependency resolver does not currently take into account all the packages that are installed. This behaviour is the source of the following dependency conflicts.\n",
      "torchaudio 2.0.2+cu118 requires torch==2.0.1, but you have torch 1.11.0+cu113 which is incompatible.\n",
      "torchdata 0.6.1 requires torch==2.0.1, but you have torch 1.11.0+cu113 which is incompatible.\n",
      "torchtext 0.15.2 requires torch==2.0.1, but you have torch 1.11.0+cu113 which is incompatible.\n",
      "torchvision 0.15.2+cu118 requires torch==2.0.1, but you have torch 1.11.0+cu113 which is incompatible.\u001B[0m\u001B[31m\n",
      "\u001B[2K     \u001B[90m━━━━━━━━━━━━━━━━━━━━━━━━━━━━━━━━━━━━━━━━\u001B[0m \u001B[32m34.5/34.5 MB\u001B[0m \u001B[31m40.0 MB/s\u001B[0m eta \u001B[36m0:00:00\u001B[0m\n",
      "\u001B[?25h\u001B[31mERROR: pip's dependency resolver does not currently take into account all the packages that are installed. This behaviour is the source of the following dependency conflicts.\n",
      "numba 0.56.4 requires llvmlite<0.40,>=0.39.0dev0, but you have llvmlite 0.38.1 which is incompatible.\u001B[0m\u001B[31m\n",
      "\u001B[2K     \u001B[90m━━━━━━━━━━━━━━━━━━━━━━━━━━━━━━━━━━━━━━━━\u001B[0m \u001B[32m3.4/3.4 MB\u001B[0m \u001B[31m69.2 MB/s\u001B[0m eta \u001B[36m0:00:00\u001B[0m\n",
      "\u001B[?25h"
     ]
    }
   ]
  },
  {
   "cell_type": "code",
   "source": [
    "import torch\n",
    "print(torch.__version__)"
   ],
   "metadata": {
    "execution": {
     "iopub.status.busy": "2023-05-16T18:15:13.394824Z",
     "iopub.execute_input": "2023-05-16T18:15:13.395184Z",
     "iopub.status.idle": "2023-05-16T18:15:14.304249Z",
     "shell.execute_reply.started": "2023-05-16T18:15:13.395153Z",
     "shell.execute_reply": "2023-05-16T18:15:14.302866Z"
    },
    "trusted": true,
    "colab": {
     "base_uri": "https://localhost:8080/"
    },
    "id": "PlvFH4p-wtX_",
    "outputId": "938af171-8579-4dad-8516-91e51144c241"
   },
   "execution_count": 4,
   "outputs": [
    {
     "output_type": "stream",
     "name": "stdout",
     "text": [
      "1.11.0+cu113\n"
     ]
    }
   ]
  },
  {
   "cell_type": "code",
   "source": [
    "!nvcc --version"
   ],
   "metadata": {
    "execution": {
     "iopub.status.busy": "2023-05-16T18:15:14.305969Z",
     "iopub.execute_input": "2023-05-16T18:15:14.306504Z",
     "iopub.status.idle": "2023-05-16T18:15:14.616253Z",
     "shell.execute_reply.started": "2023-05-16T18:15:14.306476Z",
     "shell.execute_reply": "2023-05-16T18:15:14.615267Z"
    },
    "trusted": true,
    "colab": {
     "base_uri": "https://localhost:8080/"
    },
    "id": "GWhOQaEjwtYA",
    "outputId": "fe2ec1e1-1e3e-49d2-b09c-bde13099c7cc"
   },
   "execution_count": 5,
   "outputs": [
    {
     "output_type": "stream",
     "name": "stdout",
     "text": [
      "nvcc: NVIDIA (R) Cuda compiler driver\n",
      "Copyright (c) 2005-2022 NVIDIA Corporation\n",
      "Built on Wed_Sep_21_10:33:58_PDT_2022\n",
      "Cuda compilation tools, release 11.8, V11.8.89\n",
      "Build cuda_11.8.r11.8/compiler.31833905_0\n"
     ]
    }
   ]
  },
  {
   "cell_type": "code",
   "source": [
    "!pip install torch-scatter==2.0.9 --no-index -f https://data.pyg.org/whl/torch-{torch.__version__}.html "
   ],
   "metadata": {
    "execution": {
     "iopub.status.busy": "2023-05-16T18:15:14.618602Z",
     "iopub.execute_input": "2023-05-16T18:15:14.618938Z",
     "iopub.status.idle": "2023-05-16T18:15:26.572113Z",
     "shell.execute_reply.started": "2023-05-16T18:15:14.618910Z",
     "shell.execute_reply": "2023-05-16T18:15:26.570484Z"
    },
    "trusted": true,
    "colab": {
     "base_uri": "https://localhost:8080/"
    },
    "id": "DBPSc3NcwtYA",
    "outputId": "5228409a-2f81-4315-80f2-39fac157d71c"
   },
   "execution_count": 6,
   "outputs": [
    {
     "output_type": "stream",
     "name": "stdout",
     "text": [
      "Looking in links: https://data.pyg.org/whl/torch-1.11.0+cu113.html\n",
      "Collecting torch-scatter==2.0.9\n",
      "  Downloading https://data.pyg.org/whl/torch-1.11.0%2Bcu113/torch_scatter-2.0.9-cp310-cp310-linux_x86_64.whl (7.9 MB)\n",
      "\u001B[2K     \u001B[90m━━━━━━━━━━━━━━━━━━━━━━━━━━━━━━━━━━━━━━━━\u001B[0m \u001B[32m7.9/7.9 MB\u001B[0m \u001B[31m4.8 MB/s\u001B[0m eta \u001B[36m0:00:00\u001B[0m\n",
      "\u001B[?25hInstalling collected packages: torch-scatter\n",
      "Successfully installed torch-scatter-2.0.9\n"
     ]
    }
   ]
  },
  {
   "cell_type": "code",
   "source": [
    "import json\n",
    "import warnings\n",
    "import argparse\n",
    "\n",
    "if 'p' in os.environ:\n",
    "    os.environ['CUDA_VISIBLE_DEVICES'] = os.environ['p']\n",
    "os.environ['TOKENIZERS_PARALLELISM'] = 'false'\n",
    "os.environ['MKL_THREADING_LAYER'] = 'GNU'\n",
    "warnings.filterwarnings('ignore')\n",
    "\n",
    "import pandas as pd\n",
    "import numpy as np\n",
    "import fastNLP\n",
    "from fastNLP import cache_results, prepare_torch_dataloader\n",
    "from fastNLP import Evaluator\n",
    "from fastNLP import SortedSampler, BucketedBatchSampler\n",
    "\n",
    "from model.model import CNNNer\n",
    "from model.metrics import NERMetric\n",
    "from preprocessing.ner_pipe import SpanNerPipe\n",
    "from preprocessing.padder import Torch3DMatrixPadder\n",
    "from model.metrics_utils import decode\n",
    "from fastNLP import print as pr\n",
    "from tqdm.notebook import tqdm\n",
    "\n",
    "import matplotlib.pyplot as plt \n",
    "from adjustText import adjust_text \n",
    "\n",
    "\n",
    "seed_value=42\n",
    "np.random.seed(seed_value)\n",
    "torch.manual_seed(seed_value)\n",
    "torch.cuda.manual_seed_all(seed_value)\n",
    "os.environ['FASTNLP_GLOBAL_SEED'] = str(seed_value)\n",
    "\n",
    "device = torch.device('cuda' if torch.cuda.is_available() else 'cpu')"
   ],
   "metadata": {
    "execution": {
     "iopub.status.busy": "2023-05-16T18:15:26.952889Z",
     "iopub.execute_input": "2023-05-16T18:15:26.954107Z",
     "iopub.status.idle": "2023-05-16T18:15:33.516426Z",
     "shell.execute_reply.started": "2023-05-16T18:15:26.954016Z",
     "shell.execute_reply": "2023-05-16T18:15:33.514879Z"
    },
    "trusted": true,
    "colab": {
     "base_uri": "https://localhost:8080/",
     "height": 17
    },
    "id": "Fn59MuIfwtYB",
    "outputId": "12726978-2193-4853-a2e7-c94613db5640"
   },
   "execution_count": 7,
   "outputs": [
    {
     "output_type": "display_data",
     "data": {
      "text/plain": [
       "\n"
      ],
      "text/html": [
       "<pre style=\"white-space:pre;overflow-x:auto;line-height:normal;font-family:Menlo,'DejaVu Sans Mono',consolas,'Courier New',monospace\">\n",
       "</pre>\n"
      ]
     },
     "metadata": {}
    }
   ]
  },
  {
   "cell_type": "code",
   "source": [
    "def calculate(path):\n",
    "    max_sent_len = 0\n",
    "    total_lengths = 0\n",
    "    total_ent_length = 0\n",
    "    max_ent_length = 0\n",
    "    num_ents = 0\n",
    "    overlapped_ent_num = 0\n",
    "    num_sent = 0\n",
    "    with open(path, 'r') as f:\n",
    "        for line in f:\n",
    "            num_sent += 1\n",
    "            data = json.loads(line.strip())\n",
    "            max_sent_len = max(max_sent_len, len(data['tokens']))\n",
    "            total_lengths += len(data['tokens'])\n",
    "            flags = [0]*len(data['tokens'])\n",
    "            for ent in data['entity_mentions']:\n",
    "                num_ents += 1\n",
    "                start, end = ent['start'], ent['end']\n",
    "                total_ent_length += ent['end'] - ent['start']\n",
    "                max_ent_length = max(max_ent_length, ent['end'] - ent['start'])\n",
    "                for i in range(start, end):\n",
    "                    flags[i] += 1\n",
    "            for ent in data['entity_mentions']:\n",
    "                start, end = ent['start'], ent['end']\n",
    "                if any([flags[i]>1 for i in range(start, end)]):\n",
    "                    overlapped_ent_num += 1\n",
    "\n",
    "    pr(f\"For {path}\")\n",
    "    pr(\"total sentence \", num_sent)\n",
    "    pr(\"average sentence length \", total_lengths/num_sent)\n",
    "    pr(\"max sentence length \", max_sent_len)\n",
    "\n",
    "    pr('num_entities ', num_ents)\n",
    "    pr('average entity length  ', total_ent_length/num_ents)\n",
    "    pr('max entity length  ', max_ent_length)\n",
    "    pr(\"Number of nested entity \", overlapped_ent_num)\n",
    "\n",
    "    pr(\"Number of tokens \", total_lengths)\n",
    "    pr()\n",
    "    \n",
    "def get_stats(directory): \n",
    "    for name in ['train', 'dev', 'test']:\n",
    "        path = f'{directory}/{name}.jsonl'\n",
    "        calculate(path)"
   ],
   "metadata": {
    "execution": {
     "iopub.status.busy": "2023-05-16T18:15:33.517493Z",
     "iopub.execute_input": "2023-05-16T18:15:33.517774Z",
     "iopub.status.idle": "2023-05-16T18:15:33.530721Z",
     "shell.execute_reply.started": "2023-05-16T18:15:33.517745Z",
     "shell.execute_reply": "2023-05-16T18:15:33.529772Z"
    },
    "trusted": true,
    "id": "PSXDM2wRwtYC"
   },
   "execution_count": 8,
   "outputs": []
  },
  {
   "cell_type": "code",
   "source": [
    "get_stats('datasets/outputs/nerel_common_labels')"
   ],
   "metadata": {
    "execution": {
     "iopub.status.busy": "2023-05-16T18:15:33.531913Z",
     "iopub.execute_input": "2023-05-16T18:15:33.533124Z",
     "iopub.status.idle": "2023-05-16T18:15:33.858052Z",
     "shell.execute_reply.started": "2023-05-16T18:15:33.533097Z",
     "shell.execute_reply": "2023-05-16T18:15:33.855888Z"
    },
    "trusted": true,
    "colab": {
     "base_uri": "https://localhost:8080/",
     "height": 680
    },
    "id": "XymCa7a9wtYD",
    "outputId": "27e73ede-caed-4cac-fa31-9f44277418a2"
   },
   "execution_count": 9,
   "outputs": [
    {
     "output_type": "display_data",
     "data": {
      "text/plain": [
       "\u001B[2;36m[21:42:14]\u001B[0m\u001B[2;36m \u001B[0m\u001B[34mINFO    \u001B[0m For datasets/outputs/nerel_common_label \u001B]8;id=114369;file://<ipython-input-8-34328a1283e6>\u001B\\\u001B[2m<ipython-input-8-34328a1283e6>\u001B[0m\u001B]8;;\u001B\\\u001B[2m:\u001B[0m\u001B]8;id=304191;file://<ipython-input-8-34328a1283e6>#28\u001B\\\u001B[2m28\u001B[0m\u001B]8;;\u001B\\\n",
       "\u001B[2;36m           \u001B[0m         s/train.jsonl                           \u001B[2m                                 \u001B[0m\n"
      ],
      "text/html": [
       "<pre style=\"white-space:pre;overflow-x:auto;line-height:normal;font-family:Menlo,'DejaVu Sans Mono',consolas,'Courier New',monospace\"><span style=\"color: #7fbfbf; text-decoration-color: #7fbfbf\">[21:42:14] </span><span style=\"color: #000080; text-decoration-color: #000080\">INFO    </span> For datasets/outputs/nerel_common_label <a href=\"file://<ipython-input-8-34328a1283e6>\"><span style=\"color: #7f7f7f; text-decoration-color: #7f7f7f\">&lt;ipython-input-8-34328a1283e6&gt;</span></a><span style=\"color: #7f7f7f; text-decoration-color: #7f7f7f\">:</span><a href=\"file://<ipython-input-8-34328a1283e6>#28\"><span style=\"color: #7f7f7f; text-decoration-color: #7f7f7f\">28</span></a>\n",
       "<span style=\"color: #7fbfbf; text-decoration-color: #7fbfbf\">           </span>         s/train.jsonl                           <span style=\"color: #7f7f7f; text-decoration-color: #7f7f7f\">                                 </span>\n",
       "</pre>\n"
      ]
     },
     "metadata": {}
    },
    {
     "output_type": "display_data",
     "data": {
      "text/plain": [
       "\u001B[2;36m          \u001B[0m\u001B[2;36m \u001B[0m\u001B[34mINFO    \u001B[0m total sentence  \u001B[1;36m3983\u001B[0m                    \u001B]8;id=572436;file://<ipython-input-8-34328a1283e6>\u001B\\\u001B[2m<ipython-input-8-34328a1283e6>\u001B[0m\u001B]8;;\u001B\\\u001B[2m:\u001B[0m\u001B]8;id=792352;file://<ipython-input-8-34328a1283e6>#29\u001B\\\u001B[2m29\u001B[0m\u001B]8;;\u001B\\\n"
      ],
      "text/html": [
       "<pre style=\"white-space:pre;overflow-x:auto;line-height:normal;font-family:Menlo,'DejaVu Sans Mono',consolas,'Courier New',monospace\"><span style=\"color: #7fbfbf; text-decoration-color: #7fbfbf\">           </span><span style=\"color: #000080; text-decoration-color: #000080\">INFO    </span> total sentence  <span style=\"color: #008080; text-decoration-color: #008080; font-weight: bold\">3983</span>                    <a href=\"file://<ipython-input-8-34328a1283e6>\"><span style=\"color: #7f7f7f; text-decoration-color: #7f7f7f\">&lt;ipython-input-8-34328a1283e6&gt;</span></a><span style=\"color: #7f7f7f; text-decoration-color: #7f7f7f\">:</span><a href=\"file://<ipython-input-8-34328a1283e6>#29\"><span style=\"color: #7f7f7f; text-decoration-color: #7f7f7f\">29</span></a>\n",
       "</pre>\n"
      ]
     },
     "metadata": {}
    },
    {
     "output_type": "display_data",
     "data": {
      "text/plain": [
       "\u001B[2;36m          \u001B[0m\u001B[2;36m \u001B[0m\u001B[34mINFO    \u001B[0m average sentence length                 \u001B]8;id=570044;file://<ipython-input-8-34328a1283e6>\u001B\\\u001B[2m<ipython-input-8-34328a1283e6>\u001B[0m\u001B]8;;\u001B\\\u001B[2m:\u001B[0m\u001B]8;id=746561;file://<ipython-input-8-34328a1283e6>#30\u001B\\\u001B[2m30\u001B[0m\u001B]8;;\u001B\\\n",
       "\u001B[2;36m           \u001B[0m         \u001B[1;36m40.530253577705246\u001B[0m                      \u001B[2m                                 \u001B[0m\n"
      ],
      "text/html": [
       "<pre style=\"white-space:pre;overflow-x:auto;line-height:normal;font-family:Menlo,'DejaVu Sans Mono',consolas,'Courier New',monospace\"><span style=\"color: #7fbfbf; text-decoration-color: #7fbfbf\">           </span><span style=\"color: #000080; text-decoration-color: #000080\">INFO    </span> average sentence length                 <a href=\"file://<ipython-input-8-34328a1283e6>\"><span style=\"color: #7f7f7f; text-decoration-color: #7f7f7f\">&lt;ipython-input-8-34328a1283e6&gt;</span></a><span style=\"color: #7f7f7f; text-decoration-color: #7f7f7f\">:</span><a href=\"file://<ipython-input-8-34328a1283e6>#30\"><span style=\"color: #7f7f7f; text-decoration-color: #7f7f7f\">30</span></a>\n",
       "<span style=\"color: #7fbfbf; text-decoration-color: #7fbfbf\">           </span>         <span style=\"color: #008080; text-decoration-color: #008080; font-weight: bold\">40.530253577705246</span>                      <span style=\"color: #7f7f7f; text-decoration-color: #7f7f7f\">                                 </span>\n",
       "</pre>\n"
      ]
     },
     "metadata": {}
    },
    {
     "output_type": "display_data",
     "data": {
      "text/plain": [
       "\u001B[2;36m          \u001B[0m\u001B[2;36m \u001B[0m\u001B[34mINFO    \u001B[0m max sentence length  \u001B[1;36m408\u001B[0m                \u001B]8;id=158005;file://<ipython-input-8-34328a1283e6>\u001B\\\u001B[2m<ipython-input-8-34328a1283e6>\u001B[0m\u001B]8;;\u001B\\\u001B[2m:\u001B[0m\u001B]8;id=664683;file://<ipython-input-8-34328a1283e6>#31\u001B\\\u001B[2m31\u001B[0m\u001B]8;;\u001B\\\n"
      ],
      "text/html": [
       "<pre style=\"white-space:pre;overflow-x:auto;line-height:normal;font-family:Menlo,'DejaVu Sans Mono',consolas,'Courier New',monospace\"><span style=\"color: #7fbfbf; text-decoration-color: #7fbfbf\">           </span><span style=\"color: #000080; text-decoration-color: #000080\">INFO    </span> max sentence length  <span style=\"color: #008080; text-decoration-color: #008080; font-weight: bold\">408</span>                <a href=\"file://<ipython-input-8-34328a1283e6>\"><span style=\"color: #7f7f7f; text-decoration-color: #7f7f7f\">&lt;ipython-input-8-34328a1283e6&gt;</span></a><span style=\"color: #7f7f7f; text-decoration-color: #7f7f7f\">:</span><a href=\"file://<ipython-input-8-34328a1283e6>#31\"><span style=\"color: #7f7f7f; text-decoration-color: #7f7f7f\">31</span></a>\n",
       "</pre>\n"
      ]
     },
     "metadata": {}
    },
    {
     "output_type": "display_data",
     "data": {
      "text/plain": [
       "\u001B[2;36m          \u001B[0m\u001B[2;36m \u001B[0m\u001B[34mINFO    \u001B[0m num_entities  \u001B[1;36m29651\u001B[0m                     \u001B]8;id=458847;file://<ipython-input-8-34328a1283e6>\u001B\\\u001B[2m<ipython-input-8-34328a1283e6>\u001B[0m\u001B]8;;\u001B\\\u001B[2m:\u001B[0m\u001B]8;id=339201;file://<ipython-input-8-34328a1283e6>#33\u001B\\\u001B[2m33\u001B[0m\u001B]8;;\u001B\\\n"
      ],
      "text/html": [
       "<pre style=\"white-space:pre;overflow-x:auto;line-height:normal;font-family:Menlo,'DejaVu Sans Mono',consolas,'Courier New',monospace\"><span style=\"color: #7fbfbf; text-decoration-color: #7fbfbf\">           </span><span style=\"color: #000080; text-decoration-color: #000080\">INFO    </span> num_entities  <span style=\"color: #008080; text-decoration-color: #008080; font-weight: bold\">29651</span>                     <a href=\"file://<ipython-input-8-34328a1283e6>\"><span style=\"color: #7f7f7f; text-decoration-color: #7f7f7f\">&lt;ipython-input-8-34328a1283e6&gt;</span></a><span style=\"color: #7f7f7f; text-decoration-color: #7f7f7f\">:</span><a href=\"file://<ipython-input-8-34328a1283e6>#33\"><span style=\"color: #7f7f7f; text-decoration-color: #7f7f7f\">33</span></a>\n",
       "</pre>\n"
      ]
     },
     "metadata": {}
    },
    {
     "output_type": "display_data",
     "data": {
      "text/plain": [
       "\u001B[2;36m          \u001B[0m\u001B[2;36m \u001B[0m\u001B[34mINFO    \u001B[0m average entity length                   \u001B]8;id=941064;file://<ipython-input-8-34328a1283e6>\u001B\\\u001B[2m<ipython-input-8-34328a1283e6>\u001B[0m\u001B]8;;\u001B\\\u001B[2m:\u001B[0m\u001B]8;id=626092;file://<ipython-input-8-34328a1283e6>#34\u001B\\\u001B[2m34\u001B[0m\u001B]8;;\u001B\\\n",
       "\u001B[2;36m           \u001B[0m         \u001B[1;36m1.863849448585208\u001B[0m                       \u001B[2m                                 \u001B[0m\n"
      ],
      "text/html": [
       "<pre style=\"white-space:pre;overflow-x:auto;line-height:normal;font-family:Menlo,'DejaVu Sans Mono',consolas,'Courier New',monospace\"><span style=\"color: #7fbfbf; text-decoration-color: #7fbfbf\">           </span><span style=\"color: #000080; text-decoration-color: #000080\">INFO    </span> average entity length                   <a href=\"file://<ipython-input-8-34328a1283e6>\"><span style=\"color: #7f7f7f; text-decoration-color: #7f7f7f\">&lt;ipython-input-8-34328a1283e6&gt;</span></a><span style=\"color: #7f7f7f; text-decoration-color: #7f7f7f\">:</span><a href=\"file://<ipython-input-8-34328a1283e6>#34\"><span style=\"color: #7f7f7f; text-decoration-color: #7f7f7f\">34</span></a>\n",
       "<span style=\"color: #7fbfbf; text-decoration-color: #7fbfbf\">           </span>         <span style=\"color: #008080; text-decoration-color: #008080; font-weight: bold\">1.863849448585208</span>                       <span style=\"color: #7f7f7f; text-decoration-color: #7f7f7f\">                                 </span>\n",
       "</pre>\n"
      ]
     },
     "metadata": {}
    },
    {
     "output_type": "display_data",
     "data": {
      "text/plain": [
       "\u001B[2;36m          \u001B[0m\u001B[2;36m \u001B[0m\u001B[34mINFO    \u001B[0m max entity length   \u001B[1;36m17\u001B[0m                  \u001B]8;id=69358;file://<ipython-input-8-34328a1283e6>\u001B\\\u001B[2m<ipython-input-8-34328a1283e6>\u001B[0m\u001B]8;;\u001B\\\u001B[2m:\u001B[0m\u001B]8;id=723071;file://<ipython-input-8-34328a1283e6>#35\u001B\\\u001B[2m35\u001B[0m\u001B]8;;\u001B\\\n"
      ],
      "text/html": [
       "<pre style=\"white-space:pre;overflow-x:auto;line-height:normal;font-family:Menlo,'DejaVu Sans Mono',consolas,'Courier New',monospace\"><span style=\"color: #7fbfbf; text-decoration-color: #7fbfbf\">           </span><span style=\"color: #000080; text-decoration-color: #000080\">INFO    </span> max entity length   <span style=\"color: #008080; text-decoration-color: #008080; font-weight: bold\">17</span>                  <a href=\"file://<ipython-input-8-34328a1283e6>\"><span style=\"color: #7f7f7f; text-decoration-color: #7f7f7f\">&lt;ipython-input-8-34328a1283e6&gt;</span></a><span style=\"color: #7f7f7f; text-decoration-color: #7f7f7f\">:</span><a href=\"file://<ipython-input-8-34328a1283e6>#35\"><span style=\"color: #7f7f7f; text-decoration-color: #7f7f7f\">35</span></a>\n",
       "</pre>\n"
      ]
     },
     "metadata": {}
    },
    {
     "output_type": "display_data",
     "data": {
      "text/plain": [
       "\u001B[2;36m          \u001B[0m\u001B[2;36m \u001B[0m\u001B[34mINFO    \u001B[0m Number of nested entity  \u001B[1;36m8691\u001B[0m           \u001B]8;id=585976;file://<ipython-input-8-34328a1283e6>\u001B\\\u001B[2m<ipython-input-8-34328a1283e6>\u001B[0m\u001B]8;;\u001B\\\u001B[2m:\u001B[0m\u001B]8;id=961634;file://<ipython-input-8-34328a1283e6>#36\u001B\\\u001B[2m36\u001B[0m\u001B]8;;\u001B\\\n"
      ],
      "text/html": [
       "<pre style=\"white-space:pre;overflow-x:auto;line-height:normal;font-family:Menlo,'DejaVu Sans Mono',consolas,'Courier New',monospace\"><span style=\"color: #7fbfbf; text-decoration-color: #7fbfbf\">           </span><span style=\"color: #000080; text-decoration-color: #000080\">INFO    </span> Number of nested entity  <span style=\"color: #008080; text-decoration-color: #008080; font-weight: bold\">8691</span>           <a href=\"file://<ipython-input-8-34328a1283e6>\"><span style=\"color: #7f7f7f; text-decoration-color: #7f7f7f\">&lt;ipython-input-8-34328a1283e6&gt;</span></a><span style=\"color: #7f7f7f; text-decoration-color: #7f7f7f\">:</span><a href=\"file://<ipython-input-8-34328a1283e6>#36\"><span style=\"color: #7f7f7f; text-decoration-color: #7f7f7f\">36</span></a>\n",
       "</pre>\n"
      ]
     },
     "metadata": {}
    },
    {
     "output_type": "display_data",
     "data": {
      "text/plain": [
       "\u001B[2;36m          \u001B[0m\u001B[2;36m \u001B[0m\u001B[34mINFO    \u001B[0m Number of tokens  \u001B[1;36m161432\u001B[0m                \u001B]8;id=144867;file://<ipython-input-8-34328a1283e6>\u001B\\\u001B[2m<ipython-input-8-34328a1283e6>\u001B[0m\u001B]8;;\u001B\\\u001B[2m:\u001B[0m\u001B]8;id=28506;file://<ipython-input-8-34328a1283e6>#38\u001B\\\u001B[2m38\u001B[0m\u001B]8;;\u001B\\\n"
      ],
      "text/html": [
       "<pre style=\"white-space:pre;overflow-x:auto;line-height:normal;font-family:Menlo,'DejaVu Sans Mono',consolas,'Courier New',monospace\"><span style=\"color: #7fbfbf; text-decoration-color: #7fbfbf\">           </span><span style=\"color: #000080; text-decoration-color: #000080\">INFO    </span> Number of tokens  <span style=\"color: #008080; text-decoration-color: #008080; font-weight: bold\">161432</span>                <a href=\"file://<ipython-input-8-34328a1283e6>\"><span style=\"color: #7f7f7f; text-decoration-color: #7f7f7f\">&lt;ipython-input-8-34328a1283e6&gt;</span></a><span style=\"color: #7f7f7f; text-decoration-color: #7f7f7f\">:</span><a href=\"file://<ipython-input-8-34328a1283e6>#38\"><span style=\"color: #7f7f7f; text-decoration-color: #7f7f7f\">38</span></a>\n",
       "</pre>\n"
      ]
     },
     "metadata": {}
    },
    {
     "output_type": "display_data",
     "data": {
      "text/plain": [
       "\u001B[2;36m          \u001B[0m\u001B[2;36m \u001B[0m\u001B[34mINFO    \u001B[0m                                         \u001B]8;id=33255;file://<ipython-input-8-34328a1283e6>\u001B\\\u001B[2m<ipython-input-8-34328a1283e6>\u001B[0m\u001B]8;;\u001B\\\u001B[2m:\u001B[0m\u001B]8;id=429692;file://<ipython-input-8-34328a1283e6>#39\u001B\\\u001B[2m39\u001B[0m\u001B]8;;\u001B\\\n"
      ],
      "text/html": [
       "<pre style=\"white-space:pre;overflow-x:auto;line-height:normal;font-family:Menlo,'DejaVu Sans Mono',consolas,'Courier New',monospace\"><span style=\"color: #7fbfbf; text-decoration-color: #7fbfbf\">           </span><span style=\"color: #000080; text-decoration-color: #000080\">INFO    </span>                                         <a href=\"file://<ipython-input-8-34328a1283e6>\"><span style=\"color: #7f7f7f; text-decoration-color: #7f7f7f\">&lt;ipython-input-8-34328a1283e6&gt;</span></a><span style=\"color: #7f7f7f; text-decoration-color: #7f7f7f\">:</span><a href=\"file://<ipython-input-8-34328a1283e6>#39\"><span style=\"color: #7f7f7f; text-decoration-color: #7f7f7f\">39</span></a>\n",
       "</pre>\n"
      ]
     },
     "metadata": {}
    },
    {
     "output_type": "display_data",
     "data": {
      "text/plain": [
       "\u001B[2;36m[21:42:15]\u001B[0m\u001B[2;36m \u001B[0m\u001B[34mINFO    \u001B[0m For datasets/outputs/nerel_common_label \u001B]8;id=880420;file://<ipython-input-8-34328a1283e6>\u001B\\\u001B[2m<ipython-input-8-34328a1283e6>\u001B[0m\u001B]8;;\u001B\\\u001B[2m:\u001B[0m\u001B]8;id=74285;file://<ipython-input-8-34328a1283e6>#28\u001B\\\u001B[2m28\u001B[0m\u001B]8;;\u001B\\\n",
       "\u001B[2;36m           \u001B[0m         s/dev.jsonl                             \u001B[2m                                 \u001B[0m\n"
      ],
      "text/html": [
       "<pre style=\"white-space:pre;overflow-x:auto;line-height:normal;font-family:Menlo,'DejaVu Sans Mono',consolas,'Courier New',monospace\"><span style=\"color: #7fbfbf; text-decoration-color: #7fbfbf\">[21:42:15] </span><span style=\"color: #000080; text-decoration-color: #000080\">INFO    </span> For datasets/outputs/nerel_common_label <a href=\"file://<ipython-input-8-34328a1283e6>\"><span style=\"color: #7f7f7f; text-decoration-color: #7f7f7f\">&lt;ipython-input-8-34328a1283e6&gt;</span></a><span style=\"color: #7f7f7f; text-decoration-color: #7f7f7f\">:</span><a href=\"file://<ipython-input-8-34328a1283e6>#28\"><span style=\"color: #7f7f7f; text-decoration-color: #7f7f7f\">28</span></a>\n",
       "<span style=\"color: #7fbfbf; text-decoration-color: #7fbfbf\">           </span>         s/dev.jsonl                             <span style=\"color: #7f7f7f; text-decoration-color: #7f7f7f\">                                 </span>\n",
       "</pre>\n"
      ]
     },
     "metadata": {}
    },
    {
     "output_type": "display_data",
     "data": {
      "text/plain": [
       "\u001B[2;36m          \u001B[0m\u001B[2;36m \u001B[0m\u001B[34mINFO    \u001B[0m total sentence  \u001B[1;36m475\u001B[0m                     \u001B]8;id=555661;file://<ipython-input-8-34328a1283e6>\u001B\\\u001B[2m<ipython-input-8-34328a1283e6>\u001B[0m\u001B]8;;\u001B\\\u001B[2m:\u001B[0m\u001B]8;id=258025;file://<ipython-input-8-34328a1283e6>#29\u001B\\\u001B[2m29\u001B[0m\u001B]8;;\u001B\\\n"
      ],
      "text/html": [
       "<pre style=\"white-space:pre;overflow-x:auto;line-height:normal;font-family:Menlo,'DejaVu Sans Mono',consolas,'Courier New',monospace\"><span style=\"color: #7fbfbf; text-decoration-color: #7fbfbf\">           </span><span style=\"color: #000080; text-decoration-color: #000080\">INFO    </span> total sentence  <span style=\"color: #008080; text-decoration-color: #008080; font-weight: bold\">475</span>                     <a href=\"file://<ipython-input-8-34328a1283e6>\"><span style=\"color: #7f7f7f; text-decoration-color: #7f7f7f\">&lt;ipython-input-8-34328a1283e6&gt;</span></a><span style=\"color: #7f7f7f; text-decoration-color: #7f7f7f\">:</span><a href=\"file://<ipython-input-8-34328a1283e6>#29\"><span style=\"color: #7f7f7f; text-decoration-color: #7f7f7f\">29</span></a>\n",
       "</pre>\n"
      ]
     },
     "metadata": {}
    },
    {
     "output_type": "display_data",
     "data": {
      "text/plain": [
       "\u001B[2;36m          \u001B[0m\u001B[2;36m \u001B[0m\u001B[34mINFO    \u001B[0m average sentence length                 \u001B]8;id=243955;file://<ipython-input-8-34328a1283e6>\u001B\\\u001B[2m<ipython-input-8-34328a1283e6>\u001B[0m\u001B]8;;\u001B\\\u001B[2m:\u001B[0m\u001B]8;id=375156;file://<ipython-input-8-34328a1283e6>#30\u001B\\\u001B[2m30\u001B[0m\u001B]8;;\u001B\\\n",
       "\u001B[2;36m           \u001B[0m         \u001B[1;36m40.30947368421052\u001B[0m                       \u001B[2m                                 \u001B[0m\n"
      ],
      "text/html": [
       "<pre style=\"white-space:pre;overflow-x:auto;line-height:normal;font-family:Menlo,'DejaVu Sans Mono',consolas,'Courier New',monospace\"><span style=\"color: #7fbfbf; text-decoration-color: #7fbfbf\">           </span><span style=\"color: #000080; text-decoration-color: #000080\">INFO    </span> average sentence length                 <a href=\"file://<ipython-input-8-34328a1283e6>\"><span style=\"color: #7f7f7f; text-decoration-color: #7f7f7f\">&lt;ipython-input-8-34328a1283e6&gt;</span></a><span style=\"color: #7f7f7f; text-decoration-color: #7f7f7f\">:</span><a href=\"file://<ipython-input-8-34328a1283e6>#30\"><span style=\"color: #7f7f7f; text-decoration-color: #7f7f7f\">30</span></a>\n",
       "<span style=\"color: #7fbfbf; text-decoration-color: #7fbfbf\">           </span>         <span style=\"color: #008080; text-decoration-color: #008080; font-weight: bold\">40.30947368421052</span>                       <span style=\"color: #7f7f7f; text-decoration-color: #7f7f7f\">                                 </span>\n",
       "</pre>\n"
      ]
     },
     "metadata": {}
    },
    {
     "output_type": "display_data",
     "data": {
      "text/plain": [
       "\u001B[2;36m          \u001B[0m\u001B[2;36m \u001B[0m\u001B[34mINFO    \u001B[0m max sentence length  \u001B[1;36m438\u001B[0m                \u001B]8;id=187087;file://<ipython-input-8-34328a1283e6>\u001B\\\u001B[2m<ipython-input-8-34328a1283e6>\u001B[0m\u001B]8;;\u001B\\\u001B[2m:\u001B[0m\u001B]8;id=838533;file://<ipython-input-8-34328a1283e6>#31\u001B\\\u001B[2m31\u001B[0m\u001B]8;;\u001B\\\n"
      ],
      "text/html": [
       "<pre style=\"white-space:pre;overflow-x:auto;line-height:normal;font-family:Menlo,'DejaVu Sans Mono',consolas,'Courier New',monospace\"><span style=\"color: #7fbfbf; text-decoration-color: #7fbfbf\">           </span><span style=\"color: #000080; text-decoration-color: #000080\">INFO    </span> max sentence length  <span style=\"color: #008080; text-decoration-color: #008080; font-weight: bold\">438</span>                <a href=\"file://<ipython-input-8-34328a1283e6>\"><span style=\"color: #7f7f7f; text-decoration-color: #7f7f7f\">&lt;ipython-input-8-34328a1283e6&gt;</span></a><span style=\"color: #7f7f7f; text-decoration-color: #7f7f7f\">:</span><a href=\"file://<ipython-input-8-34328a1283e6>#31\"><span style=\"color: #7f7f7f; text-decoration-color: #7f7f7f\">31</span></a>\n",
       "</pre>\n"
      ]
     },
     "metadata": {}
    },
    {
     "output_type": "display_data",
     "data": {
      "text/plain": [
       "\u001B[2;36m          \u001B[0m\u001B[2;36m \u001B[0m\u001B[34mINFO    \u001B[0m num_entities  \u001B[1;36m3467\u001B[0m                      \u001B]8;id=987835;file://<ipython-input-8-34328a1283e6>\u001B\\\u001B[2m<ipython-input-8-34328a1283e6>\u001B[0m\u001B]8;;\u001B\\\u001B[2m:\u001B[0m\u001B]8;id=50546;file://<ipython-input-8-34328a1283e6>#33\u001B\\\u001B[2m33\u001B[0m\u001B]8;;\u001B\\\n"
      ],
      "text/html": [
       "<pre style=\"white-space:pre;overflow-x:auto;line-height:normal;font-family:Menlo,'DejaVu Sans Mono',consolas,'Courier New',monospace\"><span style=\"color: #7fbfbf; text-decoration-color: #7fbfbf\">           </span><span style=\"color: #000080; text-decoration-color: #000080\">INFO    </span> num_entities  <span style=\"color: #008080; text-decoration-color: #008080; font-weight: bold\">3467</span>                      <a href=\"file://<ipython-input-8-34328a1283e6>\"><span style=\"color: #7f7f7f; text-decoration-color: #7f7f7f\">&lt;ipython-input-8-34328a1283e6&gt;</span></a><span style=\"color: #7f7f7f; text-decoration-color: #7f7f7f\">:</span><a href=\"file://<ipython-input-8-34328a1283e6>#33\"><span style=\"color: #7f7f7f; text-decoration-color: #7f7f7f\">33</span></a>\n",
       "</pre>\n"
      ]
     },
     "metadata": {}
    },
    {
     "output_type": "display_data",
     "data": {
      "text/plain": [
       "\u001B[2;36m          \u001B[0m\u001B[2;36m \u001B[0m\u001B[34mINFO    \u001B[0m average entity length                   \u001B]8;id=676530;file://<ipython-input-8-34328a1283e6>\u001B\\\u001B[2m<ipython-input-8-34328a1283e6>\u001B[0m\u001B]8;;\u001B\\\u001B[2m:\u001B[0m\u001B]8;id=815827;file://<ipython-input-8-34328a1283e6>#34\u001B\\\u001B[2m34\u001B[0m\u001B]8;;\u001B\\\n",
       "\u001B[2;36m           \u001B[0m         \u001B[1;36m1.8148254975483127\u001B[0m                      \u001B[2m                                 \u001B[0m\n"
      ],
      "text/html": [
       "<pre style=\"white-space:pre;overflow-x:auto;line-height:normal;font-family:Menlo,'DejaVu Sans Mono',consolas,'Courier New',monospace\"><span style=\"color: #7fbfbf; text-decoration-color: #7fbfbf\">           </span><span style=\"color: #000080; text-decoration-color: #000080\">INFO    </span> average entity length                   <a href=\"file://<ipython-input-8-34328a1283e6>\"><span style=\"color: #7f7f7f; text-decoration-color: #7f7f7f\">&lt;ipython-input-8-34328a1283e6&gt;</span></a><span style=\"color: #7f7f7f; text-decoration-color: #7f7f7f\">:</span><a href=\"file://<ipython-input-8-34328a1283e6>#34\"><span style=\"color: #7f7f7f; text-decoration-color: #7f7f7f\">34</span></a>\n",
       "<span style=\"color: #7fbfbf; text-decoration-color: #7fbfbf\">           </span>         <span style=\"color: #008080; text-decoration-color: #008080; font-weight: bold\">1.8148254975483127</span>                      <span style=\"color: #7f7f7f; text-decoration-color: #7f7f7f\">                                 </span>\n",
       "</pre>\n"
      ]
     },
     "metadata": {}
    },
    {
     "output_type": "display_data",
     "data": {
      "text/plain": [
       "\u001B[2;36m          \u001B[0m\u001B[2;36m \u001B[0m\u001B[34mINFO    \u001B[0m max entity length   \u001B[1;36m11\u001B[0m                  \u001B]8;id=338683;file://<ipython-input-8-34328a1283e6>\u001B\\\u001B[2m<ipython-input-8-34328a1283e6>\u001B[0m\u001B]8;;\u001B\\\u001B[2m:\u001B[0m\u001B]8;id=250247;file://<ipython-input-8-34328a1283e6>#35\u001B\\\u001B[2m35\u001B[0m\u001B]8;;\u001B\\\n"
      ],
      "text/html": [
       "<pre style=\"white-space:pre;overflow-x:auto;line-height:normal;font-family:Menlo,'DejaVu Sans Mono',consolas,'Courier New',monospace\"><span style=\"color: #7fbfbf; text-decoration-color: #7fbfbf\">           </span><span style=\"color: #000080; text-decoration-color: #000080\">INFO    </span> max entity length   <span style=\"color: #008080; text-decoration-color: #008080; font-weight: bold\">11</span>                  <a href=\"file://<ipython-input-8-34328a1283e6>\"><span style=\"color: #7f7f7f; text-decoration-color: #7f7f7f\">&lt;ipython-input-8-34328a1283e6&gt;</span></a><span style=\"color: #7f7f7f; text-decoration-color: #7f7f7f\">:</span><a href=\"file://<ipython-input-8-34328a1283e6>#35\"><span style=\"color: #7f7f7f; text-decoration-color: #7f7f7f\">35</span></a>\n",
       "</pre>\n"
      ]
     },
     "metadata": {}
    },
    {
     "output_type": "display_data",
     "data": {
      "text/plain": [
       "\u001B[2;36m          \u001B[0m\u001B[2;36m \u001B[0m\u001B[34mINFO    \u001B[0m Number of nested entity  \u001B[1;36m848\u001B[0m            \u001B]8;id=756336;file://<ipython-input-8-34328a1283e6>\u001B\\\u001B[2m<ipython-input-8-34328a1283e6>\u001B[0m\u001B]8;;\u001B\\\u001B[2m:\u001B[0m\u001B]8;id=585177;file://<ipython-input-8-34328a1283e6>#36\u001B\\\u001B[2m36\u001B[0m\u001B]8;;\u001B\\\n"
      ],
      "text/html": [
       "<pre style=\"white-space:pre;overflow-x:auto;line-height:normal;font-family:Menlo,'DejaVu Sans Mono',consolas,'Courier New',monospace\"><span style=\"color: #7fbfbf; text-decoration-color: #7fbfbf\">           </span><span style=\"color: #000080; text-decoration-color: #000080\">INFO    </span> Number of nested entity  <span style=\"color: #008080; text-decoration-color: #008080; font-weight: bold\">848</span>            <a href=\"file://<ipython-input-8-34328a1283e6>\"><span style=\"color: #7f7f7f; text-decoration-color: #7f7f7f\">&lt;ipython-input-8-34328a1283e6&gt;</span></a><span style=\"color: #7f7f7f; text-decoration-color: #7f7f7f\">:</span><a href=\"file://<ipython-input-8-34328a1283e6>#36\"><span style=\"color: #7f7f7f; text-decoration-color: #7f7f7f\">36</span></a>\n",
       "</pre>\n"
      ]
     },
     "metadata": {}
    },
    {
     "output_type": "display_data",
     "data": {
      "text/plain": [
       "\u001B[2;36m          \u001B[0m\u001B[2;36m \u001B[0m\u001B[34mINFO    \u001B[0m Number of tokens  \u001B[1;36m19147\u001B[0m                 \u001B]8;id=663448;file://<ipython-input-8-34328a1283e6>\u001B\\\u001B[2m<ipython-input-8-34328a1283e6>\u001B[0m\u001B]8;;\u001B\\\u001B[2m:\u001B[0m\u001B]8;id=206;file://<ipython-input-8-34328a1283e6>#38\u001B\\\u001B[2m38\u001B[0m\u001B]8;;\u001B\\\n"
      ],
      "text/html": [
       "<pre style=\"white-space:pre;overflow-x:auto;line-height:normal;font-family:Menlo,'DejaVu Sans Mono',consolas,'Courier New',monospace\"><span style=\"color: #7fbfbf; text-decoration-color: #7fbfbf\">           </span><span style=\"color: #000080; text-decoration-color: #000080\">INFO    </span> Number of tokens  <span style=\"color: #008080; text-decoration-color: #008080; font-weight: bold\">19147</span>                 <a href=\"file://<ipython-input-8-34328a1283e6>\"><span style=\"color: #7f7f7f; text-decoration-color: #7f7f7f\">&lt;ipython-input-8-34328a1283e6&gt;</span></a><span style=\"color: #7f7f7f; text-decoration-color: #7f7f7f\">:</span><a href=\"file://<ipython-input-8-34328a1283e6>#38\"><span style=\"color: #7f7f7f; text-decoration-color: #7f7f7f\">38</span></a>\n",
       "</pre>\n"
      ]
     },
     "metadata": {}
    },
    {
     "output_type": "display_data",
     "data": {
      "text/plain": [
       "\u001B[2;36m          \u001B[0m\u001B[2;36m \u001B[0m\u001B[34mINFO    \u001B[0m                                         \u001B]8;id=395253;file://<ipython-input-8-34328a1283e6>\u001B\\\u001B[2m<ipython-input-8-34328a1283e6>\u001B[0m\u001B]8;;\u001B\\\u001B[2m:\u001B[0m\u001B]8;id=509714;file://<ipython-input-8-34328a1283e6>#39\u001B\\\u001B[2m39\u001B[0m\u001B]8;;\u001B\\\n"
      ],
      "text/html": [
       "<pre style=\"white-space:pre;overflow-x:auto;line-height:normal;font-family:Menlo,'DejaVu Sans Mono',consolas,'Courier New',monospace\"><span style=\"color: #7fbfbf; text-decoration-color: #7fbfbf\">           </span><span style=\"color: #000080; text-decoration-color: #000080\">INFO    </span>                                         <a href=\"file://<ipython-input-8-34328a1283e6>\"><span style=\"color: #7f7f7f; text-decoration-color: #7f7f7f\">&lt;ipython-input-8-34328a1283e6&gt;</span></a><span style=\"color: #7f7f7f; text-decoration-color: #7f7f7f\">:</span><a href=\"file://<ipython-input-8-34328a1283e6>#39\"><span style=\"color: #7f7f7f; text-decoration-color: #7f7f7f\">39</span></a>\n",
       "</pre>\n"
      ]
     },
     "metadata": {}
    },
    {
     "output_type": "display_data",
     "data": {
      "text/plain": [
       "\u001B[2;36m[21:42:16]\u001B[0m\u001B[2;36m \u001B[0m\u001B[34mINFO    \u001B[0m For datasets/outputs/nerel_common_label \u001B]8;id=153940;file://<ipython-input-8-34328a1283e6>\u001B\\\u001B[2m<ipython-input-8-34328a1283e6>\u001B[0m\u001B]8;;\u001B\\\u001B[2m:\u001B[0m\u001B]8;id=970103;file://<ipython-input-8-34328a1283e6>#28\u001B\\\u001B[2m28\u001B[0m\u001B]8;;\u001B\\\n",
       "\u001B[2;36m           \u001B[0m         s/test.jsonl                            \u001B[2m                                 \u001B[0m\n"
      ],
      "text/html": [
       "<pre style=\"white-space:pre;overflow-x:auto;line-height:normal;font-family:Menlo,'DejaVu Sans Mono',consolas,'Courier New',monospace\"><span style=\"color: #7fbfbf; text-decoration-color: #7fbfbf\">[21:42:16] </span><span style=\"color: #000080; text-decoration-color: #000080\">INFO    </span> For datasets/outputs/nerel_common_label <a href=\"file://<ipython-input-8-34328a1283e6>\"><span style=\"color: #7f7f7f; text-decoration-color: #7f7f7f\">&lt;ipython-input-8-34328a1283e6&gt;</span></a><span style=\"color: #7f7f7f; text-decoration-color: #7f7f7f\">:</span><a href=\"file://<ipython-input-8-34328a1283e6>#28\"><span style=\"color: #7f7f7f; text-decoration-color: #7f7f7f\">28</span></a>\n",
       "<span style=\"color: #7fbfbf; text-decoration-color: #7fbfbf\">           </span>         s/test.jsonl                            <span style=\"color: #7f7f7f; text-decoration-color: #7f7f7f\">                                 </span>\n",
       "</pre>\n"
      ]
     },
     "metadata": {}
    },
    {
     "output_type": "display_data",
     "data": {
      "text/plain": [
       "\u001B[2;36m          \u001B[0m\u001B[2;36m \u001B[0m\u001B[34mINFO    \u001B[0m total sentence  \u001B[1;36m471\u001B[0m                     \u001B]8;id=948044;file://<ipython-input-8-34328a1283e6>\u001B\\\u001B[2m<ipython-input-8-34328a1283e6>\u001B[0m\u001B]8;;\u001B\\\u001B[2m:\u001B[0m\u001B]8;id=458684;file://<ipython-input-8-34328a1283e6>#29\u001B\\\u001B[2m29\u001B[0m\u001B]8;;\u001B\\\n"
      ],
      "text/html": [
       "<pre style=\"white-space:pre;overflow-x:auto;line-height:normal;font-family:Menlo,'DejaVu Sans Mono',consolas,'Courier New',monospace\"><span style=\"color: #7fbfbf; text-decoration-color: #7fbfbf\">           </span><span style=\"color: #000080; text-decoration-color: #000080\">INFO    </span> total sentence  <span style=\"color: #008080; text-decoration-color: #008080; font-weight: bold\">471</span>                     <a href=\"file://<ipython-input-8-34328a1283e6>\"><span style=\"color: #7f7f7f; text-decoration-color: #7f7f7f\">&lt;ipython-input-8-34328a1283e6&gt;</span></a><span style=\"color: #7f7f7f; text-decoration-color: #7f7f7f\">:</span><a href=\"file://<ipython-input-8-34328a1283e6>#29\"><span style=\"color: #7f7f7f; text-decoration-color: #7f7f7f\">29</span></a>\n",
       "</pre>\n"
      ]
     },
     "metadata": {}
    },
    {
     "output_type": "display_data",
     "data": {
      "text/plain": [
       "\u001B[2;36m          \u001B[0m\u001B[2;36m \u001B[0m\u001B[34mINFO    \u001B[0m average sentence length                 \u001B]8;id=320542;file://<ipython-input-8-34328a1283e6>\u001B\\\u001B[2m<ipython-input-8-34328a1283e6>\u001B[0m\u001B]8;;\u001B\\\u001B[2m:\u001B[0m\u001B]8;id=825201;file://<ipython-input-8-34328a1283e6>#30\u001B\\\u001B[2m30\u001B[0m\u001B]8;;\u001B\\\n",
       "\u001B[2;36m           \u001B[0m         \u001B[1;36m41.40127388535032\u001B[0m                       \u001B[2m                                 \u001B[0m\n"
      ],
      "text/html": [
       "<pre style=\"white-space:pre;overflow-x:auto;line-height:normal;font-family:Menlo,'DejaVu Sans Mono',consolas,'Courier New',monospace\"><span style=\"color: #7fbfbf; text-decoration-color: #7fbfbf\">           </span><span style=\"color: #000080; text-decoration-color: #000080\">INFO    </span> average sentence length                 <a href=\"file://<ipython-input-8-34328a1283e6>\"><span style=\"color: #7f7f7f; text-decoration-color: #7f7f7f\">&lt;ipython-input-8-34328a1283e6&gt;</span></a><span style=\"color: #7f7f7f; text-decoration-color: #7f7f7f\">:</span><a href=\"file://<ipython-input-8-34328a1283e6>#30\"><span style=\"color: #7f7f7f; text-decoration-color: #7f7f7f\">30</span></a>\n",
       "<span style=\"color: #7fbfbf; text-decoration-color: #7fbfbf\">           </span>         <span style=\"color: #008080; text-decoration-color: #008080; font-weight: bold\">41.40127388535032</span>                       <span style=\"color: #7f7f7f; text-decoration-color: #7f7f7f\">                                 </span>\n",
       "</pre>\n"
      ]
     },
     "metadata": {}
    },
    {
     "output_type": "display_data",
     "data": {
      "text/plain": [
       "\u001B[2;36m          \u001B[0m\u001B[2;36m \u001B[0m\u001B[34mINFO    \u001B[0m max sentence length  \u001B[1;36m192\u001B[0m                \u001B]8;id=918270;file://<ipython-input-8-34328a1283e6>\u001B\\\u001B[2m<ipython-input-8-34328a1283e6>\u001B[0m\u001B]8;;\u001B\\\u001B[2m:\u001B[0m\u001B]8;id=248289;file://<ipython-input-8-34328a1283e6>#31\u001B\\\u001B[2m31\u001B[0m\u001B]8;;\u001B\\\n"
      ],
      "text/html": [
       "<pre style=\"white-space:pre;overflow-x:auto;line-height:normal;font-family:Menlo,'DejaVu Sans Mono',consolas,'Courier New',monospace\"><span style=\"color: #7fbfbf; text-decoration-color: #7fbfbf\">           </span><span style=\"color: #000080; text-decoration-color: #000080\">INFO    </span> max sentence length  <span style=\"color: #008080; text-decoration-color: #008080; font-weight: bold\">192</span>                <a href=\"file://<ipython-input-8-34328a1283e6>\"><span style=\"color: #7f7f7f; text-decoration-color: #7f7f7f\">&lt;ipython-input-8-34328a1283e6&gt;</span></a><span style=\"color: #7f7f7f; text-decoration-color: #7f7f7f\">:</span><a href=\"file://<ipython-input-8-34328a1283e6>#31\"><span style=\"color: #7f7f7f; text-decoration-color: #7f7f7f\">31</span></a>\n",
       "</pre>\n"
      ]
     },
     "metadata": {}
    },
    {
     "output_type": "display_data",
     "data": {
      "text/plain": [
       "\u001B[2;36m          \u001B[0m\u001B[2;36m \u001B[0m\u001B[34mINFO    \u001B[0m num_entities  \u001B[1;36m3513\u001B[0m                      \u001B]8;id=895534;file://<ipython-input-8-34328a1283e6>\u001B\\\u001B[2m<ipython-input-8-34328a1283e6>\u001B[0m\u001B]8;;\u001B\\\u001B[2m:\u001B[0m\u001B]8;id=452568;file://<ipython-input-8-34328a1283e6>#33\u001B\\\u001B[2m33\u001B[0m\u001B]8;;\u001B\\\n"
      ],
      "text/html": [
       "<pre style=\"white-space:pre;overflow-x:auto;line-height:normal;font-family:Menlo,'DejaVu Sans Mono',consolas,'Courier New',monospace\"><span style=\"color: #7fbfbf; text-decoration-color: #7fbfbf\">           </span><span style=\"color: #000080; text-decoration-color: #000080\">INFO    </span> num_entities  <span style=\"color: #008080; text-decoration-color: #008080; font-weight: bold\">3513</span>                      <a href=\"file://<ipython-input-8-34328a1283e6>\"><span style=\"color: #7f7f7f; text-decoration-color: #7f7f7f\">&lt;ipython-input-8-34328a1283e6&gt;</span></a><span style=\"color: #7f7f7f; text-decoration-color: #7f7f7f\">:</span><a href=\"file://<ipython-input-8-34328a1283e6>#33\"><span style=\"color: #7f7f7f; text-decoration-color: #7f7f7f\">33</span></a>\n",
       "</pre>\n"
      ]
     },
     "metadata": {}
    },
    {
     "output_type": "display_data",
     "data": {
      "text/plain": [
       "\u001B[2;36m          \u001B[0m\u001B[2;36m \u001B[0m\u001B[34mINFO    \u001B[0m average entity length                   \u001B]8;id=960630;file://<ipython-input-8-34328a1283e6>\u001B\\\u001B[2m<ipython-input-8-34328a1283e6>\u001B[0m\u001B]8;;\u001B\\\u001B[2m:\u001B[0m\u001B]8;id=468323;file://<ipython-input-8-34328a1283e6>#34\u001B\\\u001B[2m34\u001B[0m\u001B]8;;\u001B\\\n",
       "\u001B[2;36m           \u001B[0m         \u001B[1;36m1.8855678906917164\u001B[0m                      \u001B[2m                                 \u001B[0m\n"
      ],
      "text/html": [
       "<pre style=\"white-space:pre;overflow-x:auto;line-height:normal;font-family:Menlo,'DejaVu Sans Mono',consolas,'Courier New',monospace\"><span style=\"color: #7fbfbf; text-decoration-color: #7fbfbf\">           </span><span style=\"color: #000080; text-decoration-color: #000080\">INFO    </span> average entity length                   <a href=\"file://<ipython-input-8-34328a1283e6>\"><span style=\"color: #7f7f7f; text-decoration-color: #7f7f7f\">&lt;ipython-input-8-34328a1283e6&gt;</span></a><span style=\"color: #7f7f7f; text-decoration-color: #7f7f7f\">:</span><a href=\"file://<ipython-input-8-34328a1283e6>#34\"><span style=\"color: #7f7f7f; text-decoration-color: #7f7f7f\">34</span></a>\n",
       "<span style=\"color: #7fbfbf; text-decoration-color: #7fbfbf\">           </span>         <span style=\"color: #008080; text-decoration-color: #008080; font-weight: bold\">1.8855678906917164</span>                      <span style=\"color: #7f7f7f; text-decoration-color: #7f7f7f\">                                 </span>\n",
       "</pre>\n"
      ]
     },
     "metadata": {}
    },
    {
     "output_type": "display_data",
     "data": {
      "text/plain": [
       "\u001B[2;36m          \u001B[0m\u001B[2;36m \u001B[0m\u001B[34mINFO    \u001B[0m max entity length   \u001B[1;36m16\u001B[0m                  \u001B]8;id=266144;file://<ipython-input-8-34328a1283e6>\u001B\\\u001B[2m<ipython-input-8-34328a1283e6>\u001B[0m\u001B]8;;\u001B\\\u001B[2m:\u001B[0m\u001B]8;id=384284;file://<ipython-input-8-34328a1283e6>#35\u001B\\\u001B[2m35\u001B[0m\u001B]8;;\u001B\\\n"
      ],
      "text/html": [
       "<pre style=\"white-space:pre;overflow-x:auto;line-height:normal;font-family:Menlo,'DejaVu Sans Mono',consolas,'Courier New',monospace\"><span style=\"color: #7fbfbf; text-decoration-color: #7fbfbf\">           </span><span style=\"color: #000080; text-decoration-color: #000080\">INFO    </span> max entity length   <span style=\"color: #008080; text-decoration-color: #008080; font-weight: bold\">16</span>                  <a href=\"file://<ipython-input-8-34328a1283e6>\"><span style=\"color: #7f7f7f; text-decoration-color: #7f7f7f\">&lt;ipython-input-8-34328a1283e6&gt;</span></a><span style=\"color: #7f7f7f; text-decoration-color: #7f7f7f\">:</span><a href=\"file://<ipython-input-8-34328a1283e6>#35\"><span style=\"color: #7f7f7f; text-decoration-color: #7f7f7f\">35</span></a>\n",
       "</pre>\n"
      ]
     },
     "metadata": {}
    },
    {
     "output_type": "display_data",
     "data": {
      "text/plain": [
       "\u001B[2;36m          \u001B[0m\u001B[2;36m \u001B[0m\u001B[34mINFO    \u001B[0m Number of nested entity  \u001B[1;36m999\u001B[0m            \u001B]8;id=195286;file://<ipython-input-8-34328a1283e6>\u001B\\\u001B[2m<ipython-input-8-34328a1283e6>\u001B[0m\u001B]8;;\u001B\\\u001B[2m:\u001B[0m\u001B]8;id=702865;file://<ipython-input-8-34328a1283e6>#36\u001B\\\u001B[2m36\u001B[0m\u001B]8;;\u001B\\\n"
      ],
      "text/html": [
       "<pre style=\"white-space:pre;overflow-x:auto;line-height:normal;font-family:Menlo,'DejaVu Sans Mono',consolas,'Courier New',monospace\"><span style=\"color: #7fbfbf; text-decoration-color: #7fbfbf\">           </span><span style=\"color: #000080; text-decoration-color: #000080\">INFO    </span> Number of nested entity  <span style=\"color: #008080; text-decoration-color: #008080; font-weight: bold\">999</span>            <a href=\"file://<ipython-input-8-34328a1283e6>\"><span style=\"color: #7f7f7f; text-decoration-color: #7f7f7f\">&lt;ipython-input-8-34328a1283e6&gt;</span></a><span style=\"color: #7f7f7f; text-decoration-color: #7f7f7f\">:</span><a href=\"file://<ipython-input-8-34328a1283e6>#36\"><span style=\"color: #7f7f7f; text-decoration-color: #7f7f7f\">36</span></a>\n",
       "</pre>\n"
      ]
     },
     "metadata": {}
    },
    {
     "output_type": "display_data",
     "data": {
      "text/plain": [
       "\u001B[2;36m          \u001B[0m\u001B[2;36m \u001B[0m\u001B[34mINFO    \u001B[0m Number of tokens  \u001B[1;36m19500\u001B[0m                 \u001B]8;id=721062;file://<ipython-input-8-34328a1283e6>\u001B\\\u001B[2m<ipython-input-8-34328a1283e6>\u001B[0m\u001B]8;;\u001B\\\u001B[2m:\u001B[0m\u001B]8;id=428348;file://<ipython-input-8-34328a1283e6>#38\u001B\\\u001B[2m38\u001B[0m\u001B]8;;\u001B\\\n"
      ],
      "text/html": [
       "<pre style=\"white-space:pre;overflow-x:auto;line-height:normal;font-family:Menlo,'DejaVu Sans Mono',consolas,'Courier New',monospace\"><span style=\"color: #7fbfbf; text-decoration-color: #7fbfbf\">           </span><span style=\"color: #000080; text-decoration-color: #000080\">INFO    </span> Number of tokens  <span style=\"color: #008080; text-decoration-color: #008080; font-weight: bold\">19500</span>                 <a href=\"file://<ipython-input-8-34328a1283e6>\"><span style=\"color: #7f7f7f; text-decoration-color: #7f7f7f\">&lt;ipython-input-8-34328a1283e6&gt;</span></a><span style=\"color: #7f7f7f; text-decoration-color: #7f7f7f\">:</span><a href=\"file://<ipython-input-8-34328a1283e6>#38\"><span style=\"color: #7f7f7f; text-decoration-color: #7f7f7f\">38</span></a>\n",
       "</pre>\n"
      ]
     },
     "metadata": {}
    },
    {
     "output_type": "display_data",
     "data": {
      "text/plain": [
       "\u001B[2;36m          \u001B[0m\u001B[2;36m \u001B[0m\u001B[34mINFO    \u001B[0m                                         \u001B]8;id=321423;file://<ipython-input-8-34328a1283e6>\u001B\\\u001B[2m<ipython-input-8-34328a1283e6>\u001B[0m\u001B]8;;\u001B\\\u001B[2m:\u001B[0m\u001B]8;id=915029;file://<ipython-input-8-34328a1283e6>#39\u001B\\\u001B[2m39\u001B[0m\u001B]8;;\u001B\\\n"
      ],
      "text/html": [
       "<pre style=\"white-space:pre;overflow-x:auto;line-height:normal;font-family:Menlo,'DejaVu Sans Mono',consolas,'Courier New',monospace\"><span style=\"color: #7fbfbf; text-decoration-color: #7fbfbf\">           </span><span style=\"color: #000080; text-decoration-color: #000080\">INFO    </span>                                         <a href=\"file://<ipython-input-8-34328a1283e6>\"><span style=\"color: #7f7f7f; text-decoration-color: #7f7f7f\">&lt;ipython-input-8-34328a1283e6&gt;</span></a><span style=\"color: #7f7f7f; text-decoration-color: #7f7f7f\">:</span><a href=\"file://<ipython-input-8-34328a1283e6>#39\"><span style=\"color: #7f7f7f; text-decoration-color: #7f7f7f\">39</span></a>\n",
       "</pre>\n"
      ]
     },
     "metadata": {}
    }
   ]
  },
  {
   "cell_type": "code",
   "source": [
    "get_stats('datasets/outputs/nerel_bio_common_labels')"
   ],
   "metadata": {
    "execution": {
     "iopub.status.busy": "2023-05-16T18:15:33.859885Z",
     "iopub.execute_input": "2023-05-16T18:15:33.860195Z",
     "iopub.status.idle": "2023-05-16T18:15:34.136645Z",
     "shell.execute_reply.started": "2023-05-16T18:15:33.860157Z",
     "shell.execute_reply": "2023-05-16T18:15:34.135411Z"
    },
    "trusted": true,
    "colab": {
     "base_uri": "https://localhost:8080/",
     "height": 680
    },
    "id": "YLhhHomswtYF",
    "outputId": "c449b512-b85d-4069-9d87-da09ce44c14a"
   },
   "execution_count": 10,
   "outputs": [
    {
     "output_type": "display_data",
     "data": {
      "text/plain": [
       "\u001B[2;36m[21:42:17]\u001B[0m\u001B[2;36m \u001B[0m\u001B[34mINFO    \u001B[0m For datasets/outputs/nerel_bio_common_l \u001B]8;id=39920;file://<ipython-input-8-34328a1283e6>\u001B\\\u001B[2m<ipython-input-8-34328a1283e6>\u001B[0m\u001B]8;;\u001B\\\u001B[2m:\u001B[0m\u001B]8;id=688252;file://<ipython-input-8-34328a1283e6>#28\u001B\\\u001B[2m28\u001B[0m\u001B]8;;\u001B\\\n",
       "\u001B[2;36m           \u001B[0m         abels/train.jsonl                       \u001B[2m                                 \u001B[0m\n"
      ],
      "text/html": [
       "<pre style=\"white-space:pre;overflow-x:auto;line-height:normal;font-family:Menlo,'DejaVu Sans Mono',consolas,'Courier New',monospace\"><span style=\"color: #7fbfbf; text-decoration-color: #7fbfbf\">[21:42:17] </span><span style=\"color: #000080; text-decoration-color: #000080\">INFO    </span> For datasets/outputs/nerel_bio_common_l <a href=\"file://<ipython-input-8-34328a1283e6>\"><span style=\"color: #7f7f7f; text-decoration-color: #7f7f7f\">&lt;ipython-input-8-34328a1283e6&gt;</span></a><span style=\"color: #7f7f7f; text-decoration-color: #7f7f7f\">:</span><a href=\"file://<ipython-input-8-34328a1283e6>#28\"><span style=\"color: #7f7f7f; text-decoration-color: #7f7f7f\">28</span></a>\n",
       "<span style=\"color: #7fbfbf; text-decoration-color: #7fbfbf\">           </span>         abels/train.jsonl                       <span style=\"color: #7f7f7f; text-decoration-color: #7f7f7f\">                                 </span>\n",
       "</pre>\n"
      ]
     },
     "metadata": {}
    },
    {
     "output_type": "display_data",
     "data": {
      "text/plain": [
       "\u001B[2;36m          \u001B[0m\u001B[2;36m \u001B[0m\u001B[34mINFO    \u001B[0m total sentence  \u001B[1;36m4767\u001B[0m                    \u001B]8;id=714207;file://<ipython-input-8-34328a1283e6>\u001B\\\u001B[2m<ipython-input-8-34328a1283e6>\u001B[0m\u001B]8;;\u001B\\\u001B[2m:\u001B[0m\u001B]8;id=293136;file://<ipython-input-8-34328a1283e6>#29\u001B\\\u001B[2m29\u001B[0m\u001B]8;;\u001B\\\n"
      ],
      "text/html": [
       "<pre style=\"white-space:pre;overflow-x:auto;line-height:normal;font-family:Menlo,'DejaVu Sans Mono',consolas,'Courier New',monospace\"><span style=\"color: #7fbfbf; text-decoration-color: #7fbfbf\">           </span><span style=\"color: #000080; text-decoration-color: #000080\">INFO    </span> total sentence  <span style=\"color: #008080; text-decoration-color: #008080; font-weight: bold\">4767</span>                    <a href=\"file://<ipython-input-8-34328a1283e6>\"><span style=\"color: #7f7f7f; text-decoration-color: #7f7f7f\">&lt;ipython-input-8-34328a1283e6&gt;</span></a><span style=\"color: #7f7f7f; text-decoration-color: #7f7f7f\">:</span><a href=\"file://<ipython-input-8-34328a1283e6>#29\"><span style=\"color: #7f7f7f; text-decoration-color: #7f7f7f\">29</span></a>\n",
       "</pre>\n"
      ]
     },
     "metadata": {}
    },
    {
     "output_type": "display_data",
     "data": {
      "text/plain": [
       "\u001B[2;36m          \u001B[0m\u001B[2;36m \u001B[0m\u001B[34mINFO    \u001B[0m average sentence length                 \u001B]8;id=859856;file://<ipython-input-8-34328a1283e6>\u001B\\\u001B[2m<ipython-input-8-34328a1283e6>\u001B[0m\u001B]8;;\u001B\\\u001B[2m:\u001B[0m\u001B]8;id=536001;file://<ipython-input-8-34328a1283e6>#30\u001B\\\u001B[2m30\u001B[0m\u001B]8;;\u001B\\\n",
       "\u001B[2;36m           \u001B[0m         \u001B[1;36m27.719320327249843\u001B[0m                      \u001B[2m                                 \u001B[0m\n"
      ],
      "text/html": [
       "<pre style=\"white-space:pre;overflow-x:auto;line-height:normal;font-family:Menlo,'DejaVu Sans Mono',consolas,'Courier New',monospace\"><span style=\"color: #7fbfbf; text-decoration-color: #7fbfbf\">           </span><span style=\"color: #000080; text-decoration-color: #000080\">INFO    </span> average sentence length                 <a href=\"file://<ipython-input-8-34328a1283e6>\"><span style=\"color: #7f7f7f; text-decoration-color: #7f7f7f\">&lt;ipython-input-8-34328a1283e6&gt;</span></a><span style=\"color: #7f7f7f; text-decoration-color: #7f7f7f\">:</span><a href=\"file://<ipython-input-8-34328a1283e6>#30\"><span style=\"color: #7f7f7f; text-decoration-color: #7f7f7f\">30</span></a>\n",
       "<span style=\"color: #7fbfbf; text-decoration-color: #7fbfbf\">           </span>         <span style=\"color: #008080; text-decoration-color: #008080; font-weight: bold\">27.719320327249843</span>                      <span style=\"color: #7f7f7f; text-decoration-color: #7f7f7f\">                                 </span>\n",
       "</pre>\n"
      ]
     },
     "metadata": {}
    },
    {
     "output_type": "display_data",
     "data": {
      "text/plain": [
       "\u001B[2;36m          \u001B[0m\u001B[2;36m \u001B[0m\u001B[34mINFO    \u001B[0m max sentence length  \u001B[1;36m182\u001B[0m                \u001B]8;id=83677;file://<ipython-input-8-34328a1283e6>\u001B\\\u001B[2m<ipython-input-8-34328a1283e6>\u001B[0m\u001B]8;;\u001B\\\u001B[2m:\u001B[0m\u001B]8;id=66470;file://<ipython-input-8-34328a1283e6>#31\u001B\\\u001B[2m31\u001B[0m\u001B]8;;\u001B\\\n"
      ],
      "text/html": [
       "<pre style=\"white-space:pre;overflow-x:auto;line-height:normal;font-family:Menlo,'DejaVu Sans Mono',consolas,'Courier New',monospace\"><span style=\"color: #7fbfbf; text-decoration-color: #7fbfbf\">           </span><span style=\"color: #000080; text-decoration-color: #000080\">INFO    </span> max sentence length  <span style=\"color: #008080; text-decoration-color: #008080; font-weight: bold\">182</span>                <a href=\"file://<ipython-input-8-34328a1283e6>\"><span style=\"color: #7f7f7f; text-decoration-color: #7f7f7f\">&lt;ipython-input-8-34328a1283e6&gt;</span></a><span style=\"color: #7f7f7f; text-decoration-color: #7f7f7f\">:</span><a href=\"file://<ipython-input-8-34328a1283e6>#31\"><span style=\"color: #7f7f7f; text-decoration-color: #7f7f7f\">31</span></a>\n",
       "</pre>\n"
      ]
     },
     "metadata": {}
    },
    {
     "output_type": "display_data",
     "data": {
      "text/plain": [
       "\u001B[2;36m          \u001B[0m\u001B[2;36m \u001B[0m\u001B[34mINFO    \u001B[0m num_entities  \u001B[1;36m23791\u001B[0m                     \u001B]8;id=568085;file://<ipython-input-8-34328a1283e6>\u001B\\\u001B[2m<ipython-input-8-34328a1283e6>\u001B[0m\u001B]8;;\u001B\\\u001B[2m:\u001B[0m\u001B]8;id=99313;file://<ipython-input-8-34328a1283e6>#33\u001B\\\u001B[2m33\u001B[0m\u001B]8;;\u001B\\\n"
      ],
      "text/html": [
       "<pre style=\"white-space:pre;overflow-x:auto;line-height:normal;font-family:Menlo,'DejaVu Sans Mono',consolas,'Courier New',monospace\"><span style=\"color: #7fbfbf; text-decoration-color: #7fbfbf\">           </span><span style=\"color: #000080; text-decoration-color: #000080\">INFO    </span> num_entities  <span style=\"color: #008080; text-decoration-color: #008080; font-weight: bold\">23791</span>                     <a href=\"file://<ipython-input-8-34328a1283e6>\"><span style=\"color: #7f7f7f; text-decoration-color: #7f7f7f\">&lt;ipython-input-8-34328a1283e6&gt;</span></a><span style=\"color: #7f7f7f; text-decoration-color: #7f7f7f\">:</span><a href=\"file://<ipython-input-8-34328a1283e6>#33\"><span style=\"color: #7f7f7f; text-decoration-color: #7f7f7f\">33</span></a>\n",
       "</pre>\n"
      ]
     },
     "metadata": {}
    },
    {
     "output_type": "display_data",
     "data": {
      "text/plain": [
       "\u001B[2;36m          \u001B[0m\u001B[2;36m \u001B[0m\u001B[34mINFO    \u001B[0m average entity length                   \u001B]8;id=373127;file://<ipython-input-8-34328a1283e6>\u001B\\\u001B[2m<ipython-input-8-34328a1283e6>\u001B[0m\u001B]8;;\u001B\\\u001B[2m:\u001B[0m\u001B]8;id=96002;file://<ipython-input-8-34328a1283e6>#34\u001B\\\u001B[2m34\u001B[0m\u001B]8;;\u001B\\\n",
       "\u001B[2;36m           \u001B[0m         \u001B[1;36m1.64209154722374\u001B[0m                        \u001B[2m                                 \u001B[0m\n"
      ],
      "text/html": [
       "<pre style=\"white-space:pre;overflow-x:auto;line-height:normal;font-family:Menlo,'DejaVu Sans Mono',consolas,'Courier New',monospace\"><span style=\"color: #7fbfbf; text-decoration-color: #7fbfbf\">           </span><span style=\"color: #000080; text-decoration-color: #000080\">INFO    </span> average entity length                   <a href=\"file://<ipython-input-8-34328a1283e6>\"><span style=\"color: #7f7f7f; text-decoration-color: #7f7f7f\">&lt;ipython-input-8-34328a1283e6&gt;</span></a><span style=\"color: #7f7f7f; text-decoration-color: #7f7f7f\">:</span><a href=\"file://<ipython-input-8-34328a1283e6>#34\"><span style=\"color: #7f7f7f; text-decoration-color: #7f7f7f\">34</span></a>\n",
       "<span style=\"color: #7fbfbf; text-decoration-color: #7fbfbf\">           </span>         <span style=\"color: #008080; text-decoration-color: #008080; font-weight: bold\">1.64209154722374</span>                        <span style=\"color: #7f7f7f; text-decoration-color: #7f7f7f\">                                 </span>\n",
       "</pre>\n"
      ]
     },
     "metadata": {}
    },
    {
     "output_type": "display_data",
     "data": {
      "text/plain": [
       "\u001B[2;36m          \u001B[0m\u001B[2;36m \u001B[0m\u001B[34mINFO    \u001B[0m max entity length   \u001B[1;36m14\u001B[0m                  \u001B]8;id=959845;file://<ipython-input-8-34328a1283e6>\u001B\\\u001B[2m<ipython-input-8-34328a1283e6>\u001B[0m\u001B]8;;\u001B\\\u001B[2m:\u001B[0m\u001B]8;id=508189;file://<ipython-input-8-34328a1283e6>#35\u001B\\\u001B[2m35\u001B[0m\u001B]8;;\u001B\\\n"
      ],
      "text/html": [
       "<pre style=\"white-space:pre;overflow-x:auto;line-height:normal;font-family:Menlo,'DejaVu Sans Mono',consolas,'Courier New',monospace\"><span style=\"color: #7fbfbf; text-decoration-color: #7fbfbf\">           </span><span style=\"color: #000080; text-decoration-color: #000080\">INFO    </span> max entity length   <span style=\"color: #008080; text-decoration-color: #008080; font-weight: bold\">14</span>                  <a href=\"file://<ipython-input-8-34328a1283e6>\"><span style=\"color: #7f7f7f; text-decoration-color: #7f7f7f\">&lt;ipython-input-8-34328a1283e6&gt;</span></a><span style=\"color: #7f7f7f; text-decoration-color: #7f7f7f\">:</span><a href=\"file://<ipython-input-8-34328a1283e6>#35\"><span style=\"color: #7f7f7f; text-decoration-color: #7f7f7f\">35</span></a>\n",
       "</pre>\n"
      ]
     },
     "metadata": {}
    },
    {
     "output_type": "display_data",
     "data": {
      "text/plain": [
       "\u001B[2;36m          \u001B[0m\u001B[2;36m \u001B[0m\u001B[34mINFO    \u001B[0m Number of nested entity  \u001B[1;36m8011\u001B[0m           \u001B]8;id=581567;file://<ipython-input-8-34328a1283e6>\u001B\\\u001B[2m<ipython-input-8-34328a1283e6>\u001B[0m\u001B]8;;\u001B\\\u001B[2m:\u001B[0m\u001B]8;id=271884;file://<ipython-input-8-34328a1283e6>#36\u001B\\\u001B[2m36\u001B[0m\u001B]8;;\u001B\\\n"
      ],
      "text/html": [
       "<pre style=\"white-space:pre;overflow-x:auto;line-height:normal;font-family:Menlo,'DejaVu Sans Mono',consolas,'Courier New',monospace\"><span style=\"color: #7fbfbf; text-decoration-color: #7fbfbf\">           </span><span style=\"color: #000080; text-decoration-color: #000080\">INFO    </span> Number of nested entity  <span style=\"color: #008080; text-decoration-color: #008080; font-weight: bold\">8011</span>           <a href=\"file://<ipython-input-8-34328a1283e6>\"><span style=\"color: #7f7f7f; text-decoration-color: #7f7f7f\">&lt;ipython-input-8-34328a1283e6&gt;</span></a><span style=\"color: #7f7f7f; text-decoration-color: #7f7f7f\">:</span><a href=\"file://<ipython-input-8-34328a1283e6>#36\"><span style=\"color: #7f7f7f; text-decoration-color: #7f7f7f\">36</span></a>\n",
       "</pre>\n"
      ]
     },
     "metadata": {}
    },
    {
     "output_type": "display_data",
     "data": {
      "text/plain": [
       "\u001B[2;36m          \u001B[0m\u001B[2;36m \u001B[0m\u001B[34mINFO    \u001B[0m Number of tokens  \u001B[1;36m132138\u001B[0m                \u001B]8;id=255301;file://<ipython-input-8-34328a1283e6>\u001B\\\u001B[2m<ipython-input-8-34328a1283e6>\u001B[0m\u001B]8;;\u001B\\\u001B[2m:\u001B[0m\u001B]8;id=732985;file://<ipython-input-8-34328a1283e6>#38\u001B\\\u001B[2m38\u001B[0m\u001B]8;;\u001B\\\n"
      ],
      "text/html": [
       "<pre style=\"white-space:pre;overflow-x:auto;line-height:normal;font-family:Menlo,'DejaVu Sans Mono',consolas,'Courier New',monospace\"><span style=\"color: #7fbfbf; text-decoration-color: #7fbfbf\">           </span><span style=\"color: #000080; text-decoration-color: #000080\">INFO    </span> Number of tokens  <span style=\"color: #008080; text-decoration-color: #008080; font-weight: bold\">132138</span>                <a href=\"file://<ipython-input-8-34328a1283e6>\"><span style=\"color: #7f7f7f; text-decoration-color: #7f7f7f\">&lt;ipython-input-8-34328a1283e6&gt;</span></a><span style=\"color: #7f7f7f; text-decoration-color: #7f7f7f\">:</span><a href=\"file://<ipython-input-8-34328a1283e6>#38\"><span style=\"color: #7f7f7f; text-decoration-color: #7f7f7f\">38</span></a>\n",
       "</pre>\n"
      ]
     },
     "metadata": {}
    },
    {
     "output_type": "display_data",
     "data": {
      "text/plain": [
       "\u001B[2;36m          \u001B[0m\u001B[2;36m \u001B[0m\u001B[34mINFO    \u001B[0m                                         \u001B]8;id=574468;file://<ipython-input-8-34328a1283e6>\u001B\\\u001B[2m<ipython-input-8-34328a1283e6>\u001B[0m\u001B]8;;\u001B\\\u001B[2m:\u001B[0m\u001B]8;id=305662;file://<ipython-input-8-34328a1283e6>#39\u001B\\\u001B[2m39\u001B[0m\u001B]8;;\u001B\\\n"
      ],
      "text/html": [
       "<pre style=\"white-space:pre;overflow-x:auto;line-height:normal;font-family:Menlo,'DejaVu Sans Mono',consolas,'Courier New',monospace\"><span style=\"color: #7fbfbf; text-decoration-color: #7fbfbf\">           </span><span style=\"color: #000080; text-decoration-color: #000080\">INFO    </span>                                         <a href=\"file://<ipython-input-8-34328a1283e6>\"><span style=\"color: #7f7f7f; text-decoration-color: #7f7f7f\">&lt;ipython-input-8-34328a1283e6&gt;</span></a><span style=\"color: #7f7f7f; text-decoration-color: #7f7f7f\">:</span><a href=\"file://<ipython-input-8-34328a1283e6>#39\"><span style=\"color: #7f7f7f; text-decoration-color: #7f7f7f\">39</span></a>\n",
       "</pre>\n"
      ]
     },
     "metadata": {}
    },
    {
     "output_type": "display_data",
     "data": {
      "text/plain": [
       "\u001B[2;36m[21:42:18]\u001B[0m\u001B[2;36m \u001B[0m\u001B[34mINFO    \u001B[0m For datasets/outputs/nerel_bio_common_l \u001B]8;id=42965;file://<ipython-input-8-34328a1283e6>\u001B\\\u001B[2m<ipython-input-8-34328a1283e6>\u001B[0m\u001B]8;;\u001B\\\u001B[2m:\u001B[0m\u001B]8;id=963046;file://<ipython-input-8-34328a1283e6>#28\u001B\\\u001B[2m28\u001B[0m\u001B]8;;\u001B\\\n",
       "\u001B[2;36m           \u001B[0m         abels/dev.jsonl                         \u001B[2m                                 \u001B[0m\n"
      ],
      "text/html": [
       "<pre style=\"white-space:pre;overflow-x:auto;line-height:normal;font-family:Menlo,'DejaVu Sans Mono',consolas,'Courier New',monospace\"><span style=\"color: #7fbfbf; text-decoration-color: #7fbfbf\">[21:42:18] </span><span style=\"color: #000080; text-decoration-color: #000080\">INFO    </span> For datasets/outputs/nerel_bio_common_l <a href=\"file://<ipython-input-8-34328a1283e6>\"><span style=\"color: #7f7f7f; text-decoration-color: #7f7f7f\">&lt;ipython-input-8-34328a1283e6&gt;</span></a><span style=\"color: #7f7f7f; text-decoration-color: #7f7f7f\">:</span><a href=\"file://<ipython-input-8-34328a1283e6>#28\"><span style=\"color: #7f7f7f; text-decoration-color: #7f7f7f\">28</span></a>\n",
       "<span style=\"color: #7fbfbf; text-decoration-color: #7fbfbf\">           </span>         abels/dev.jsonl                         <span style=\"color: #7f7f7f; text-decoration-color: #7f7f7f\">                                 </span>\n",
       "</pre>\n"
      ]
     },
     "metadata": {}
    },
    {
     "output_type": "display_data",
     "data": {
      "text/plain": [
       "\u001B[2;36m          \u001B[0m\u001B[2;36m \u001B[0m\u001B[34mINFO    \u001B[0m total sentence  \u001B[1;36m663\u001B[0m                     \u001B]8;id=799518;file://<ipython-input-8-34328a1283e6>\u001B\\\u001B[2m<ipython-input-8-34328a1283e6>\u001B[0m\u001B]8;;\u001B\\\u001B[2m:\u001B[0m\u001B]8;id=596169;file://<ipython-input-8-34328a1283e6>#29\u001B\\\u001B[2m29\u001B[0m\u001B]8;;\u001B\\\n"
      ],
      "text/html": [
       "<pre style=\"white-space:pre;overflow-x:auto;line-height:normal;font-family:Menlo,'DejaVu Sans Mono',consolas,'Courier New',monospace\"><span style=\"color: #7fbfbf; text-decoration-color: #7fbfbf\">           </span><span style=\"color: #000080; text-decoration-color: #000080\">INFO    </span> total sentence  <span style=\"color: #008080; text-decoration-color: #008080; font-weight: bold\">663</span>                     <a href=\"file://<ipython-input-8-34328a1283e6>\"><span style=\"color: #7f7f7f; text-decoration-color: #7f7f7f\">&lt;ipython-input-8-34328a1283e6&gt;</span></a><span style=\"color: #7f7f7f; text-decoration-color: #7f7f7f\">:</span><a href=\"file://<ipython-input-8-34328a1283e6>#29\"><span style=\"color: #7f7f7f; text-decoration-color: #7f7f7f\">29</span></a>\n",
       "</pre>\n"
      ]
     },
     "metadata": {}
    },
    {
     "output_type": "display_data",
     "data": {
      "text/plain": [
       "\u001B[2;36m          \u001B[0m\u001B[2;36m \u001B[0m\u001B[34mINFO    \u001B[0m average sentence length                 \u001B]8;id=457274;file://<ipython-input-8-34328a1283e6>\u001B\\\u001B[2m<ipython-input-8-34328a1283e6>\u001B[0m\u001B]8;;\u001B\\\u001B[2m:\u001B[0m\u001B]8;id=82567;file://<ipython-input-8-34328a1283e6>#30\u001B\\\u001B[2m30\u001B[0m\u001B]8;;\u001B\\\n",
       "\u001B[2;36m           \u001B[0m         \u001B[1;36m28.800904977375566\u001B[0m                      \u001B[2m                                 \u001B[0m\n"
      ],
      "text/html": [
       "<pre style=\"white-space:pre;overflow-x:auto;line-height:normal;font-family:Menlo,'DejaVu Sans Mono',consolas,'Courier New',monospace\"><span style=\"color: #7fbfbf; text-decoration-color: #7fbfbf\">           </span><span style=\"color: #000080; text-decoration-color: #000080\">INFO    </span> average sentence length                 <a href=\"file://<ipython-input-8-34328a1283e6>\"><span style=\"color: #7f7f7f; text-decoration-color: #7f7f7f\">&lt;ipython-input-8-34328a1283e6&gt;</span></a><span style=\"color: #7f7f7f; text-decoration-color: #7f7f7f\">:</span><a href=\"file://<ipython-input-8-34328a1283e6>#30\"><span style=\"color: #7f7f7f; text-decoration-color: #7f7f7f\">30</span></a>\n",
       "<span style=\"color: #7fbfbf; text-decoration-color: #7fbfbf\">           </span>         <span style=\"color: #008080; text-decoration-color: #008080; font-weight: bold\">28.800904977375566</span>                      <span style=\"color: #7f7f7f; text-decoration-color: #7f7f7f\">                                 </span>\n",
       "</pre>\n"
      ]
     },
     "metadata": {}
    },
    {
     "output_type": "display_data",
     "data": {
      "text/plain": [
       "\u001B[2;36m          \u001B[0m\u001B[2;36m \u001B[0m\u001B[34mINFO    \u001B[0m max sentence length  \u001B[1;36m144\u001B[0m                \u001B]8;id=279182;file://<ipython-input-8-34328a1283e6>\u001B\\\u001B[2m<ipython-input-8-34328a1283e6>\u001B[0m\u001B]8;;\u001B\\\u001B[2m:\u001B[0m\u001B]8;id=115276;file://<ipython-input-8-34328a1283e6>#31\u001B\\\u001B[2m31\u001B[0m\u001B]8;;\u001B\\\n"
      ],
      "text/html": [
       "<pre style=\"white-space:pre;overflow-x:auto;line-height:normal;font-family:Menlo,'DejaVu Sans Mono',consolas,'Courier New',monospace\"><span style=\"color: #7fbfbf; text-decoration-color: #7fbfbf\">           </span><span style=\"color: #000080; text-decoration-color: #000080\">INFO    </span> max sentence length  <span style=\"color: #008080; text-decoration-color: #008080; font-weight: bold\">144</span>                <a href=\"file://<ipython-input-8-34328a1283e6>\"><span style=\"color: #7f7f7f; text-decoration-color: #7f7f7f\">&lt;ipython-input-8-34328a1283e6&gt;</span></a><span style=\"color: #7f7f7f; text-decoration-color: #7f7f7f\">:</span><a href=\"file://<ipython-input-8-34328a1283e6>#31\"><span style=\"color: #7f7f7f; text-decoration-color: #7f7f7f\">31</span></a>\n",
       "</pre>\n"
      ]
     },
     "metadata": {}
    },
    {
     "output_type": "display_data",
     "data": {
      "text/plain": [
       "\u001B[2;36m          \u001B[0m\u001B[2;36m \u001B[0m\u001B[34mINFO    \u001B[0m num_entities  \u001B[1;36m3029\u001B[0m                      \u001B]8;id=213360;file://<ipython-input-8-34328a1283e6>\u001B\\\u001B[2m<ipython-input-8-34328a1283e6>\u001B[0m\u001B]8;;\u001B\\\u001B[2m:\u001B[0m\u001B]8;id=552108;file://<ipython-input-8-34328a1283e6>#33\u001B\\\u001B[2m33\u001B[0m\u001B]8;;\u001B\\\n"
      ],
      "text/html": [
       "<pre style=\"white-space:pre;overflow-x:auto;line-height:normal;font-family:Menlo,'DejaVu Sans Mono',consolas,'Courier New',monospace\"><span style=\"color: #7fbfbf; text-decoration-color: #7fbfbf\">           </span><span style=\"color: #000080; text-decoration-color: #000080\">INFO    </span> num_entities  <span style=\"color: #008080; text-decoration-color: #008080; font-weight: bold\">3029</span>                      <a href=\"file://<ipython-input-8-34328a1283e6>\"><span style=\"color: #7f7f7f; text-decoration-color: #7f7f7f\">&lt;ipython-input-8-34328a1283e6&gt;</span></a><span style=\"color: #7f7f7f; text-decoration-color: #7f7f7f\">:</span><a href=\"file://<ipython-input-8-34328a1283e6>#33\"><span style=\"color: #7f7f7f; text-decoration-color: #7f7f7f\">33</span></a>\n",
       "</pre>\n"
      ]
     },
     "metadata": {}
    },
    {
     "output_type": "display_data",
     "data": {
      "text/plain": [
       "\u001B[2;36m          \u001B[0m\u001B[2;36m \u001B[0m\u001B[34mINFO    \u001B[0m average entity length                   \u001B]8;id=487774;file://<ipython-input-8-34328a1283e6>\u001B\\\u001B[2m<ipython-input-8-34328a1283e6>\u001B[0m\u001B]8;;\u001B\\\u001B[2m:\u001B[0m\u001B]8;id=694485;file://<ipython-input-8-34328a1283e6>#34\u001B\\\u001B[2m34\u001B[0m\u001B]8;;\u001B\\\n",
       "\u001B[2;36m           \u001B[0m         \u001B[1;36m1.6196764608781775\u001B[0m                      \u001B[2m                                 \u001B[0m\n"
      ],
      "text/html": [
       "<pre style=\"white-space:pre;overflow-x:auto;line-height:normal;font-family:Menlo,'DejaVu Sans Mono',consolas,'Courier New',monospace\"><span style=\"color: #7fbfbf; text-decoration-color: #7fbfbf\">           </span><span style=\"color: #000080; text-decoration-color: #000080\">INFO    </span> average entity length                   <a href=\"file://<ipython-input-8-34328a1283e6>\"><span style=\"color: #7f7f7f; text-decoration-color: #7f7f7f\">&lt;ipython-input-8-34328a1283e6&gt;</span></a><span style=\"color: #7f7f7f; text-decoration-color: #7f7f7f\">:</span><a href=\"file://<ipython-input-8-34328a1283e6>#34\"><span style=\"color: #7f7f7f; text-decoration-color: #7f7f7f\">34</span></a>\n",
       "<span style=\"color: #7fbfbf; text-decoration-color: #7fbfbf\">           </span>         <span style=\"color: #008080; text-decoration-color: #008080; font-weight: bold\">1.6196764608781775</span>                      <span style=\"color: #7f7f7f; text-decoration-color: #7f7f7f\">                                 </span>\n",
       "</pre>\n"
      ]
     },
     "metadata": {}
    },
    {
     "output_type": "display_data",
     "data": {
      "text/plain": [
       "\u001B[2;36m          \u001B[0m\u001B[2;36m \u001B[0m\u001B[34mINFO    \u001B[0m max entity length   \u001B[1;36m14\u001B[0m                  \u001B]8;id=382764;file://<ipython-input-8-34328a1283e6>\u001B\\\u001B[2m<ipython-input-8-34328a1283e6>\u001B[0m\u001B]8;;\u001B\\\u001B[2m:\u001B[0m\u001B]8;id=528181;file://<ipython-input-8-34328a1283e6>#35\u001B\\\u001B[2m35\u001B[0m\u001B]8;;\u001B\\\n"
      ],
      "text/html": [
       "<pre style=\"white-space:pre;overflow-x:auto;line-height:normal;font-family:Menlo,'DejaVu Sans Mono',consolas,'Courier New',monospace\"><span style=\"color: #7fbfbf; text-decoration-color: #7fbfbf\">           </span><span style=\"color: #000080; text-decoration-color: #000080\">INFO    </span> max entity length   <span style=\"color: #008080; text-decoration-color: #008080; font-weight: bold\">14</span>                  <a href=\"file://<ipython-input-8-34328a1283e6>\"><span style=\"color: #7f7f7f; text-decoration-color: #7f7f7f\">&lt;ipython-input-8-34328a1283e6&gt;</span></a><span style=\"color: #7f7f7f; text-decoration-color: #7f7f7f\">:</span><a href=\"file://<ipython-input-8-34328a1283e6>#35\"><span style=\"color: #7f7f7f; text-decoration-color: #7f7f7f\">35</span></a>\n",
       "</pre>\n"
      ]
     },
     "metadata": {}
    },
    {
     "output_type": "display_data",
     "data": {
      "text/plain": [
       "\u001B[2;36m          \u001B[0m\u001B[2;36m \u001B[0m\u001B[34mINFO    \u001B[0m Number of nested entity  \u001B[1;36m815\u001B[0m            \u001B]8;id=4581;file://<ipython-input-8-34328a1283e6>\u001B\\\u001B[2m<ipython-input-8-34328a1283e6>\u001B[0m\u001B]8;;\u001B\\\u001B[2m:\u001B[0m\u001B]8;id=555042;file://<ipython-input-8-34328a1283e6>#36\u001B\\\u001B[2m36\u001B[0m\u001B]8;;\u001B\\\n"
      ],
      "text/html": [
       "<pre style=\"white-space:pre;overflow-x:auto;line-height:normal;font-family:Menlo,'DejaVu Sans Mono',consolas,'Courier New',monospace\"><span style=\"color: #7fbfbf; text-decoration-color: #7fbfbf\">           </span><span style=\"color: #000080; text-decoration-color: #000080\">INFO    </span> Number of nested entity  <span style=\"color: #008080; text-decoration-color: #008080; font-weight: bold\">815</span>            <a href=\"file://<ipython-input-8-34328a1283e6>\"><span style=\"color: #7f7f7f; text-decoration-color: #7f7f7f\">&lt;ipython-input-8-34328a1283e6&gt;</span></a><span style=\"color: #7f7f7f; text-decoration-color: #7f7f7f\">:</span><a href=\"file://<ipython-input-8-34328a1283e6>#36\"><span style=\"color: #7f7f7f; text-decoration-color: #7f7f7f\">36</span></a>\n",
       "</pre>\n"
      ]
     },
     "metadata": {}
    },
    {
     "output_type": "display_data",
     "data": {
      "text/plain": [
       "\u001B[2;36m          \u001B[0m\u001B[2;36m \u001B[0m\u001B[34mINFO    \u001B[0m Number of tokens  \u001B[1;36m19095\u001B[0m                 \u001B]8;id=571656;file://<ipython-input-8-34328a1283e6>\u001B\\\u001B[2m<ipython-input-8-34328a1283e6>\u001B[0m\u001B]8;;\u001B\\\u001B[2m:\u001B[0m\u001B]8;id=435669;file://<ipython-input-8-34328a1283e6>#38\u001B\\\u001B[2m38\u001B[0m\u001B]8;;\u001B\\\n"
      ],
      "text/html": [
       "<pre style=\"white-space:pre;overflow-x:auto;line-height:normal;font-family:Menlo,'DejaVu Sans Mono',consolas,'Courier New',monospace\"><span style=\"color: #7fbfbf; text-decoration-color: #7fbfbf\">           </span><span style=\"color: #000080; text-decoration-color: #000080\">INFO    </span> Number of tokens  <span style=\"color: #008080; text-decoration-color: #008080; font-weight: bold\">19095</span>                 <a href=\"file://<ipython-input-8-34328a1283e6>\"><span style=\"color: #7f7f7f; text-decoration-color: #7f7f7f\">&lt;ipython-input-8-34328a1283e6&gt;</span></a><span style=\"color: #7f7f7f; text-decoration-color: #7f7f7f\">:</span><a href=\"file://<ipython-input-8-34328a1283e6>#38\"><span style=\"color: #7f7f7f; text-decoration-color: #7f7f7f\">38</span></a>\n",
       "</pre>\n"
      ]
     },
     "metadata": {}
    },
    {
     "output_type": "display_data",
     "data": {
      "text/plain": [
       "\u001B[2;36m          \u001B[0m\u001B[2;36m \u001B[0m\u001B[34mINFO    \u001B[0m                                         \u001B]8;id=17291;file://<ipython-input-8-34328a1283e6>\u001B\\\u001B[2m<ipython-input-8-34328a1283e6>\u001B[0m\u001B]8;;\u001B\\\u001B[2m:\u001B[0m\u001B]8;id=445319;file://<ipython-input-8-34328a1283e6>#39\u001B\\\u001B[2m39\u001B[0m\u001B]8;;\u001B\\\n"
      ],
      "text/html": [
       "<pre style=\"white-space:pre;overflow-x:auto;line-height:normal;font-family:Menlo,'DejaVu Sans Mono',consolas,'Courier New',monospace\"><span style=\"color: #7fbfbf; text-decoration-color: #7fbfbf\">           </span><span style=\"color: #000080; text-decoration-color: #000080\">INFO    </span>                                         <a href=\"file://<ipython-input-8-34328a1283e6>\"><span style=\"color: #7f7f7f; text-decoration-color: #7f7f7f\">&lt;ipython-input-8-34328a1283e6&gt;</span></a><span style=\"color: #7f7f7f; text-decoration-color: #7f7f7f\">:</span><a href=\"file://<ipython-input-8-34328a1283e6>#39\"><span style=\"color: #7f7f7f; text-decoration-color: #7f7f7f\">39</span></a>\n",
       "</pre>\n"
      ]
     },
     "metadata": {}
    },
    {
     "output_type": "display_data",
     "data": {
      "text/plain": [
       "\u001B[2;36m          \u001B[0m\u001B[2;36m \u001B[0m\u001B[34mINFO    \u001B[0m For datasets/outputs/nerel_bio_common_l \u001B]8;id=457929;file://<ipython-input-8-34328a1283e6>\u001B\\\u001B[2m<ipython-input-8-34328a1283e6>\u001B[0m\u001B]8;;\u001B\\\u001B[2m:\u001B[0m\u001B]8;id=169590;file://<ipython-input-8-34328a1283e6>#28\u001B\\\u001B[2m28\u001B[0m\u001B]8;;\u001B\\\n",
       "\u001B[2;36m           \u001B[0m         abels/test.jsonl                        \u001B[2m                                 \u001B[0m\n"
      ],
      "text/html": [
       "<pre style=\"white-space:pre;overflow-x:auto;line-height:normal;font-family:Menlo,'DejaVu Sans Mono',consolas,'Courier New',monospace\"><span style=\"color: #7fbfbf; text-decoration-color: #7fbfbf\">           </span><span style=\"color: #000080; text-decoration-color: #000080\">INFO    </span> For datasets/outputs/nerel_bio_common_l <a href=\"file://<ipython-input-8-34328a1283e6>\"><span style=\"color: #7f7f7f; text-decoration-color: #7f7f7f\">&lt;ipython-input-8-34328a1283e6&gt;</span></a><span style=\"color: #7f7f7f; text-decoration-color: #7f7f7f\">:</span><a href=\"file://<ipython-input-8-34328a1283e6>#28\"><span style=\"color: #7f7f7f; text-decoration-color: #7f7f7f\">28</span></a>\n",
       "<span style=\"color: #7fbfbf; text-decoration-color: #7fbfbf\">           </span>         abels/test.jsonl                        <span style=\"color: #7f7f7f; text-decoration-color: #7f7f7f\">                                 </span>\n",
       "</pre>\n"
      ]
     },
     "metadata": {}
    },
    {
     "output_type": "display_data",
     "data": {
      "text/plain": [
       "\u001B[2;36m          \u001B[0m\u001B[2;36m \u001B[0m\u001B[34mINFO    \u001B[0m total sentence  \u001B[1;36m662\u001B[0m                     \u001B]8;id=384303;file://<ipython-input-8-34328a1283e6>\u001B\\\u001B[2m<ipython-input-8-34328a1283e6>\u001B[0m\u001B]8;;\u001B\\\u001B[2m:\u001B[0m\u001B]8;id=765160;file://<ipython-input-8-34328a1283e6>#29\u001B\\\u001B[2m29\u001B[0m\u001B]8;;\u001B\\\n"
      ],
      "text/html": [
       "<pre style=\"white-space:pre;overflow-x:auto;line-height:normal;font-family:Menlo,'DejaVu Sans Mono',consolas,'Courier New',monospace\"><span style=\"color: #7fbfbf; text-decoration-color: #7fbfbf\">           </span><span style=\"color: #000080; text-decoration-color: #000080\">INFO    </span> total sentence  <span style=\"color: #008080; text-decoration-color: #008080; font-weight: bold\">662</span>                     <a href=\"file://<ipython-input-8-34328a1283e6>\"><span style=\"color: #7f7f7f; text-decoration-color: #7f7f7f\">&lt;ipython-input-8-34328a1283e6&gt;</span></a><span style=\"color: #7f7f7f; text-decoration-color: #7f7f7f\">:</span><a href=\"file://<ipython-input-8-34328a1283e6>#29\"><span style=\"color: #7f7f7f; text-decoration-color: #7f7f7f\">29</span></a>\n",
       "</pre>\n"
      ]
     },
     "metadata": {}
    },
    {
     "output_type": "display_data",
     "data": {
      "text/plain": [
       "\u001B[2;36m          \u001B[0m\u001B[2;36m \u001B[0m\u001B[34mINFO    \u001B[0m average sentence length                 \u001B]8;id=544070;file://<ipython-input-8-34328a1283e6>\u001B\\\u001B[2m<ipython-input-8-34328a1283e6>\u001B[0m\u001B]8;;\u001B\\\u001B[2m:\u001B[0m\u001B]8;id=325602;file://<ipython-input-8-34328a1283e6>#30\u001B\\\u001B[2m30\u001B[0m\u001B]8;;\u001B\\\n",
       "\u001B[2;36m           \u001B[0m         \u001B[1;36m29.11631419939577\u001B[0m                       \u001B[2m                                 \u001B[0m\n"
      ],
      "text/html": [
       "<pre style=\"white-space:pre;overflow-x:auto;line-height:normal;font-family:Menlo,'DejaVu Sans Mono',consolas,'Courier New',monospace\"><span style=\"color: #7fbfbf; text-decoration-color: #7fbfbf\">           </span><span style=\"color: #000080; text-decoration-color: #000080\">INFO    </span> average sentence length                 <a href=\"file://<ipython-input-8-34328a1283e6>\"><span style=\"color: #7f7f7f; text-decoration-color: #7f7f7f\">&lt;ipython-input-8-34328a1283e6&gt;</span></a><span style=\"color: #7f7f7f; text-decoration-color: #7f7f7f\">:</span><a href=\"file://<ipython-input-8-34328a1283e6>#30\"><span style=\"color: #7f7f7f; text-decoration-color: #7f7f7f\">30</span></a>\n",
       "<span style=\"color: #7fbfbf; text-decoration-color: #7fbfbf\">           </span>         <span style=\"color: #008080; text-decoration-color: #008080; font-weight: bold\">29.11631419939577</span>                       <span style=\"color: #7f7f7f; text-decoration-color: #7f7f7f\">                                 </span>\n",
       "</pre>\n"
      ]
     },
     "metadata": {}
    },
    {
     "output_type": "display_data",
     "data": {
      "text/plain": [
       "\u001B[2;36m          \u001B[0m\u001B[2;36m \u001B[0m\u001B[34mINFO    \u001B[0m max sentence length  \u001B[1;36m115\u001B[0m                \u001B]8;id=137860;file://<ipython-input-8-34328a1283e6>\u001B\\\u001B[2m<ipython-input-8-34328a1283e6>\u001B[0m\u001B]8;;\u001B\\\u001B[2m:\u001B[0m\u001B]8;id=271972;file://<ipython-input-8-34328a1283e6>#31\u001B\\\u001B[2m31\u001B[0m\u001B]8;;\u001B\\\n"
      ],
      "text/html": [
       "<pre style=\"white-space:pre;overflow-x:auto;line-height:normal;font-family:Menlo,'DejaVu Sans Mono',consolas,'Courier New',monospace\"><span style=\"color: #7fbfbf; text-decoration-color: #7fbfbf\">           </span><span style=\"color: #000080; text-decoration-color: #000080\">INFO    </span> max sentence length  <span style=\"color: #008080; text-decoration-color: #008080; font-weight: bold\">115</span>                <a href=\"file://<ipython-input-8-34328a1283e6>\"><span style=\"color: #7f7f7f; text-decoration-color: #7f7f7f\">&lt;ipython-input-8-34328a1283e6&gt;</span></a><span style=\"color: #7f7f7f; text-decoration-color: #7f7f7f\">:</span><a href=\"file://<ipython-input-8-34328a1283e6>#31\"><span style=\"color: #7f7f7f; text-decoration-color: #7f7f7f\">31</span></a>\n",
       "</pre>\n"
      ]
     },
     "metadata": {}
    },
    {
     "output_type": "display_data",
     "data": {
      "text/plain": [
       "\u001B[2;36m          \u001B[0m\u001B[2;36m \u001B[0m\u001B[34mINFO    \u001B[0m num_entities  \u001B[1;36m3128\u001B[0m                      \u001B]8;id=724274;file://<ipython-input-8-34328a1283e6>\u001B\\\u001B[2m<ipython-input-8-34328a1283e6>\u001B[0m\u001B]8;;\u001B\\\u001B[2m:\u001B[0m\u001B]8;id=622357;file://<ipython-input-8-34328a1283e6>#33\u001B\\\u001B[2m33\u001B[0m\u001B]8;;\u001B\\\n"
      ],
      "text/html": [
       "<pre style=\"white-space:pre;overflow-x:auto;line-height:normal;font-family:Menlo,'DejaVu Sans Mono',consolas,'Courier New',monospace\"><span style=\"color: #7fbfbf; text-decoration-color: #7fbfbf\">           </span><span style=\"color: #000080; text-decoration-color: #000080\">INFO    </span> num_entities  <span style=\"color: #008080; text-decoration-color: #008080; font-weight: bold\">3128</span>                      <a href=\"file://<ipython-input-8-34328a1283e6>\"><span style=\"color: #7f7f7f; text-decoration-color: #7f7f7f\">&lt;ipython-input-8-34328a1283e6&gt;</span></a><span style=\"color: #7f7f7f; text-decoration-color: #7f7f7f\">:</span><a href=\"file://<ipython-input-8-34328a1283e6>#33\"><span style=\"color: #7f7f7f; text-decoration-color: #7f7f7f\">33</span></a>\n",
       "</pre>\n"
      ]
     },
     "metadata": {}
    },
    {
     "output_type": "display_data",
     "data": {
      "text/plain": [
       "\u001B[2;36m          \u001B[0m\u001B[2;36m \u001B[0m\u001B[34mINFO    \u001B[0m average entity length                   \u001B]8;id=186656;file://<ipython-input-8-34328a1283e6>\u001B\\\u001B[2m<ipython-input-8-34328a1283e6>\u001B[0m\u001B]8;;\u001B\\\u001B[2m:\u001B[0m\u001B]8;id=220109;file://<ipython-input-8-34328a1283e6>#34\u001B\\\u001B[2m34\u001B[0m\u001B]8;;\u001B\\\n",
       "\u001B[2;36m           \u001B[0m         \u001B[1;36m1.667838874680307\u001B[0m                       \u001B[2m                                 \u001B[0m\n"
      ],
      "text/html": [
       "<pre style=\"white-space:pre;overflow-x:auto;line-height:normal;font-family:Menlo,'DejaVu Sans Mono',consolas,'Courier New',monospace\"><span style=\"color: #7fbfbf; text-decoration-color: #7fbfbf\">           </span><span style=\"color: #000080; text-decoration-color: #000080\">INFO    </span> average entity length                   <a href=\"file://<ipython-input-8-34328a1283e6>\"><span style=\"color: #7f7f7f; text-decoration-color: #7f7f7f\">&lt;ipython-input-8-34328a1283e6&gt;</span></a><span style=\"color: #7f7f7f; text-decoration-color: #7f7f7f\">:</span><a href=\"file://<ipython-input-8-34328a1283e6>#34\"><span style=\"color: #7f7f7f; text-decoration-color: #7f7f7f\">34</span></a>\n",
       "<span style=\"color: #7fbfbf; text-decoration-color: #7fbfbf\">           </span>         <span style=\"color: #008080; text-decoration-color: #008080; font-weight: bold\">1.667838874680307</span>                       <span style=\"color: #7f7f7f; text-decoration-color: #7f7f7f\">                                 </span>\n",
       "</pre>\n"
      ]
     },
     "metadata": {}
    },
    {
     "output_type": "display_data",
     "data": {
      "text/plain": [
       "\u001B[2;36m          \u001B[0m\u001B[2;36m \u001B[0m\u001B[34mINFO    \u001B[0m max entity length   \u001B[1;36m10\u001B[0m                  \u001B]8;id=830050;file://<ipython-input-8-34328a1283e6>\u001B\\\u001B[2m<ipython-input-8-34328a1283e6>\u001B[0m\u001B]8;;\u001B\\\u001B[2m:\u001B[0m\u001B]8;id=987071;file://<ipython-input-8-34328a1283e6>#35\u001B\\\u001B[2m35\u001B[0m\u001B]8;;\u001B\\\n"
      ],
      "text/html": [
       "<pre style=\"white-space:pre;overflow-x:auto;line-height:normal;font-family:Menlo,'DejaVu Sans Mono',consolas,'Courier New',monospace\"><span style=\"color: #7fbfbf; text-decoration-color: #7fbfbf\">           </span><span style=\"color: #000080; text-decoration-color: #000080\">INFO    </span> max entity length   <span style=\"color: #008080; text-decoration-color: #008080; font-weight: bold\">10</span>                  <a href=\"file://<ipython-input-8-34328a1283e6>\"><span style=\"color: #7f7f7f; text-decoration-color: #7f7f7f\">&lt;ipython-input-8-34328a1283e6&gt;</span></a><span style=\"color: #7f7f7f; text-decoration-color: #7f7f7f\">:</span><a href=\"file://<ipython-input-8-34328a1283e6>#35\"><span style=\"color: #7f7f7f; text-decoration-color: #7f7f7f\">35</span></a>\n",
       "</pre>\n"
      ]
     },
     "metadata": {}
    },
    {
     "output_type": "display_data",
     "data": {
      "text/plain": [
       "\u001B[2;36m          \u001B[0m\u001B[2;36m \u001B[0m\u001B[34mINFO    \u001B[0m Number of nested entity  \u001B[1;36m880\u001B[0m            \u001B]8;id=112743;file://<ipython-input-8-34328a1283e6>\u001B\\\u001B[2m<ipython-input-8-34328a1283e6>\u001B[0m\u001B]8;;\u001B\\\u001B[2m:\u001B[0m\u001B]8;id=774150;file://<ipython-input-8-34328a1283e6>#36\u001B\\\u001B[2m36\u001B[0m\u001B]8;;\u001B\\\n"
      ],
      "text/html": [
       "<pre style=\"white-space:pre;overflow-x:auto;line-height:normal;font-family:Menlo,'DejaVu Sans Mono',consolas,'Courier New',monospace\"><span style=\"color: #7fbfbf; text-decoration-color: #7fbfbf\">           </span><span style=\"color: #000080; text-decoration-color: #000080\">INFO    </span> Number of nested entity  <span style=\"color: #008080; text-decoration-color: #008080; font-weight: bold\">880</span>            <a href=\"file://<ipython-input-8-34328a1283e6>\"><span style=\"color: #7f7f7f; text-decoration-color: #7f7f7f\">&lt;ipython-input-8-34328a1283e6&gt;</span></a><span style=\"color: #7f7f7f; text-decoration-color: #7f7f7f\">:</span><a href=\"file://<ipython-input-8-34328a1283e6>#36\"><span style=\"color: #7f7f7f; text-decoration-color: #7f7f7f\">36</span></a>\n",
       "</pre>\n"
      ]
     },
     "metadata": {}
    },
    {
     "output_type": "display_data",
     "data": {
      "text/plain": [
       "\u001B[2;36m          \u001B[0m\u001B[2;36m \u001B[0m\u001B[34mINFO    \u001B[0m Number of tokens  \u001B[1;36m19275\u001B[0m                 \u001B]8;id=52543;file://<ipython-input-8-34328a1283e6>\u001B\\\u001B[2m<ipython-input-8-34328a1283e6>\u001B[0m\u001B]8;;\u001B\\\u001B[2m:\u001B[0m\u001B]8;id=562392;file://<ipython-input-8-34328a1283e6>#38\u001B\\\u001B[2m38\u001B[0m\u001B]8;;\u001B\\\n"
      ],
      "text/html": [
       "<pre style=\"white-space:pre;overflow-x:auto;line-height:normal;font-family:Menlo,'DejaVu Sans Mono',consolas,'Courier New',monospace\"><span style=\"color: #7fbfbf; text-decoration-color: #7fbfbf\">           </span><span style=\"color: #000080; text-decoration-color: #000080\">INFO    </span> Number of tokens  <span style=\"color: #008080; text-decoration-color: #008080; font-weight: bold\">19275</span>                 <a href=\"file://<ipython-input-8-34328a1283e6>\"><span style=\"color: #7f7f7f; text-decoration-color: #7f7f7f\">&lt;ipython-input-8-34328a1283e6&gt;</span></a><span style=\"color: #7f7f7f; text-decoration-color: #7f7f7f\">:</span><a href=\"file://<ipython-input-8-34328a1283e6>#38\"><span style=\"color: #7f7f7f; text-decoration-color: #7f7f7f\">38</span></a>\n",
       "</pre>\n"
      ]
     },
     "metadata": {}
    },
    {
     "output_type": "display_data",
     "data": {
      "text/plain": [
       "\u001B[2;36m          \u001B[0m\u001B[2;36m \u001B[0m\u001B[34mINFO    \u001B[0m                                         \u001B]8;id=741455;file://<ipython-input-8-34328a1283e6>\u001B\\\u001B[2m<ipython-input-8-34328a1283e6>\u001B[0m\u001B]8;;\u001B\\\u001B[2m:\u001B[0m\u001B]8;id=340635;file://<ipython-input-8-34328a1283e6>#39\u001B\\\u001B[2m39\u001B[0m\u001B]8;;\u001B\\\n"
      ],
      "text/html": [
       "<pre style=\"white-space:pre;overflow-x:auto;line-height:normal;font-family:Menlo,'DejaVu Sans Mono',consolas,'Courier New',monospace\"><span style=\"color: #7fbfbf; text-decoration-color: #7fbfbf\">           </span><span style=\"color: #000080; text-decoration-color: #000080\">INFO    </span>                                         <a href=\"file://<ipython-input-8-34328a1283e6>\"><span style=\"color: #7f7f7f; text-decoration-color: #7f7f7f\">&lt;ipython-input-8-34328a1283e6&gt;</span></a><span style=\"color: #7f7f7f; text-decoration-color: #7f7f7f\">:</span><a href=\"file://<ipython-input-8-34328a1283e6>#39\"><span style=\"color: #7f7f7f; text-decoration-color: #7f7f7f\">39</span></a>\n",
       "</pre>\n"
      ]
     },
     "metadata": {}
    }
   ]
  },
  {
   "cell_type": "markdown",
   "source": [
    "### Fetching and preprocessing the dataset"
   ],
   "metadata": {
    "id": "oaxZnMo8wtYG"
   }
  },
  {
   "cell_type": "code",
   "source": [
    "model_name = 'DeepPavlov/rubert-base-cased'\n",
    "\n",
    "\n",
    "# @cache_results('caches/ner_caches.pkl', _refresh=False)\n",
    "def get_data(dataset_name, model_name):\n",
    "    paths = f'datasets/outputs/{dataset_name}'\n",
    "    pipe = SpanNerPipe(model_name=model_name)\n",
    "    dl = pipe.process_from_file(paths)\n",
    "    return dl, pipe.matrix_segs\n",
    "\n",
    "def densify(x):\n",
    "    x = x.todense().astype(np.float32)\n",
    "    return x\n",
    "    \n",
    "def preprocess_data(dataset_name, model_name):\n",
    "\n",
    "    dl, matrix_segs = get_data(dataset_name, model_name)\n",
    "\n",
    "    dl.apply_field(densify, field_name='matrix', new_field_name='matrix', progress_bar='Densify')\n",
    "\n",
    "    print(dl)\n",
    "\n",
    "    label2idx = getattr(dl, 'ner_vocab') if hasattr(dl, 'ner_vocab') else getattr(dl, 'label2idx')\n",
    "    print(f\"{len(label2idx)} labels: {label2idx}, matrix_segs:{matrix_segs}\")\n",
    "\n",
    "    dls = {}\n",
    "    for name, ds in dl.iter_datasets():\n",
    "        ds.set_pad('matrix', pad_fn=Torch3DMatrixPadder(pad_val=ds.collator.input_fields['matrix']['pad_val'],\n",
    "                                                        num_class=matrix_segs['ent'],\n",
    "                                                        batch_size=1))\n",
    "\n",
    "        _dl = prepare_torch_dataloader(ds, batch_size=1, num_workers=0, pin_memory=True, shuffle=False)\n",
    "\n",
    "        dls[name] = _dl\n",
    "    \n",
    "    return dls, label2idx, matrix_segs"
   ],
   "metadata": {
    "execution": {
     "iopub.status.busy": "2023-05-16T18:15:34.140098Z",
     "iopub.execute_input": "2023-05-16T18:15:34.140389Z",
     "iopub.status.idle": "2023-05-16T18:15:34.151541Z",
     "shell.execute_reply.started": "2023-05-16T18:15:34.140362Z",
     "shell.execute_reply": "2023-05-16T18:15:34.150259Z"
    },
    "trusted": true,
    "id": "5fxCy_UNwtYG"
   },
   "execution_count": 11,
   "outputs": []
  },
  {
   "cell_type": "code",
   "source": [
    "dls_nerel, label2idx_nerel, matrix_segs_nerel = preprocess_data('nerel_common_labels', model_name)"
   ],
   "metadata": {
    "execution": {
     "iopub.status.busy": "2023-05-16T18:15:34.153225Z",
     "iopub.execute_input": "2023-05-16T18:15:34.153709Z",
     "iopub.status.idle": "2023-05-16T18:15:41.378308Z",
     "shell.execute_reply.started": "2023-05-16T18:15:34.153598Z",
     "shell.execute_reply": "2023-05-16T18:15:41.377272Z"
    },
    "trusted": true,
    "colab": {
     "base_uri": "https://localhost:8080/",
     "height": 269,
     "referenced_widgets": [
      "78b636d6ac4449b7a3f3b1095d039636",
      "bb9cb463d9ce41919ca11bdfaca62196",
      "de0d7c62b7374b82b4ba356c931f85ee",
      "c23aa6fe1153444585693bc9775a4398",
      "469e816bb17d4c79b5c22866ff01710e",
      "ffae1f190c9c4df1a981014079a79068",
      "801bcbfd33104712920e0782abe526fb",
      "4d973629f71049b7a2bb8ddfa86d25f5",
      "9b21486a5d224ee98775352cc59e3f89",
      "cb96f954c2e0400ea6cf5afc3d6308de",
      "04a172ab76f7484bb1064252616f5bcc",
      "e9c7e3757bcd4bae853e416a8a72f878",
      "c3ed489c1d364e629a2db38d6888f0ad",
      "5c2c584074b94b7dbc54fa50fb956d6a",
      "522bd7aff1b54715ad0ddd16a6d21af1",
      "af1c5900460547198cc9ba3b8131d16c",
      "ed5f106684434ff98a0978bd04f48198",
      "2f7c7224d55d467fac1fc6065a7ebbf3",
      "08217ac5dee843478d4ab8877665788a",
      "cc403fc14ea4413589fb329a0e5b2b54",
      "770d7c5f28f6449ea13b408592626c58",
      "18039cacd90c455aa83b4b4fabacfcad",
      "924417402fd54699953b724023f89a31",
      "31ce0647173f40458fbe027e70a9485f",
      "1916ac3341a044e1b105971d95c6cb27",
      "cc70286a93a041d9ada9b580320eb87c",
      "f74f11c4e67942a9bcb4f02ce81860df",
      "eb8ebff19ff744799155c36bc0dc699d",
      "6cff1df0e9e34864ba61dc64ca5f96be",
      "17b958f01efe4a609ac369a7f3e56638",
      "e317baf4ae784041b362cd20e3fc7793",
      "49ba0055fd234f449ac99a1046bff56c",
      "25c41fb4a1584c3ab79df2d1eb043534",
      "6d47c74d7af14c0183d45fc6a3643c92",
      "0b5dd06c43dc46088ef4411429f3d3b7",
      "45998126280f45c88276d24c82f65332",
      "d3ca8f9a35b548d991c1f3fbddfdc69a",
      "eef63a8b1ffe46bbbf58e21a37b89d7a",
      "c9cb6eca391d48069eeeaa23aec15dbf",
      "ace6d80e61d241dc917881d8d32def76",
      "1968ac56918a4febb68bcd90ef71b7a6",
      "e3e4b9f3010a499e905f6e11c658295e",
      "354281746a03492dbb972fc2fd790ebf",
      "200ffde9437a47619ecbcb21fc8a1e08"
     ]
    },
    "id": "nGP6jUoUwtYH",
    "outputId": "9cac7d51-7a2d-41ae-c3bc-ecd0929e7217"
   },
   "execution_count": 12,
   "outputs": [
    {
     "output_type": "display_data",
     "data": {
      "text/plain": [
       "Downloading (…)okenizer_config.json:   0%|          | 0.00/24.0 [00:00<?, ?B/s]"
      ],
      "application/vnd.jupyter.widget-view+json": {
       "version_major": 2,
       "version_minor": 0,
       "model_id": "78b636d6ac4449b7a3f3b1095d039636"
      }
     },
     "metadata": {}
    },
    {
     "output_type": "display_data",
     "data": {
      "text/plain": [
       "Downloading (…)lve/main/config.json:   0%|          | 0.00/642 [00:00<?, ?B/s]"
      ],
      "application/vnd.jupyter.widget-view+json": {
       "version_major": 2,
       "version_minor": 0,
       "model_id": "e9c7e3757bcd4bae853e416a8a72f878"
      }
     },
     "metadata": {}
    },
    {
     "output_type": "display_data",
     "data": {
      "text/plain": [
       "Downloading (…)solve/main/vocab.txt:   0%|          | 0.00/1.65M [00:00<?, ?B/s]"
      ],
      "application/vnd.jupyter.widget-view+json": {
       "version_major": 2,
       "version_minor": 0,
       "model_id": "924417402fd54699953b724023f89a31"
      }
     },
     "metadata": {}
    },
    {
     "output_type": "display_data",
     "data": {
      "text/plain": [
       "Downloading (…)cial_tokens_map.json:   0%|          | 0.00/112 [00:00<?, ?B/s]"
      ],
      "application/vnd.jupyter.widget-view+json": {
       "version_major": 2,
       "version_minor": 0,
       "model_id": "6d47c74d7af14c0183d45fc6a3643c92"
      }
     },
     "metadata": {}
    },
    {
     "output_type": "stream",
     "name": "stderr",
     "text": []
    },
    {
     "output_type": "stream",
     "name": "stdout",
     "text": [
      "In total 3 datasets:\n",
      "\tdev has 476 instances.\n",
      "\ttest has 471 instances.\n",
      "\ttrain has 3984 instances.\n",
      "\n",
      "16 labels: {'AGE': 0, 'CITY': 1, 'COUNTRY': 2, 'DATE': 3, 'DISEASE': 4, 'FACILITY': 5, 'LOCATION': 6, 'NUMBER': 7, 'ORDINAL': 8, 'ORGANIZATION': 9, 'PERCENT': 10, 'PERSON': 11, 'PRODUCT': 12, 'PROFESSION': 13, 'STATE_OR_PROVINCE': 14, 'TIME': 15}, matrix_segs:{'ent': 16}\n"
     ]
    }
   ]
  },
  {
   "cell_type": "code",
   "source": [
    "dls_nerel_bio, label2idx_nerel_bio, matrix_segs_nerel_bio = preprocess_data('nerel_bio_common_labels', model_name)"
   ],
   "metadata": {
    "execution": {
     "iopub.status.busy": "2023-05-16T18:15:41.379501Z",
     "iopub.execute_input": "2023-05-16T18:15:41.379853Z",
     "iopub.status.idle": "2023-05-16T18:15:46.071325Z",
     "shell.execute_reply.started": "2023-05-16T18:15:41.379823Z",
     "shell.execute_reply": "2023-05-16T18:15:46.070284Z"
    },
    "trusted": true,
    "colab": {
     "base_uri": "https://localhost:8080/"
    },
    "id": "7JUGmHVGwtYH",
    "outputId": "8ad8fa07-36eb-428d-dea2-3f59c76259ef"
   },
   "execution_count": 13,
   "outputs": [
    {
     "output_type": "stream",
     "name": "stderr",
     "text": []
    },
    {
     "output_type": "stream",
     "name": "stdout",
     "text": [
      "In total 3 datasets:\n",
      "\tdev has 663 instances.\n",
      "\ttest has 662 instances.\n",
      "\ttrain has 4767 instances.\n",
      "\n",
      "16 labels: {'AGE': 0, 'CITY': 1, 'COUNTRY': 2, 'DATE': 3, 'DISEASE': 4, 'FACILITY': 5, 'LOCATION': 6, 'NUMBER': 7, 'ORDINAL': 8, 'ORGANIZATION': 9, 'PERCENT': 10, 'PERSON': 11, 'PRODUCT': 12, 'PROFESSION': 13, 'STATE_OR_PROVINCE': 14, 'TIME': 15}, matrix_segs:{'ent': 16}\n"
     ]
    }
   ]
  },
  {
   "cell_type": "markdown",
   "source": [
    "### Experiments on data"
   ],
   "metadata": {
    "collapsed": false,
    "id": "--Wfxq4AwtYH"
   }
  },
  {
   "cell_type": "code",
   "execution_count": 14,
   "outputs": [],
   "source": [
    "def squeeze_batch_dim(input_list):\n",
    "    for i in range(len(input_list)):\n",
    "        input_list[i] = input_list[i][0]\n",
    "    return input_list\n",
    "\n",
    "def get_key_by_value(dictionary, value):\n",
    "    return list(dictionary.keys())[list(dictionary.values()).index(value)]\n",
    "\n",
    "def get_targets(dataloader):\n",
    "    tokens_list = []\n",
    "    targets_list = []\n",
    "    for i, item in enumerate(dataloader):\n",
    "        tokens = item['tokens']\n",
    "        target = item['ent_target']\n",
    "        tokens_list.append(tokens)\n",
    "        targets_list.append(target)\n",
    "    return tokens_list, targets_list\n",
    "\n",
    "\n",
    "def split_by_label(targets, label2idx):\n",
    "    tpl = {key:set() for key in range(len(label2idx))}\n",
    "\n",
    "    for i in range(len(targets)):\n",
    "        cur_target = set(map(tuple, targets[i]))\n",
    "        for item in cur_target:\n",
    "            tpl[item[2]].add(item)\n",
    "    return tpl\n",
    "\n",
    "\n",
    "def decode_targets(tokens_list, targets_list):\n",
    "    tokens_with_label = [None]*len(targets_list)\n",
    "    for i in range(len(targets_list)):\n",
    "        target_tokens = []\n",
    "        for span in targets_list[i]:\n",
    "            start, end, label = span\n",
    "            target_tokens.append([tokens_list[i][start:end+1], label])\n",
    "        tokens_with_label[i] = target_tokens\n",
    "    return tokens_with_label\n",
    "\n",
    "\n",
    "def split_tokens_with_label_by_category(tokens_with_label, label2idx, tpl=None):\n",
    "    if tpl is None:\n",
    "        tpl = {key:set() for key in range(len(label2idx))}\n",
    "        \n",
    "    for i in range(len(tokens_with_label)):\n",
    "        cur_tokens_with_label = tokens_with_label[i]\n",
    "        for j in range(len(cur_tokens_with_label)):\n",
    "            tpl[cur_tokens_with_label[j][1]].update(cur_tokens_with_label[j][0])\n",
    "    return tpl\n",
    "\n",
    "\n",
    "def build_vocab(dataloader, label2idx):\n",
    "    tokens_with_label_dict = {key:set() for key in range(len(label2idx))}\n",
    "\n",
    "    for name in ['train', 'test', 'dev']:\n",
    "        tokens_list, targets_list = get_targets(dataloader[name])\n",
    "        tokens_list = squeeze_batch_dim(tokens_list)\n",
    "        targets_list = squeeze_batch_dim(targets_list)\n",
    "        tokens_with_label = decode_targets(tokens_list, targets_list)\n",
    "        tokens_with_label_dict = split_tokens_with_label_by_category(tokens_with_label, label2idx_nerel, tpl=tokens_with_label_dict)\n",
    "        \n",
    "    return tokens_with_label_dict"
   ],
   "metadata": {
    "id": "up1XXxMVwtYI"
   }
  },
  {
   "cell_type": "code",
   "source": [
    "vocab_nerel = build_vocab(dls_nerel, label2idx_nerel)\n",
    "vocab_nerel_bio = build_vocab(dls_nerel_bio, label2idx_nerel_bio)"
   ],
   "metadata": {
    "execution": {
     "iopub.status.busy": "2023-05-16T18:15:46.091597Z",
     "iopub.execute_input": "2023-05-16T18:15:46.093315Z",
     "iopub.status.idle": "2023-05-16T18:15:48.752993Z",
     "shell.execute_reply.started": "2023-05-16T18:15:46.093268Z",
     "shell.execute_reply": "2023-05-16T18:15:48.752174Z"
    },
    "trusted": true,
    "id": "jQNB2Am3wtYI"
   },
   "execution_count": 15,
   "outputs": []
  },
  {
   "cell_type": "code",
   "source": [
    "overlap = {key:0 for key in range(len(label2idx_nerel))}\n",
    "identical_tokens = {key:[] for key in range(len(label2idx_nerel))}\n",
    "\n",
    "for i in range(len(label2idx_nerel)):\n",
    "    intersection = vocab_nerel[i] & vocab_nerel_bio[i]\n",
    "    overlap[i] = round(len(intersection) / (len(vocab_nerel[i] | vocab_nerel_bio[i]) + 1e-6) * 100, 2)\n",
    "    identical_tokens[i] = list(intersection)\n",
    "\n",
    "    \n",
    "overlap_str = {}\n",
    "identical_tokens_str = {}\n",
    "\n",
    "for i in range(len(overlap)):\n",
    "    overlap_str[get_key_by_value(label2idx_nerel, i)] = overlap[i]\n",
    "    identical_tokens_str[get_key_by_value(label2idx_nerel, i)] = identical_tokens[i]"
   ],
   "metadata": {
    "execution": {
     "iopub.status.busy": "2023-05-16T18:15:48.754191Z",
     "iopub.execute_input": "2023-05-16T18:15:48.755407Z",
     "iopub.status.idle": "2023-05-16T18:15:48.768567Z",
     "shell.execute_reply.started": "2023-05-16T18:15:48.755366Z",
     "shell.execute_reply": "2023-05-16T18:15:48.766571Z"
    },
    "trusted": true,
    "id": "H4619nmLwtYI"
   },
   "execution_count": 16,
   "outputs": []
  },
  {
   "cell_type": "code",
   "source": [
    "sim_data = {'Overlap': list(overlap_str.values())}\n",
    "\n",
    "df_overlap = pd.DataFrame(data=sim_data, index=list(overlap_str.keys()))\n",
    "\n",
    "df_overlap.index.name = 'Index'\n",
    "\n",
    "df_overlap.transpose()"
   ],
   "metadata": {
    "execution": {
     "iopub.status.busy": "2023-05-16T18:15:48.770105Z",
     "iopub.execute_input": "2023-05-16T18:15:48.770489Z",
     "iopub.status.idle": "2023-05-16T18:15:48.846152Z",
     "shell.execute_reply.started": "2023-05-16T18:15:48.770457Z",
     "shell.execute_reply": "2023-05-16T18:15:48.844491Z"
    },
    "trusted": true,
    "colab": {
     "base_uri": "https://localhost:8080/",
     "height": 81
    },
    "id": "C3gfven5wtYJ",
    "outputId": "c671e8a0-fa9b-4837-966c-7a7fa9fca4b3"
   },
   "execution_count": 17,
   "outputs": [
    {
     "output_type": "execute_result",
     "data": {
      "text/plain": [
       "Index     AGE  CITY  COUNTRY  DATE  DISEASE  FACILITY  LOCATION  NUMBER  \\\n",
       "Overlap  8.94  1.36     7.27  7.99     2.02      2.02      7.72    9.73   \n",
       "\n",
       "Index    ORDINAL  ORGANIZATION  PERCENT  PERSON  PRODUCT  PROFESSION  \\\n",
       "Overlap    11.18          3.05     3.22    2.04     2.15        1.14   \n",
       "\n",
       "Index    STATE_OR_PROVINCE  TIME  \n",
       "Overlap               4.75  7.54  "
      ],
      "text/html": [
       "\n",
       "  <div id=\"df-d98c99f3-c1b1-4303-af26-4c9a329a8708\">\n",
       "    <div class=\"colab-df-container\">\n",
       "      <div>\n",
       "<style scoped>\n",
       "    .dataframe tbody tr th:only-of-type {\n",
       "        vertical-align: middle;\n",
       "    }\n",
       "\n",
       "    .dataframe tbody tr th {\n",
       "        vertical-align: top;\n",
       "    }\n",
       "\n",
       "    .dataframe thead th {\n",
       "        text-align: right;\n",
       "    }\n",
       "</style>\n",
       "<table border=\"1\" class=\"dataframe\">\n",
       "  <thead>\n",
       "    <tr style=\"text-align: right;\">\n",
       "      <th>Index</th>\n",
       "      <th>AGE</th>\n",
       "      <th>CITY</th>\n",
       "      <th>COUNTRY</th>\n",
       "      <th>DATE</th>\n",
       "      <th>DISEASE</th>\n",
       "      <th>FACILITY</th>\n",
       "      <th>LOCATION</th>\n",
       "      <th>NUMBER</th>\n",
       "      <th>ORDINAL</th>\n",
       "      <th>ORGANIZATION</th>\n",
       "      <th>PERCENT</th>\n",
       "      <th>PERSON</th>\n",
       "      <th>PRODUCT</th>\n",
       "      <th>PROFESSION</th>\n",
       "      <th>STATE_OR_PROVINCE</th>\n",
       "      <th>TIME</th>\n",
       "    </tr>\n",
       "  </thead>\n",
       "  <tbody>\n",
       "    <tr>\n",
       "      <th>Overlap</th>\n",
       "      <td>8.94</td>\n",
       "      <td>1.36</td>\n",
       "      <td>7.27</td>\n",
       "      <td>7.99</td>\n",
       "      <td>2.02</td>\n",
       "      <td>2.02</td>\n",
       "      <td>7.72</td>\n",
       "      <td>9.73</td>\n",
       "      <td>11.18</td>\n",
       "      <td>3.05</td>\n",
       "      <td>3.22</td>\n",
       "      <td>2.04</td>\n",
       "      <td>2.15</td>\n",
       "      <td>1.14</td>\n",
       "      <td>4.75</td>\n",
       "      <td>7.54</td>\n",
       "    </tr>\n",
       "  </tbody>\n",
       "</table>\n",
       "</div>\n",
       "      <button class=\"colab-df-convert\" onclick=\"convertToInteractive('df-d98c99f3-c1b1-4303-af26-4c9a329a8708')\"\n",
       "              title=\"Convert this dataframe to an interactive table.\"\n",
       "              style=\"display:none;\">\n",
       "        \n",
       "  <svg xmlns=\"http://www.w3.org/2000/svg\" height=\"24px\"viewBox=\"0 0 24 24\"\n",
       "       width=\"24px\">\n",
       "    <path d=\"M0 0h24v24H0V0z\" fill=\"none\"/>\n",
       "    <path d=\"M18.56 5.44l.94 2.06.94-2.06 2.06-.94-2.06-.94-.94-2.06-.94 2.06-2.06.94zm-11 1L8.5 8.5l.94-2.06 2.06-.94-2.06-.94L8.5 2.5l-.94 2.06-2.06.94zm10 10l.94 2.06.94-2.06 2.06-.94-2.06-.94-.94-2.06-.94 2.06-2.06.94z\"/><path d=\"M17.41 7.96l-1.37-1.37c-.4-.4-.92-.59-1.43-.59-.52 0-1.04.2-1.43.59L10.3 9.45l-7.72 7.72c-.78.78-.78 2.05 0 2.83L4 21.41c.39.39.9.59 1.41.59.51 0 1.02-.2 1.41-.59l7.78-7.78 2.81-2.81c.8-.78.8-2.07 0-2.86zM5.41 20L4 18.59l7.72-7.72 1.47 1.35L5.41 20z\"/>\n",
       "  </svg>\n",
       "      </button>\n",
       "      \n",
       "  <style>\n",
       "    .colab-df-container {\n",
       "      display:flex;\n",
       "      flex-wrap:wrap;\n",
       "      gap: 12px;\n",
       "    }\n",
       "\n",
       "    .colab-df-convert {\n",
       "      background-color: #E8F0FE;\n",
       "      border: none;\n",
       "      border-radius: 50%;\n",
       "      cursor: pointer;\n",
       "      display: none;\n",
       "      fill: #1967D2;\n",
       "      height: 32px;\n",
       "      padding: 0 0 0 0;\n",
       "      width: 32px;\n",
       "    }\n",
       "\n",
       "    .colab-df-convert:hover {\n",
       "      background-color: #E2EBFA;\n",
       "      box-shadow: 0px 1px 2px rgba(60, 64, 67, 0.3), 0px 1px 3px 1px rgba(60, 64, 67, 0.15);\n",
       "      fill: #174EA6;\n",
       "    }\n",
       "\n",
       "    [theme=dark] .colab-df-convert {\n",
       "      background-color: #3B4455;\n",
       "      fill: #D2E3FC;\n",
       "    }\n",
       "\n",
       "    [theme=dark] .colab-df-convert:hover {\n",
       "      background-color: #434B5C;\n",
       "      box-shadow: 0px 1px 3px 1px rgba(0, 0, 0, 0.15);\n",
       "      filter: drop-shadow(0px 1px 2px rgba(0, 0, 0, 0.3));\n",
       "      fill: #FFFFFF;\n",
       "    }\n",
       "  </style>\n",
       "\n",
       "      <script>\n",
       "        const buttonEl =\n",
       "          document.querySelector('#df-d98c99f3-c1b1-4303-af26-4c9a329a8708 button.colab-df-convert');\n",
       "        buttonEl.style.display =\n",
       "          google.colab.kernel.accessAllowed ? 'block' : 'none';\n",
       "\n",
       "        async function convertToInteractive(key) {\n",
       "          const element = document.querySelector('#df-d98c99f3-c1b1-4303-af26-4c9a329a8708');\n",
       "          const dataTable =\n",
       "            await google.colab.kernel.invokeFunction('convertToInteractive',\n",
       "                                                     [key], {});\n",
       "          if (!dataTable) return;\n",
       "\n",
       "          const docLinkHtml = 'Like what you see? Visit the ' +\n",
       "            '<a target=\"_blank\" href=https://colab.research.google.com/notebooks/data_table.ipynb>data table notebook</a>'\n",
       "            + ' to learn more about interactive tables.';\n",
       "          element.innerHTML = '';\n",
       "          dataTable['output_type'] = 'display_data';\n",
       "          await google.colab.output.renderOutput(dataTable, element);\n",
       "          const docLink = document.createElement('div');\n",
       "          docLink.innerHTML = docLinkHtml;\n",
       "          element.appendChild(docLink);\n",
       "        }\n",
       "      </script>\n",
       "    </div>\n",
       "  </div>\n",
       "  "
      ]
     },
     "metadata": {},
     "execution_count": 17
    }
   ]
  },
  {
   "cell_type": "code",
   "source": [
    "overlap_str"
   ],
   "metadata": {
    "execution": {
     "iopub.status.busy": "2023-05-16T18:15:48.847771Z",
     "iopub.execute_input": "2023-05-16T18:15:48.848902Z",
     "iopub.status.idle": "2023-05-16T18:15:48.858321Z",
     "shell.execute_reply.started": "2023-05-16T18:15:48.848871Z",
     "shell.execute_reply": "2023-05-16T18:15:48.856738Z"
    },
    "trusted": true,
    "colab": {
     "base_uri": "https://localhost:8080/"
    },
    "id": "W4hOLAESwtYJ",
    "outputId": "cbed277d-3304-410f-b8bf-c0b820b115da"
   },
   "execution_count": 18,
   "outputs": [
    {
     "output_type": "execute_result",
     "data": {
      "text/plain": [
       "{'AGE': 8.94,\n",
       " 'CITY': 1.36,\n",
       " 'COUNTRY': 7.27,\n",
       " 'DATE': 7.99,\n",
       " 'DISEASE': 2.02,\n",
       " 'FACILITY': 2.02,\n",
       " 'LOCATION': 7.72,\n",
       " 'NUMBER': 9.73,\n",
       " 'ORDINAL': 11.18,\n",
       " 'ORGANIZATION': 3.05,\n",
       " 'PERCENT': 3.22,\n",
       " 'PERSON': 2.04,\n",
       " 'PRODUCT': 2.15,\n",
       " 'PROFESSION': 1.14,\n",
       " 'STATE_OR_PROVINCE': 4.75,\n",
       " 'TIME': 7.54}"
      ]
     },
     "metadata": {},
     "execution_count": 18
    }
   ]
  },
  {
   "cell_type": "code",
   "source": [
    "overlap_sorted = dict(sorted(overlap_str.items(), key=lambda item: item[1]))\n",
    "sorted_keys = list(overlap_sorted.keys())"
   ],
   "metadata": {
    "execution": {
     "iopub.status.busy": "2023-05-16T18:15:48.860075Z",
     "iopub.execute_input": "2023-05-16T18:15:48.860384Z",
     "iopub.status.idle": "2023-05-16T18:15:48.870941Z",
     "shell.execute_reply.started": "2023-05-16T18:15:48.860357Z",
     "shell.execute_reply": "2023-05-16T18:15:48.870014Z"
    },
    "trusted": true,
    "id": "7Q0s0NF7wtYJ"
   },
   "execution_count": 19,
   "outputs": []
  },
  {
   "cell_type": "code",
   "source": [
    "sorted_keys = ['PROF', 'CITY', 'DIS', 'FAC', 'PERS', 'PROD', 'ORG', 'PERC', 'S_O_P', 'CTRY', 'TIME', 'LOC', 'DATE', 'AGE', 'NUM', 'ORD']"
   ],
   "metadata": {
    "execution": {
     "iopub.status.busy": "2023-05-16T18:15:48.871900Z",
     "iopub.execute_input": "2023-05-16T18:15:48.872166Z",
     "iopub.status.idle": "2023-05-16T18:15:48.886528Z",
     "shell.execute_reply.started": "2023-05-16T18:15:48.872140Z",
     "shell.execute_reply": "2023-05-16T18:15:48.885289Z"
    },
    "trusted": true,
    "id": "Q4ZT65rFwtYK"
   },
   "execution_count": 20,
   "outputs": []
  },
  {
   "cell_type": "code",
   "source": [
    "f1_score_nerel_bio = {'AGE': 83.67,\n",
    " 'CITY': 66.67,\n",
    " 'CTRY': 79.39,\n",
    " 'DATE': 78.97,\n",
    " 'DIS': 87.96,\n",
    " 'FAC': 0.0,\n",
    " 'LOC': 78.26,\n",
    " 'NUM': 83.14,\n",
    " 'ORD': 87.5,\n",
    " 'ORG': 66.67,\n",
    " 'PERC': 81.82,\n",
    " 'PERS': 26.03,\n",
    " 'PROD': 11.11,\n",
    " 'PROF': 90.2,\n",
    " 'S_O_P': 87.5,\n",
    " 'TIME': 66.67}\n",
    "\n",
    "f1_scores = [f1_score_nerel_bio[key] for key in sorted_keys]\n",
    "\n",
    "print(f1_scores)"
   ],
   "metadata": {
    "execution": {
     "iopub.status.busy": "2023-05-16T18:15:48.888135Z",
     "iopub.execute_input": "2023-05-16T18:15:48.888512Z",
     "iopub.status.idle": "2023-05-16T18:15:48.902745Z",
     "shell.execute_reply.started": "2023-05-16T18:15:48.888471Z",
     "shell.execute_reply": "2023-05-16T18:15:48.901128Z"
    },
    "trusted": true,
    "colab": {
     "base_uri": "https://localhost:8080/"
    },
    "id": "FeqjRtuzwtYK",
    "outputId": "850a2ed5-88b2-41b5-cb8c-2a47f09b8402"
   },
   "execution_count": 21,
   "outputs": [
    {
     "output_type": "stream",
     "name": "stdout",
     "text": [
      "[90.2, 66.67, 87.96, 0.0, 26.03, 11.11, 66.67, 81.82, 87.5, 79.39, 66.67, 78.26, 78.97, 83.67, 83.14, 87.5]\n"
     ]
    }
   ]
  },
  {
   "cell_type": "code",
   "source": [
    "corr = np.corrcoef(list(overlap_sorted.values()), f1_scores)\n",
    "corr"
   ],
   "metadata": {
    "execution": {
     "iopub.status.busy": "2023-05-16T18:15:48.904364Z",
     "iopub.execute_input": "2023-05-16T18:15:48.904758Z",
     "iopub.status.idle": "2023-05-16T18:15:48.920421Z",
     "shell.execute_reply.started": "2023-05-16T18:15:48.904722Z",
     "shell.execute_reply": "2023-05-16T18:15:48.919023Z"
    },
    "trusted": true,
    "colab": {
     "base_uri": "https://localhost:8080/"
    },
    "id": "tsGSntikwtYK",
    "outputId": "ff731000-d1a6-43a1-b8e4-9173b802550c"
   },
   "execution_count": 22,
   "outputs": [
    {
     "output_type": "execute_result",
     "data": {
      "text/plain": [
       "array([[1.        , 0.45220428],\n",
       "       [0.45220428, 1.        ]])"
      ]
     },
     "metadata": {},
     "execution_count": 22
    }
   ]
  },
  {
   "cell_type": "code",
   "source": [
    "x = list(overlap_sorted.values())\n",
    "y = f1_scores\n",
    "\n",
    "# plt.figure(figsize=(8,4))\n",
    "\n",
    "fig, ax = plt.subplots(layout='constrained')\n",
    "fig.set_figheight(4)\n",
    "fig.set_figwidth(7)\n",
    "\n",
    "ax.grid(color = 'blue', linestyle = '--', linewidth = 0.3)\n",
    "\n",
    "\n",
    "ax.plot(x, y, marker='o', linewidth=1.5) \n",
    "# for i, key in enumerate(sorted_keys):\n",
    "#     ax.annotate(key, (x[i], y[i]), xycoords='data')\n",
    "\n",
    "texts = [ax.text(x[i], y[i], sorted_keys[i]) for i in range(len(x))]\n",
    "adjust_text(texts, arrowprops=dict(arrowstyle=\"-\", color='k', lw=1))\n",
    "\n",
    "ax.set_xticks(np.arange(0, 12, 1))\n",
    "ax.set_yticks(np.arange(0, 100, 10))\n",
    "\n",
    "ax.set_xlabel('% of matching tokens b/w NEREL-C and NEREL-BIO-C', fontsize=12) \n",
    "ax.set_ylabel('F1 score (NEREL-BIO-C)', fontsize=12) \n",
    "# ax.legend(fontsize=12)\n",
    "\n",
    "plt.show() "
   ],
   "metadata": {
    "execution": {
     "iopub.status.busy": "2023-05-16T18:15:58.969806Z",
     "iopub.execute_input": "2023-05-16T18:15:58.970355Z",
     "iopub.status.idle": "2023-05-16T18:16:00.181150Z",
     "shell.execute_reply.started": "2023-05-16T18:15:58.970295Z",
     "shell.execute_reply": "2023-05-16T18:16:00.178860Z"
    },
    "trusted": true,
    "colab": {
     "base_uri": "https://localhost:8080/",
     "height": 428
    },
    "id": "U-ABtgjnwtYL",
    "outputId": "9fe8cb89-92c2-43a2-abda-b70592f79971"
   },
   "execution_count": 23,
   "outputs": [
    {
     "output_type": "display_data",
     "data": {
      "text/plain": [
       "<Figure size 700x400 with 1 Axes>"
      ],
      "image/png": "[encoded data removed]"
     },
     "metadata": {}
    }
   ]
  },
  {
   "cell_type": "code",
   "source": [
    "nerel_bio_f1 =   [89.80, 66.67, 92.21, 78.43, 93.09, 42.55, 21.05, 89.12, 79.41, 82.05, 92.50, 90.98, 40.00, 76.00, 70.00, 71.43]\n",
    "nerel_bio_c_f1 = [83.67, 66.67, 79.39, 78.97, 87.96, 0.00, 78.26, 83.14, 87.50, 66.67, 81.82, 26.03, 11.11, 90.20, 87.50, 66.67]\n",
    "\n",
    "subtracted = [element1 - element2 for (element1, element2) in zip(nerel_bio_c_f1, nerel_bio_f1)]\n",
    "\n",
    "print(sum(subtracted)/len(subtracted))"
   ],
   "metadata": {
    "colab": {
     "base_uri": "https://localhost:8080/"
    },
    "id": "2wE4fIE0wtYL",
    "outputId": "197c858b-08b6-4cf8-fc44-f74230c6bb82"
   },
   "execution_count": 24,
   "outputs": [
    {
     "output_type": "stream",
     "name": "stdout",
     "text": [
      "-6.233125\n"
     ]
    }
   ]
  }
 ]
}
