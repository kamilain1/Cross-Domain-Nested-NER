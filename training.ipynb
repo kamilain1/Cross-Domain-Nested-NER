{
 "metadata": {
  "kernelspec": {
   "language": "python",
   "display_name": "Python 3",
   "name": "python3"
  },
  "language_info": {
   "name": "python",
   "version": "3.7.12",
   "mimetype": "text/x-python",
   "codemirror_mode": {
    "name": "ipython",
    "version": 3
   },
   "pygments_lexer": "ipython3",
   "nbconvert_exporter": "python",
   "file_extension": ".py"
  },
  "colab": {
   "provenance": []
  }
 },
 "nbformat_minor": 0,
 "nbformat": 4,
 "cells": [
  {
   "cell_type": "code",
   "source": [
    "!pip install fastNLP==1.0.1 -q\n",
    "!pip install transformers -q\n",
    "!pip install sparse==0.13.0 -q\n",
    "!pip install torch==1.11.0+cu113 --extra-index-url https://download.pytorch.org/whl/cu113 -q\n",
    "!pip install llvmlite==0.38.1 --user -q\n",
    "!pip install numba==0.55.2 --user -q"
   ],
   "metadata": {
    "execution": {
     "iopub.status.busy": "2023-04-28T19:32:08.885990Z",
     "iopub.execute_input": "2023-04-28T19:32:08.886984Z",
     "iopub.status.idle": "2023-04-28T19:35:49.792002Z",
     "shell.execute_reply.started": "2023-04-28T19:32:08.886854Z",
     "shell.execute_reply": "2023-04-28T19:35:49.790823Z"
    },
    "trusted": true,
    "id": "k2IohpwgzD5g",
    "outputId": "a40b5860-14c6-464e-c719-7f17d6f2ae8c"
   },
   "execution_count": null,
   "outputs": [
    {
     "name": "stdout",
     "text": "\u001B[31mERROR: pip's dependency resolver does not currently take into account all the packages that are installed. This behaviour is the source of the following dependency conflicts.\ncached-path 1.1.6 requires rich<13.0,>=12.1, but you have rich 11.2.0 which is incompatible.\u001B[0m\u001B[31m\n\u001B[0m\u001B[33mWARNING: Running pip as the 'root' user can result in broken permissions and conflicting behaviour with the system package manager. It is recommended to use a virtual environment instead: https://pip.pypa.io/warnings/venv\u001B[0m\u001B[33m\n\u001B[0m\u001B[33mWARNING: Running pip as the 'root' user can result in broken permissions and conflicting behaviour with the system package manager. It is recommended to use a virtual environment instead: https://pip.pypa.io/warnings/venv\u001B[0m\u001B[33m\n\u001B[0m\u001B[33mWARNING: Running pip as the 'root' user can result in broken permissions and conflicting behaviour with the system package manager. It is recommended to use a virtual environment instead: https://pip.pypa.io/warnings/venv\u001B[0m\u001B[33m\n\u001B[0m\u001B[33mWARNING: Running pip as the 'root' user can result in broken permissions and conflicting behaviour with the system package manager. It is recommended to use a virtual environment instead: https://pip.pypa.io/warnings/venv\u001B[0m\u001B[33m\n\u001B[0m\u001B[33mWARNING: Running pip as the 'root' user can result in broken permissions and conflicting behaviour with the system package manager. It is recommended to use a virtual environment instead: https://pip.pypa.io/warnings/venv\u001B[0m\u001B[33m\n\u001B[0m\u001B[33mWARNING: Running pip as the 'root' user can result in broken permissions and conflicting behaviour with the system package manager. It is recommended to use a virtual environment instead: https://pip.pypa.io/warnings/venv\u001B[0m\u001B[33m\n\u001B[0m",
     "output_type": "stream"
    }
   ]
  },
  {
   "cell_type": "code",
   "source": [
    "import torch\n",
    "import fastNLP\n",
    "import transformers\n",
    "import sparse\n",
    "import numba\n",
    "import llvmlite\n",
    "\n",
    "print(fastNLP.__version__)\n",
    "print(transformers.__version__)\n",
    "print(sparse.__version__)\n",
    "print(torch.__version__)\n",
    "print(numba.__version__)\n",
    "print(llvmlite.__version__)"
   ],
   "metadata": {
    "execution": {
     "iopub.status.busy": "2023-04-28T19:35:49.795803Z",
     "iopub.execute_input": "2023-04-28T19:35:49.796127Z",
     "iopub.status.idle": "2023-04-28T19:36:01.852761Z",
     "shell.execute_reply.started": "2023-04-28T19:35:49.796096Z",
     "shell.execute_reply": "2023-04-28T19:36:01.850977Z"
    },
    "trusted": true,
    "id": "_HlyAvplzD5j",
    "outputId": "93782cc7-8020-4336-a4db-197564fcd647"
   },
   "execution_count": null,
   "outputs": [
    {
     "output_type": "display_data",
     "data": {
      "text/plain": "\n",
      "text/html": "<pre style=\"white-space:pre;overflow-x:auto;line-height:normal;font-family:Menlo,'DejaVu Sans Mono',consolas,'Courier New',monospace\">\n</pre>\n"
     },
     "metadata": {}
    },
    {
     "name": "stderr",
     "text": "/opt/conda/lib/python3.7/site-packages/torchvision/io/image.py:13: UserWarning: Failed to load image Python extension: /opt/conda/lib/python3.7/site-packages/torchvision/image.so: undefined symbol: _ZN5torch3jit17parseSchemaOrNameERKNSt7__cxx1112basic_stringIcSt11char_traitsIcESaIcEEE\n  warn(f\"Failed to load image Python extension: {e}\")\n",
     "output_type": "stream"
    },
    {
     "name": "stdout",
     "text": "1.0.1\n4.20.1\n0.13.0\n1.11.0+cu113\n0.55.2\n0.38.1\n",
     "output_type": "stream"
    }
   ]
  },
  {
   "cell_type": "code",
   "source": [
    "!nvcc --version"
   ],
   "metadata": {
    "execution": {
     "iopub.status.busy": "2023-04-28T19:36:01.854388Z",
     "iopub.execute_input": "2023-04-28T19:36:01.854740Z",
     "iopub.status.idle": "2023-04-28T19:36:02.835502Z",
     "shell.execute_reply.started": "2023-04-28T19:36:01.854704Z",
     "shell.execute_reply": "2023-04-28T19:36:02.834338Z"
    },
    "trusted": true,
    "id": "SgqODok8zD5j",
    "outputId": "d7e5aa9a-9013-4960-8d00-2658db90711c"
   },
   "execution_count": null,
   "outputs": [
    {
     "name": "stdout",
     "text": "nvcc: NVIDIA (R) Cuda compiler driver\nCopyright (c) 2005-2020 NVIDIA Corporation\nBuilt on Wed_Jul_22_19:09:09_PDT_2020\nCuda compilation tools, release 11.0, V11.0.221\nBuild cuda_11.0_bu.TC445_37.28845127_0\n",
     "output_type": "stream"
    }
   ]
  },
  {
   "cell_type": "code",
   "source": [
    "!pip install torch-scatter --no-index -f https://data.pyg.org/whl/torch-{torch.__version__}.html "
   ],
   "metadata": {
    "execution": {
     "iopub.status.busy": "2023-04-28T19:36:02.838097Z",
     "iopub.execute_input": "2023-04-28T19:36:02.838753Z",
     "iopub.status.idle": "2023-04-28T19:36:16.216106Z",
     "shell.execute_reply.started": "2023-04-28T19:36:02.838711Z",
     "shell.execute_reply": "2023-04-28T19:36:16.214992Z"
    },
    "trusted": true,
    "id": "Xz9i7Y-nzD5k",
    "outputId": "6126dd89-68ab-4578-832c-56c14b60b955"
   },
   "execution_count": null,
   "outputs": [
    {
     "name": "stdout",
     "text": "Looking in links: https://data.pyg.org/whl/torch-1.11.0+cu113.html\nCollecting torch-scatter\n  Downloading https://data.pyg.org/whl/torch-1.11.0%2Bcu113/torch_scatter-2.0.9-cp37-cp37m-linux_x86_64.whl (7.9 MB)\n\u001B[2K     \u001B[90m━━━━━━━━━━━━━━━━━━━━━━━━━━━━━━━━━━━━━━━━\u001B[0m \u001B[32m7.9/7.9 MB\u001B[0m \u001B[31m2.8 MB/s\u001B[0m eta \u001B[36m0:00:00\u001B[0m00:01\u001B[0m00:01\u001B[0m0m\n\u001B[?25hInstalling collected packages: torch-scatter\nSuccessfully installed torch-scatter-2.0.9\n\u001B[33mWARNING: Running pip as the 'root' user can result in broken permissions and conflicting behaviour with the system package manager. It is recommended to use a virtual environment instead: https://pip.pypa.io/warnings/venv\u001B[0m\u001B[33m\n\u001B[0m",
     "output_type": "stream"
    }
   ]
  },
  {
   "cell_type": "code",
   "source": [
    "import json\n",
    "import os\n",
    "import warnings\n",
    "import argparse\n",
    "\n",
    "if 'p' in os.environ:\n",
    "    os.environ['CUDA_VISIBLE_DEVICES'] = os.environ['p']\n",
    "os.environ['TOKENIZERS_PARALLELISM'] = 'false'\n",
    "os.environ['MKL_THREADING_LAYER'] = 'GNU'\n",
    "warnings.filterwarnings('ignore')\n",
    "\n",
    "import numpy as np\n",
    "import fastNLP\n",
    "from fastNLP import cache_results, prepare_torch_dataloader\n",
    "from fastNLP import print\n",
    "from fastNLP import Trainer, Evaluator\n",
    "from fastNLP import TorchGradClipCallback, MoreEvaluateCallback, LoadBestModelCallback\n",
    "from fastNLP import FitlogCallback\n",
    "from fastNLP import SortedSampler, BucketedBatchSampler\n",
    "from fastNLP import TorchWarmupCallback\n",
    "\n",
    "\n",
    "from model.model import CNNNer\n",
    "from model.metrics import NERMetric\n",
    "from preprocessing.ner_pipe import SpanNerPipe\n",
    "from preprocessing.padder import Torch3DMatrixPadder\n",
    "\n",
    "seed_value=42\n",
    "np.random.seed(seed_value)\n",
    "torch.manual_seed(seed_value)\n",
    "torch.cuda.manual_seed_all(seed_value)\n",
    "os.environ['FASTNLP_GLOBAL_SEED'] = str(seed_value)"
   ],
   "metadata": {
    "execution": {
     "iopub.status.busy": "2023-04-28T19:36:16.525410Z",
     "iopub.execute_input": "2023-04-28T19:36:16.526091Z",
     "iopub.status.idle": "2023-04-28T19:36:16.818011Z",
     "shell.execute_reply.started": "2023-04-28T19:36:16.526054Z",
     "shell.execute_reply": "2023-04-28T19:36:16.817078Z"
    },
    "trusted": true,
    "id": "mZYLPuDazD5k"
   },
   "execution_count": null,
   "outputs": []
  },
  {
   "cell_type": "markdown",
   "source": [
    "### Data statistics"
   ],
   "metadata": {
    "id": "Htg-oFh_zD5k"
   }
  },
  {
   "cell_type": "code",
   "source": [
    "import argparse\n",
    "import json\n",
    "\n",
    "folder = 'datasets/outputs/nerel_common_labels'\n",
    "\n",
    "def calculate(path):\n",
    "    max_sent_len = 0\n",
    "    total_lengths = 0\n",
    "    total_ent_length = 0\n",
    "    max_ent_length = 0\n",
    "    num_ents = 0\n",
    "    overlapped_ent_num = 0\n",
    "    num_sent = 0\n",
    "    with open(path, 'r') as f:\n",
    "        for line in f:\n",
    "            num_sent += 1\n",
    "            data = json.loads(line.strip())\n",
    "            max_sent_len = max(max_sent_len, len(data['tokens']))\n",
    "            total_lengths += len(data['tokens'])\n",
    "            flags = [0]*len(data['tokens'])\n",
    "            for ent in data['entity_mentions']:\n",
    "                num_ents += 1\n",
    "                start, end = ent['start'], ent['end']\n",
    "                total_ent_length += ent['end'] - ent['start']\n",
    "                max_ent_length = max(max_ent_length, ent['end'] - ent['start'])\n",
    "                for i in range(start, end):\n",
    "                    flags[i] += 1\n",
    "            for ent in data['entity_mentions']:\n",
    "                start, end = ent['start'], ent['end']\n",
    "                if any([flags[i]>1 for i in range(start, end)]):\n",
    "                    overlapped_ent_num += 1\n",
    "\n",
    "    print(f\"For {path}\")\n",
    "    print(\"total sentence \", num_sent)\n",
    "    print(\"average sentence length \", total_lengths/num_sent)\n",
    "    print(\"max sentence length \", max_sent_len)\n",
    "\n",
    "    print('num_entities ', num_ents)\n",
    "    print('average entity length  ', total_ent_length/num_ents)\n",
    "    print('max entity length  ', max_ent_length)\n",
    "    print(\"Number of nested entity \", overlapped_ent_num)\n",
    "\n",
    "    print(\"Number of tokens \", total_lengths)\n",
    "    print()\n",
    "\n",
    "\n",
    "for name in ['train', 'dev', 'test']:\n",
    "    path = f'{folder}/{name}.jsonl'\n",
    "    calculate(path)"
   ],
   "metadata": {
    "execution": {
     "iopub.status.busy": "2023-04-28T19:36:16.819507Z",
     "iopub.execute_input": "2023-04-28T19:36:16.820550Z",
     "iopub.status.idle": "2023-04-28T19:36:17.105864Z",
     "shell.execute_reply.started": "2023-04-28T19:36:16.820510Z",
     "shell.execute_reply": "2023-04-28T19:36:17.104866Z"
    },
    "trusted": true,
    "id": "rFlUYMIUzD5m",
    "outputId": "496f28f1-7ec9-4971-df05-0f8984d1f499"
   },
   "execution_count": null,
   "outputs": [
    {
     "output_type": "display_data",
     "data": {
      "text/plain": "\u001B[2;36m[19:36:16]\u001B[0m\u001B[2;36m \u001B[0m\u001B[34mINFO    \u001B[0m For preprocess/outputs/nerel_common_labels/train.jsonl    \u001B]8;id=841063;file:///tmp/ipykernel_23/261151408.py\u001B\\\u001B[2m261151408.py\u001B[0m\u001B]8;;\u001B\\\u001B[2m:\u001B[0m\u001B]8;id=809937;file:///tmp/ipykernel_23/261151408.py#33\u001B\\\u001B[2m33\u001B[0m\u001B]8;;\u001B\\\n",
      "text/html": "<pre style=\"white-space:pre;overflow-x:auto;line-height:normal;font-family:Menlo,'DejaVu Sans Mono',consolas,'Courier New',monospace\"><span style=\"color: #7fbfbf; text-decoration-color: #7fbfbf\">[19:36:16] </span><span style=\"color: #000080; text-decoration-color: #000080\">INFO    </span> For preprocess/outputs/nerel_common_labels/train.jsonl    <a href=\"file:///tmp/ipykernel_23/261151408.py\"><span style=\"color: #7f7f7f; text-decoration-color: #7f7f7f\">261151408.py</span></a><span style=\"color: #7f7f7f; text-decoration-color: #7f7f7f\">:</span><a href=\"file:///tmp/ipykernel_23/261151408.py#33\"><span style=\"color: #7f7f7f; text-decoration-color: #7f7f7f\">33</span></a>\n</pre>\n"
     },
     "metadata": {}
    },
    {
     "output_type": "display_data",
     "data": {
      "text/plain": "\u001B[2;36m          \u001B[0m\u001B[2;36m \u001B[0m\u001B[34mINFO    \u001B[0m total sentence  \u001B[1;36m3983\u001B[0m                                      \u001B]8;id=417493;file:///tmp/ipykernel_23/261151408.py\u001B\\\u001B[2m261151408.py\u001B[0m\u001B]8;;\u001B\\\u001B[2m:\u001B[0m\u001B]8;id=876682;file:///tmp/ipykernel_23/261151408.py#34\u001B\\\u001B[2m34\u001B[0m\u001B]8;;\u001B\\\n",
      "text/html": "<pre style=\"white-space:pre;overflow-x:auto;line-height:normal;font-family:Menlo,'DejaVu Sans Mono',consolas,'Courier New',monospace\"><span style=\"color: #7fbfbf; text-decoration-color: #7fbfbf\">           </span><span style=\"color: #000080; text-decoration-color: #000080\">INFO    </span> total sentence  <span style=\"color: #008080; text-decoration-color: #008080; font-weight: bold\">3983</span>                                      <a href=\"file:///tmp/ipykernel_23/261151408.py\"><span style=\"color: #7f7f7f; text-decoration-color: #7f7f7f\">261151408.py</span></a><span style=\"color: #7f7f7f; text-decoration-color: #7f7f7f\">:</span><a href=\"file:///tmp/ipykernel_23/261151408.py#34\"><span style=\"color: #7f7f7f; text-decoration-color: #7f7f7f\">34</span></a>\n</pre>\n"
     },
     "metadata": {}
    },
    {
     "output_type": "display_data",
     "data": {
      "text/plain": "\u001B[2;36m          \u001B[0m\u001B[2;36m \u001B[0m\u001B[34mINFO    \u001B[0m average sentence length  \u001B[1;36m40.530253577705246\u001B[0m               \u001B]8;id=787387;file:///tmp/ipykernel_23/261151408.py\u001B\\\u001B[2m261151408.py\u001B[0m\u001B]8;;\u001B\\\u001B[2m:\u001B[0m\u001B]8;id=936799;file:///tmp/ipykernel_23/261151408.py#35\u001B\\\u001B[2m35\u001B[0m\u001B]8;;\u001B\\\n",
      "text/html": "<pre style=\"white-space:pre;overflow-x:auto;line-height:normal;font-family:Menlo,'DejaVu Sans Mono',consolas,'Courier New',monospace\"><span style=\"color: #7fbfbf; text-decoration-color: #7fbfbf\">           </span><span style=\"color: #000080; text-decoration-color: #000080\">INFO    </span> average sentence length  <span style=\"color: #008080; text-decoration-color: #008080; font-weight: bold\">40.530253577705246</span>               <a href=\"file:///tmp/ipykernel_23/261151408.py\"><span style=\"color: #7f7f7f; text-decoration-color: #7f7f7f\">261151408.py</span></a><span style=\"color: #7f7f7f; text-decoration-color: #7f7f7f\">:</span><a href=\"file:///tmp/ipykernel_23/261151408.py#35\"><span style=\"color: #7f7f7f; text-decoration-color: #7f7f7f\">35</span></a>\n</pre>\n"
     },
     "metadata": {}
    },
    {
     "output_type": "display_data",
     "data": {
      "text/plain": "\u001B[2;36m          \u001B[0m\u001B[2;36m \u001B[0m\u001B[34mINFO    \u001B[0m max sentence length  \u001B[1;36m408\u001B[0m                                  \u001B]8;id=280368;file:///tmp/ipykernel_23/261151408.py\u001B\\\u001B[2m261151408.py\u001B[0m\u001B]8;;\u001B\\\u001B[2m:\u001B[0m\u001B]8;id=870118;file:///tmp/ipykernel_23/261151408.py#36\u001B\\\u001B[2m36\u001B[0m\u001B]8;;\u001B\\\n",
      "text/html": "<pre style=\"white-space:pre;overflow-x:auto;line-height:normal;font-family:Menlo,'DejaVu Sans Mono',consolas,'Courier New',monospace\"><span style=\"color: #7fbfbf; text-decoration-color: #7fbfbf\">           </span><span style=\"color: #000080; text-decoration-color: #000080\">INFO    </span> max sentence length  <span style=\"color: #008080; text-decoration-color: #008080; font-weight: bold\">408</span>                                  <a href=\"file:///tmp/ipykernel_23/261151408.py\"><span style=\"color: #7f7f7f; text-decoration-color: #7f7f7f\">261151408.py</span></a><span style=\"color: #7f7f7f; text-decoration-color: #7f7f7f\">:</span><a href=\"file:///tmp/ipykernel_23/261151408.py#36\"><span style=\"color: #7f7f7f; text-decoration-color: #7f7f7f\">36</span></a>\n</pre>\n"
     },
     "metadata": {}
    },
    {
     "output_type": "display_data",
     "data": {
      "text/plain": "\u001B[2;36m          \u001B[0m\u001B[2;36m \u001B[0m\u001B[34mINFO    \u001B[0m num_entities  \u001B[1;36m29651\u001B[0m                                       \u001B]8;id=733249;file:///tmp/ipykernel_23/261151408.py\u001B\\\u001B[2m261151408.py\u001B[0m\u001B]8;;\u001B\\\u001B[2m:\u001B[0m\u001B]8;id=488400;file:///tmp/ipykernel_23/261151408.py#38\u001B\\\u001B[2m38\u001B[0m\u001B]8;;\u001B\\\n",
      "text/html": "<pre style=\"white-space:pre;overflow-x:auto;line-height:normal;font-family:Menlo,'DejaVu Sans Mono',consolas,'Courier New',monospace\"><span style=\"color: #7fbfbf; text-decoration-color: #7fbfbf\">           </span><span style=\"color: #000080; text-decoration-color: #000080\">INFO    </span> num_entities  <span style=\"color: #008080; text-decoration-color: #008080; font-weight: bold\">29651</span>                                       <a href=\"file:///tmp/ipykernel_23/261151408.py\"><span style=\"color: #7f7f7f; text-decoration-color: #7f7f7f\">261151408.py</span></a><span style=\"color: #7f7f7f; text-decoration-color: #7f7f7f\">:</span><a href=\"file:///tmp/ipykernel_23/261151408.py#38\"><span style=\"color: #7f7f7f; text-decoration-color: #7f7f7f\">38</span></a>\n</pre>\n"
     },
     "metadata": {}
    },
    {
     "output_type": "display_data",
     "data": {
      "text/plain": "\u001B[2;36m          \u001B[0m\u001B[2;36m \u001B[0m\u001B[34mINFO    \u001B[0m average entity length   \u001B[1;36m1.863849448585208\u001B[0m                 \u001B]8;id=137574;file:///tmp/ipykernel_23/261151408.py\u001B\\\u001B[2m261151408.py\u001B[0m\u001B]8;;\u001B\\\u001B[2m:\u001B[0m\u001B]8;id=653016;file:///tmp/ipykernel_23/261151408.py#39\u001B\\\u001B[2m39\u001B[0m\u001B]8;;\u001B\\\n",
      "text/html": "<pre style=\"white-space:pre;overflow-x:auto;line-height:normal;font-family:Menlo,'DejaVu Sans Mono',consolas,'Courier New',monospace\"><span style=\"color: #7fbfbf; text-decoration-color: #7fbfbf\">           </span><span style=\"color: #000080; text-decoration-color: #000080\">INFO    </span> average entity length   <span style=\"color: #008080; text-decoration-color: #008080; font-weight: bold\">1.863849448585208</span>                 <a href=\"file:///tmp/ipykernel_23/261151408.py\"><span style=\"color: #7f7f7f; text-decoration-color: #7f7f7f\">261151408.py</span></a><span style=\"color: #7f7f7f; text-decoration-color: #7f7f7f\">:</span><a href=\"file:///tmp/ipykernel_23/261151408.py#39\"><span style=\"color: #7f7f7f; text-decoration-color: #7f7f7f\">39</span></a>\n</pre>\n"
     },
     "metadata": {}
    },
    {
     "output_type": "display_data",
     "data": {
      "text/plain": "\u001B[2;36m          \u001B[0m\u001B[2;36m \u001B[0m\u001B[34mINFO    \u001B[0m max entity length   \u001B[1;36m17\u001B[0m                                    \u001B]8;id=819736;file:///tmp/ipykernel_23/261151408.py\u001B\\\u001B[2m261151408.py\u001B[0m\u001B]8;;\u001B\\\u001B[2m:\u001B[0m\u001B]8;id=3394;file:///tmp/ipykernel_23/261151408.py#40\u001B\\\u001B[2m40\u001B[0m\u001B]8;;\u001B\\\n",
      "text/html": "<pre style=\"white-space:pre;overflow-x:auto;line-height:normal;font-family:Menlo,'DejaVu Sans Mono',consolas,'Courier New',monospace\"><span style=\"color: #7fbfbf; text-decoration-color: #7fbfbf\">           </span><span style=\"color: #000080; text-decoration-color: #000080\">INFO    </span> max entity length   <span style=\"color: #008080; text-decoration-color: #008080; font-weight: bold\">17</span>                                    <a href=\"file:///tmp/ipykernel_23/261151408.py\"><span style=\"color: #7f7f7f; text-decoration-color: #7f7f7f\">261151408.py</span></a><span style=\"color: #7f7f7f; text-decoration-color: #7f7f7f\">:</span><a href=\"file:///tmp/ipykernel_23/261151408.py#40\"><span style=\"color: #7f7f7f; text-decoration-color: #7f7f7f\">40</span></a>\n</pre>\n"
     },
     "metadata": {}
    },
    {
     "output_type": "display_data",
     "data": {
      "text/plain": "\u001B[2;36m          \u001B[0m\u001B[2;36m \u001B[0m\u001B[34mINFO    \u001B[0m Number of nested entity  \u001B[1;36m8691\u001B[0m                             \u001B]8;id=372099;file:///tmp/ipykernel_23/261151408.py\u001B\\\u001B[2m261151408.py\u001B[0m\u001B]8;;\u001B\\\u001B[2m:\u001B[0m\u001B]8;id=932119;file:///tmp/ipykernel_23/261151408.py#41\u001B\\\u001B[2m41\u001B[0m\u001B]8;;\u001B\\\n",
      "text/html": "<pre style=\"white-space:pre;overflow-x:auto;line-height:normal;font-family:Menlo,'DejaVu Sans Mono',consolas,'Courier New',monospace\"><span style=\"color: #7fbfbf; text-decoration-color: #7fbfbf\">           </span><span style=\"color: #000080; text-decoration-color: #000080\">INFO    </span> Number of nested entity  <span style=\"color: #008080; text-decoration-color: #008080; font-weight: bold\">8691</span>                             <a href=\"file:///tmp/ipykernel_23/261151408.py\"><span style=\"color: #7f7f7f; text-decoration-color: #7f7f7f\">261151408.py</span></a><span style=\"color: #7f7f7f; text-decoration-color: #7f7f7f\">:</span><a href=\"file:///tmp/ipykernel_23/261151408.py#41\"><span style=\"color: #7f7f7f; text-decoration-color: #7f7f7f\">41</span></a>\n</pre>\n"
     },
     "metadata": {}
    },
    {
     "output_type": "display_data",
     "data": {
      "text/plain": "\u001B[2;36m[19:36:17]\u001B[0m\u001B[2;36m \u001B[0m\u001B[34mINFO    \u001B[0m Number of tokens  \u001B[1;36m161432\u001B[0m                                  \u001B]8;id=436668;file:///tmp/ipykernel_23/261151408.py\u001B\\\u001B[2m261151408.py\u001B[0m\u001B]8;;\u001B\\\u001B[2m:\u001B[0m\u001B]8;id=345285;file:///tmp/ipykernel_23/261151408.py#43\u001B\\\u001B[2m43\u001B[0m\u001B]8;;\u001B\\\n",
      "text/html": "<pre style=\"white-space:pre;overflow-x:auto;line-height:normal;font-family:Menlo,'DejaVu Sans Mono',consolas,'Courier New',monospace\"><span style=\"color: #7fbfbf; text-decoration-color: #7fbfbf\">[19:36:17] </span><span style=\"color: #000080; text-decoration-color: #000080\">INFO    </span> Number of tokens  <span style=\"color: #008080; text-decoration-color: #008080; font-weight: bold\">161432</span>                                  <a href=\"file:///tmp/ipykernel_23/261151408.py\"><span style=\"color: #7f7f7f; text-decoration-color: #7f7f7f\">261151408.py</span></a><span style=\"color: #7f7f7f; text-decoration-color: #7f7f7f\">:</span><a href=\"file:///tmp/ipykernel_23/261151408.py#43\"><span style=\"color: #7f7f7f; text-decoration-color: #7f7f7f\">43</span></a>\n</pre>\n"
     },
     "metadata": {}
    },
    {
     "output_type": "display_data",
     "data": {
      "text/plain": "\u001B[2;36m          \u001B[0m\u001B[2;36m \u001B[0m\u001B[34mINFO    \u001B[0m                                                           \u001B]8;id=462787;file:///tmp/ipykernel_23/261151408.py\u001B\\\u001B[2m261151408.py\u001B[0m\u001B]8;;\u001B\\\u001B[2m:\u001B[0m\u001B]8;id=518964;file:///tmp/ipykernel_23/261151408.py#44\u001B\\\u001B[2m44\u001B[0m\u001B]8;;\u001B\\\n",
      "text/html": "<pre style=\"white-space:pre;overflow-x:auto;line-height:normal;font-family:Menlo,'DejaVu Sans Mono',consolas,'Courier New',monospace\"><span style=\"color: #7fbfbf; text-decoration-color: #7fbfbf\">           </span><span style=\"color: #000080; text-decoration-color: #000080\">INFO    </span>                                                           <a href=\"file:///tmp/ipykernel_23/261151408.py\"><span style=\"color: #7f7f7f; text-decoration-color: #7f7f7f\">261151408.py</span></a><span style=\"color: #7f7f7f; text-decoration-color: #7f7f7f\">:</span><a href=\"file:///tmp/ipykernel_23/261151408.py#44\"><span style=\"color: #7f7f7f; text-decoration-color: #7f7f7f\">44</span></a>\n</pre>\n"
     },
     "metadata": {}
    },
    {
     "output_type": "display_data",
     "data": {
      "text/plain": "\u001B[2;36m          \u001B[0m\u001B[2;36m \u001B[0m\u001B[34mINFO    \u001B[0m For preprocess/outputs/nerel_common_labels/dev.jsonl      \u001B]8;id=525434;file:///tmp/ipykernel_23/261151408.py\u001B\\\u001B[2m261151408.py\u001B[0m\u001B]8;;\u001B\\\u001B[2m:\u001B[0m\u001B]8;id=421692;file:///tmp/ipykernel_23/261151408.py#33\u001B\\\u001B[2m33\u001B[0m\u001B]8;;\u001B\\\n",
      "text/html": "<pre style=\"white-space:pre;overflow-x:auto;line-height:normal;font-family:Menlo,'DejaVu Sans Mono',consolas,'Courier New',monospace\"><span style=\"color: #7fbfbf; text-decoration-color: #7fbfbf\">           </span><span style=\"color: #000080; text-decoration-color: #000080\">INFO    </span> For preprocess/outputs/nerel_common_labels/dev.jsonl      <a href=\"file:///tmp/ipykernel_23/261151408.py\"><span style=\"color: #7f7f7f; text-decoration-color: #7f7f7f\">261151408.py</span></a><span style=\"color: #7f7f7f; text-decoration-color: #7f7f7f\">:</span><a href=\"file:///tmp/ipykernel_23/261151408.py#33\"><span style=\"color: #7f7f7f; text-decoration-color: #7f7f7f\">33</span></a>\n</pre>\n"
     },
     "metadata": {}
    },
    {
     "output_type": "display_data",
     "data": {
      "text/plain": "\u001B[2;36m          \u001B[0m\u001B[2;36m \u001B[0m\u001B[34mINFO    \u001B[0m total sentence  \u001B[1;36m475\u001B[0m                                       \u001B]8;id=259602;file:///tmp/ipykernel_23/261151408.py\u001B\\\u001B[2m261151408.py\u001B[0m\u001B]8;;\u001B\\\u001B[2m:\u001B[0m\u001B]8;id=701799;file:///tmp/ipykernel_23/261151408.py#34\u001B\\\u001B[2m34\u001B[0m\u001B]8;;\u001B\\\n",
      "text/html": "<pre style=\"white-space:pre;overflow-x:auto;line-height:normal;font-family:Menlo,'DejaVu Sans Mono',consolas,'Courier New',monospace\"><span style=\"color: #7fbfbf; text-decoration-color: #7fbfbf\">           </span><span style=\"color: #000080; text-decoration-color: #000080\">INFO    </span> total sentence  <span style=\"color: #008080; text-decoration-color: #008080; font-weight: bold\">475</span>                                       <a href=\"file:///tmp/ipykernel_23/261151408.py\"><span style=\"color: #7f7f7f; text-decoration-color: #7f7f7f\">261151408.py</span></a><span style=\"color: #7f7f7f; text-decoration-color: #7f7f7f\">:</span><a href=\"file:///tmp/ipykernel_23/261151408.py#34\"><span style=\"color: #7f7f7f; text-decoration-color: #7f7f7f\">34</span></a>\n</pre>\n"
     },
     "metadata": {}
    },
    {
     "output_type": "display_data",
     "data": {
      "text/plain": "\u001B[2;36m          \u001B[0m\u001B[2;36m \u001B[0m\u001B[34mINFO    \u001B[0m average sentence length  \u001B[1;36m40.30947368421052\u001B[0m                \u001B]8;id=835365;file:///tmp/ipykernel_23/261151408.py\u001B\\\u001B[2m261151408.py\u001B[0m\u001B]8;;\u001B\\\u001B[2m:\u001B[0m\u001B]8;id=768015;file:///tmp/ipykernel_23/261151408.py#35\u001B\\\u001B[2m35\u001B[0m\u001B]8;;\u001B\\\n",
      "text/html": "<pre style=\"white-space:pre;overflow-x:auto;line-height:normal;font-family:Menlo,'DejaVu Sans Mono',consolas,'Courier New',monospace\"><span style=\"color: #7fbfbf; text-decoration-color: #7fbfbf\">           </span><span style=\"color: #000080; text-decoration-color: #000080\">INFO    </span> average sentence length  <span style=\"color: #008080; text-decoration-color: #008080; font-weight: bold\">40.30947368421052</span>                <a href=\"file:///tmp/ipykernel_23/261151408.py\"><span style=\"color: #7f7f7f; text-decoration-color: #7f7f7f\">261151408.py</span></a><span style=\"color: #7f7f7f; text-decoration-color: #7f7f7f\">:</span><a href=\"file:///tmp/ipykernel_23/261151408.py#35\"><span style=\"color: #7f7f7f; text-decoration-color: #7f7f7f\">35</span></a>\n</pre>\n"
     },
     "metadata": {}
    },
    {
     "output_type": "display_data",
     "data": {
      "text/plain": "\u001B[2;36m          \u001B[0m\u001B[2;36m \u001B[0m\u001B[34mINFO    \u001B[0m max sentence length  \u001B[1;36m438\u001B[0m                                  \u001B]8;id=583636;file:///tmp/ipykernel_23/261151408.py\u001B\\\u001B[2m261151408.py\u001B[0m\u001B]8;;\u001B\\\u001B[2m:\u001B[0m\u001B]8;id=227515;file:///tmp/ipykernel_23/261151408.py#36\u001B\\\u001B[2m36\u001B[0m\u001B]8;;\u001B\\\n",
      "text/html": "<pre style=\"white-space:pre;overflow-x:auto;line-height:normal;font-family:Menlo,'DejaVu Sans Mono',consolas,'Courier New',monospace\"><span style=\"color: #7fbfbf; text-decoration-color: #7fbfbf\">           </span><span style=\"color: #000080; text-decoration-color: #000080\">INFO    </span> max sentence length  <span style=\"color: #008080; text-decoration-color: #008080; font-weight: bold\">438</span>                                  <a href=\"file:///tmp/ipykernel_23/261151408.py\"><span style=\"color: #7f7f7f; text-decoration-color: #7f7f7f\">261151408.py</span></a><span style=\"color: #7f7f7f; text-decoration-color: #7f7f7f\">:</span><a href=\"file:///tmp/ipykernel_23/261151408.py#36\"><span style=\"color: #7f7f7f; text-decoration-color: #7f7f7f\">36</span></a>\n</pre>\n"
     },
     "metadata": {}
    },
    {
     "output_type": "display_data",
     "data": {
      "text/plain": "\u001B[2;36m          \u001B[0m\u001B[2;36m \u001B[0m\u001B[34mINFO    \u001B[0m num_entities  \u001B[1;36m3467\u001B[0m                                        \u001B]8;id=670371;file:///tmp/ipykernel_23/261151408.py\u001B\\\u001B[2m261151408.py\u001B[0m\u001B]8;;\u001B\\\u001B[2m:\u001B[0m\u001B]8;id=660720;file:///tmp/ipykernel_23/261151408.py#38\u001B\\\u001B[2m38\u001B[0m\u001B]8;;\u001B\\\n",
      "text/html": "<pre style=\"white-space:pre;overflow-x:auto;line-height:normal;font-family:Menlo,'DejaVu Sans Mono',consolas,'Courier New',monospace\"><span style=\"color: #7fbfbf; text-decoration-color: #7fbfbf\">           </span><span style=\"color: #000080; text-decoration-color: #000080\">INFO    </span> num_entities  <span style=\"color: #008080; text-decoration-color: #008080; font-weight: bold\">3467</span>                                        <a href=\"file:///tmp/ipykernel_23/261151408.py\"><span style=\"color: #7f7f7f; text-decoration-color: #7f7f7f\">261151408.py</span></a><span style=\"color: #7f7f7f; text-decoration-color: #7f7f7f\">:</span><a href=\"file:///tmp/ipykernel_23/261151408.py#38\"><span style=\"color: #7f7f7f; text-decoration-color: #7f7f7f\">38</span></a>\n</pre>\n"
     },
     "metadata": {}
    },
    {
     "output_type": "display_data",
     "data": {
      "text/plain": "\u001B[2;36m          \u001B[0m\u001B[2;36m \u001B[0m\u001B[34mINFO    \u001B[0m average entity length   \u001B[1;36m1.8148254975483127\u001B[0m                \u001B]8;id=118970;file:///tmp/ipykernel_23/261151408.py\u001B\\\u001B[2m261151408.py\u001B[0m\u001B]8;;\u001B\\\u001B[2m:\u001B[0m\u001B]8;id=347479;file:///tmp/ipykernel_23/261151408.py#39\u001B\\\u001B[2m39\u001B[0m\u001B]8;;\u001B\\\n",
      "text/html": "<pre style=\"white-space:pre;overflow-x:auto;line-height:normal;font-family:Menlo,'DejaVu Sans Mono',consolas,'Courier New',monospace\"><span style=\"color: #7fbfbf; text-decoration-color: #7fbfbf\">           </span><span style=\"color: #000080; text-decoration-color: #000080\">INFO    </span> average entity length   <span style=\"color: #008080; text-decoration-color: #008080; font-weight: bold\">1.8148254975483127</span>                <a href=\"file:///tmp/ipykernel_23/261151408.py\"><span style=\"color: #7f7f7f; text-decoration-color: #7f7f7f\">261151408.py</span></a><span style=\"color: #7f7f7f; text-decoration-color: #7f7f7f\">:</span><a href=\"file:///tmp/ipykernel_23/261151408.py#39\"><span style=\"color: #7f7f7f; text-decoration-color: #7f7f7f\">39</span></a>\n</pre>\n"
     },
     "metadata": {}
    },
    {
     "output_type": "display_data",
     "data": {
      "text/plain": "\u001B[2;36m          \u001B[0m\u001B[2;36m \u001B[0m\u001B[34mINFO    \u001B[0m max entity length   \u001B[1;36m11\u001B[0m                                    \u001B]8;id=377803;file:///tmp/ipykernel_23/261151408.py\u001B\\\u001B[2m261151408.py\u001B[0m\u001B]8;;\u001B\\\u001B[2m:\u001B[0m\u001B]8;id=853577;file:///tmp/ipykernel_23/261151408.py#40\u001B\\\u001B[2m40\u001B[0m\u001B]8;;\u001B\\\n",
      "text/html": "<pre style=\"white-space:pre;overflow-x:auto;line-height:normal;font-family:Menlo,'DejaVu Sans Mono',consolas,'Courier New',monospace\"><span style=\"color: #7fbfbf; text-decoration-color: #7fbfbf\">           </span><span style=\"color: #000080; text-decoration-color: #000080\">INFO    </span> max entity length   <span style=\"color: #008080; text-decoration-color: #008080; font-weight: bold\">11</span>                                    <a href=\"file:///tmp/ipykernel_23/261151408.py\"><span style=\"color: #7f7f7f; text-decoration-color: #7f7f7f\">261151408.py</span></a><span style=\"color: #7f7f7f; text-decoration-color: #7f7f7f\">:</span><a href=\"file:///tmp/ipykernel_23/261151408.py#40\"><span style=\"color: #7f7f7f; text-decoration-color: #7f7f7f\">40</span></a>\n</pre>\n"
     },
     "metadata": {}
    },
    {
     "output_type": "display_data",
     "data": {
      "text/plain": "\u001B[2;36m          \u001B[0m\u001B[2;36m \u001B[0m\u001B[34mINFO    \u001B[0m Number of nested entity  \u001B[1;36m848\u001B[0m                              \u001B]8;id=138588;file:///tmp/ipykernel_23/261151408.py\u001B\\\u001B[2m261151408.py\u001B[0m\u001B]8;;\u001B\\\u001B[2m:\u001B[0m\u001B]8;id=310599;file:///tmp/ipykernel_23/261151408.py#41\u001B\\\u001B[2m41\u001B[0m\u001B]8;;\u001B\\\n",
      "text/html": "<pre style=\"white-space:pre;overflow-x:auto;line-height:normal;font-family:Menlo,'DejaVu Sans Mono',consolas,'Courier New',monospace\"><span style=\"color: #7fbfbf; text-decoration-color: #7fbfbf\">           </span><span style=\"color: #000080; text-decoration-color: #000080\">INFO    </span> Number of nested entity  <span style=\"color: #008080; text-decoration-color: #008080; font-weight: bold\">848</span>                              <a href=\"file:///tmp/ipykernel_23/261151408.py\"><span style=\"color: #7f7f7f; text-decoration-color: #7f7f7f\">261151408.py</span></a><span style=\"color: #7f7f7f; text-decoration-color: #7f7f7f\">:</span><a href=\"file:///tmp/ipykernel_23/261151408.py#41\"><span style=\"color: #7f7f7f; text-decoration-color: #7f7f7f\">41</span></a>\n</pre>\n"
     },
     "metadata": {}
    },
    {
     "output_type": "display_data",
     "data": {
      "text/plain": "\u001B[2;36m          \u001B[0m\u001B[2;36m \u001B[0m\u001B[34mINFO    \u001B[0m Number of tokens  \u001B[1;36m19147\u001B[0m                                   \u001B]8;id=494356;file:///tmp/ipykernel_23/261151408.py\u001B\\\u001B[2m261151408.py\u001B[0m\u001B]8;;\u001B\\\u001B[2m:\u001B[0m\u001B]8;id=551814;file:///tmp/ipykernel_23/261151408.py#43\u001B\\\u001B[2m43\u001B[0m\u001B]8;;\u001B\\\n",
      "text/html": "<pre style=\"white-space:pre;overflow-x:auto;line-height:normal;font-family:Menlo,'DejaVu Sans Mono',consolas,'Courier New',monospace\"><span style=\"color: #7fbfbf; text-decoration-color: #7fbfbf\">           </span><span style=\"color: #000080; text-decoration-color: #000080\">INFO    </span> Number of tokens  <span style=\"color: #008080; text-decoration-color: #008080; font-weight: bold\">19147</span>                                   <a href=\"file:///tmp/ipykernel_23/261151408.py\"><span style=\"color: #7f7f7f; text-decoration-color: #7f7f7f\">261151408.py</span></a><span style=\"color: #7f7f7f; text-decoration-color: #7f7f7f\">:</span><a href=\"file:///tmp/ipykernel_23/261151408.py#43\"><span style=\"color: #7f7f7f; text-decoration-color: #7f7f7f\">43</span></a>\n</pre>\n"
     },
     "metadata": {}
    },
    {
     "output_type": "display_data",
     "data": {
      "text/plain": "\u001B[2;36m          \u001B[0m\u001B[2;36m \u001B[0m\u001B[34mINFO    \u001B[0m                                                           \u001B]8;id=862504;file:///tmp/ipykernel_23/261151408.py\u001B\\\u001B[2m261151408.py\u001B[0m\u001B]8;;\u001B\\\u001B[2m:\u001B[0m\u001B]8;id=130592;file:///tmp/ipykernel_23/261151408.py#44\u001B\\\u001B[2m44\u001B[0m\u001B]8;;\u001B\\\n",
      "text/html": "<pre style=\"white-space:pre;overflow-x:auto;line-height:normal;font-family:Menlo,'DejaVu Sans Mono',consolas,'Courier New',monospace\"><span style=\"color: #7fbfbf; text-decoration-color: #7fbfbf\">           </span><span style=\"color: #000080; text-decoration-color: #000080\">INFO    </span>                                                           <a href=\"file:///tmp/ipykernel_23/261151408.py\"><span style=\"color: #7f7f7f; text-decoration-color: #7f7f7f\">261151408.py</span></a><span style=\"color: #7f7f7f; text-decoration-color: #7f7f7f\">:</span><a href=\"file:///tmp/ipykernel_23/261151408.py#44\"><span style=\"color: #7f7f7f; text-decoration-color: #7f7f7f\">44</span></a>\n</pre>\n"
     },
     "metadata": {}
    },
    {
     "output_type": "display_data",
     "data": {
      "text/plain": "\u001B[2;36m          \u001B[0m\u001B[2;36m \u001B[0m\u001B[34mINFO    \u001B[0m For preprocess/outputs/nerel_common_labels/test.jsonl     \u001B]8;id=97271;file:///tmp/ipykernel_23/261151408.py\u001B\\\u001B[2m261151408.py\u001B[0m\u001B]8;;\u001B\\\u001B[2m:\u001B[0m\u001B]8;id=557710;file:///tmp/ipykernel_23/261151408.py#33\u001B\\\u001B[2m33\u001B[0m\u001B]8;;\u001B\\\n",
      "text/html": "<pre style=\"white-space:pre;overflow-x:auto;line-height:normal;font-family:Menlo,'DejaVu Sans Mono',consolas,'Courier New',monospace\"><span style=\"color: #7fbfbf; text-decoration-color: #7fbfbf\">           </span><span style=\"color: #000080; text-decoration-color: #000080\">INFO    </span> For preprocess/outputs/nerel_common_labels/test.jsonl     <a href=\"file:///tmp/ipykernel_23/261151408.py\"><span style=\"color: #7f7f7f; text-decoration-color: #7f7f7f\">261151408.py</span></a><span style=\"color: #7f7f7f; text-decoration-color: #7f7f7f\">:</span><a href=\"file:///tmp/ipykernel_23/261151408.py#33\"><span style=\"color: #7f7f7f; text-decoration-color: #7f7f7f\">33</span></a>\n</pre>\n"
     },
     "metadata": {}
    },
    {
     "output_type": "display_data",
     "data": {
      "text/plain": "\u001B[2;36m          \u001B[0m\u001B[2;36m \u001B[0m\u001B[34mINFO    \u001B[0m total sentence  \u001B[1;36m471\u001B[0m                                       \u001B]8;id=220520;file:///tmp/ipykernel_23/261151408.py\u001B\\\u001B[2m261151408.py\u001B[0m\u001B]8;;\u001B\\\u001B[2m:\u001B[0m\u001B]8;id=772749;file:///tmp/ipykernel_23/261151408.py#34\u001B\\\u001B[2m34\u001B[0m\u001B]8;;\u001B\\\n",
      "text/html": "<pre style=\"white-space:pre;overflow-x:auto;line-height:normal;font-family:Menlo,'DejaVu Sans Mono',consolas,'Courier New',monospace\"><span style=\"color: #7fbfbf; text-decoration-color: #7fbfbf\">           </span><span style=\"color: #000080; text-decoration-color: #000080\">INFO    </span> total sentence  <span style=\"color: #008080; text-decoration-color: #008080; font-weight: bold\">471</span>                                       <a href=\"file:///tmp/ipykernel_23/261151408.py\"><span style=\"color: #7f7f7f; text-decoration-color: #7f7f7f\">261151408.py</span></a><span style=\"color: #7f7f7f; text-decoration-color: #7f7f7f\">:</span><a href=\"file:///tmp/ipykernel_23/261151408.py#34\"><span style=\"color: #7f7f7f; text-decoration-color: #7f7f7f\">34</span></a>\n</pre>\n"
     },
     "metadata": {}
    },
    {
     "output_type": "display_data",
     "data": {
      "text/plain": "\u001B[2;36m          \u001B[0m\u001B[2;36m \u001B[0m\u001B[34mINFO    \u001B[0m average sentence length  \u001B[1;36m41.40127388535032\u001B[0m                \u001B]8;id=209390;file:///tmp/ipykernel_23/261151408.py\u001B\\\u001B[2m261151408.py\u001B[0m\u001B]8;;\u001B\\\u001B[2m:\u001B[0m\u001B]8;id=874549;file:///tmp/ipykernel_23/261151408.py#35\u001B\\\u001B[2m35\u001B[0m\u001B]8;;\u001B\\\n",
      "text/html": "<pre style=\"white-space:pre;overflow-x:auto;line-height:normal;font-family:Menlo,'DejaVu Sans Mono',consolas,'Courier New',monospace\"><span style=\"color: #7fbfbf; text-decoration-color: #7fbfbf\">           </span><span style=\"color: #000080; text-decoration-color: #000080\">INFO    </span> average sentence length  <span style=\"color: #008080; text-decoration-color: #008080; font-weight: bold\">41.40127388535032</span>                <a href=\"file:///tmp/ipykernel_23/261151408.py\"><span style=\"color: #7f7f7f; text-decoration-color: #7f7f7f\">261151408.py</span></a><span style=\"color: #7f7f7f; text-decoration-color: #7f7f7f\">:</span><a href=\"file:///tmp/ipykernel_23/261151408.py#35\"><span style=\"color: #7f7f7f; text-decoration-color: #7f7f7f\">35</span></a>\n</pre>\n"
     },
     "metadata": {}
    },
    {
     "output_type": "display_data",
     "data": {
      "text/plain": "\u001B[2;36m          \u001B[0m\u001B[2;36m \u001B[0m\u001B[34mINFO    \u001B[0m max sentence length  \u001B[1;36m192\u001B[0m                                  \u001B]8;id=878877;file:///tmp/ipykernel_23/261151408.py\u001B\\\u001B[2m261151408.py\u001B[0m\u001B]8;;\u001B\\\u001B[2m:\u001B[0m\u001B]8;id=857055;file:///tmp/ipykernel_23/261151408.py#36\u001B\\\u001B[2m36\u001B[0m\u001B]8;;\u001B\\\n",
      "text/html": "<pre style=\"white-space:pre;overflow-x:auto;line-height:normal;font-family:Menlo,'DejaVu Sans Mono',consolas,'Courier New',monospace\"><span style=\"color: #7fbfbf; text-decoration-color: #7fbfbf\">           </span><span style=\"color: #000080; text-decoration-color: #000080\">INFO    </span> max sentence length  <span style=\"color: #008080; text-decoration-color: #008080; font-weight: bold\">192</span>                                  <a href=\"file:///tmp/ipykernel_23/261151408.py\"><span style=\"color: #7f7f7f; text-decoration-color: #7f7f7f\">261151408.py</span></a><span style=\"color: #7f7f7f; text-decoration-color: #7f7f7f\">:</span><a href=\"file:///tmp/ipykernel_23/261151408.py#36\"><span style=\"color: #7f7f7f; text-decoration-color: #7f7f7f\">36</span></a>\n</pre>\n"
     },
     "metadata": {}
    },
    {
     "output_type": "display_data",
     "data": {
      "text/plain": "\u001B[2;36m          \u001B[0m\u001B[2;36m \u001B[0m\u001B[34mINFO    \u001B[0m num_entities  \u001B[1;36m3513\u001B[0m                                        \u001B]8;id=643983;file:///tmp/ipykernel_23/261151408.py\u001B\\\u001B[2m261151408.py\u001B[0m\u001B]8;;\u001B\\\u001B[2m:\u001B[0m\u001B]8;id=940510;file:///tmp/ipykernel_23/261151408.py#38\u001B\\\u001B[2m38\u001B[0m\u001B]8;;\u001B\\\n",
      "text/html": "<pre style=\"white-space:pre;overflow-x:auto;line-height:normal;font-family:Menlo,'DejaVu Sans Mono',consolas,'Courier New',monospace\"><span style=\"color: #7fbfbf; text-decoration-color: #7fbfbf\">           </span><span style=\"color: #000080; text-decoration-color: #000080\">INFO    </span> num_entities  <span style=\"color: #008080; text-decoration-color: #008080; font-weight: bold\">3513</span>                                        <a href=\"file:///tmp/ipykernel_23/261151408.py\"><span style=\"color: #7f7f7f; text-decoration-color: #7f7f7f\">261151408.py</span></a><span style=\"color: #7f7f7f; text-decoration-color: #7f7f7f\">:</span><a href=\"file:///tmp/ipykernel_23/261151408.py#38\"><span style=\"color: #7f7f7f; text-decoration-color: #7f7f7f\">38</span></a>\n</pre>\n"
     },
     "metadata": {}
    },
    {
     "output_type": "display_data",
     "data": {
      "text/plain": "\u001B[2;36m          \u001B[0m\u001B[2;36m \u001B[0m\u001B[34mINFO    \u001B[0m average entity length   \u001B[1;36m1.8855678906917164\u001B[0m                \u001B]8;id=900153;file:///tmp/ipykernel_23/261151408.py\u001B\\\u001B[2m261151408.py\u001B[0m\u001B]8;;\u001B\\\u001B[2m:\u001B[0m\u001B]8;id=442733;file:///tmp/ipykernel_23/261151408.py#39\u001B\\\u001B[2m39\u001B[0m\u001B]8;;\u001B\\\n",
      "text/html": "<pre style=\"white-space:pre;overflow-x:auto;line-height:normal;font-family:Menlo,'DejaVu Sans Mono',consolas,'Courier New',monospace\"><span style=\"color: #7fbfbf; text-decoration-color: #7fbfbf\">           </span><span style=\"color: #000080; text-decoration-color: #000080\">INFO    </span> average entity length   <span style=\"color: #008080; text-decoration-color: #008080; font-weight: bold\">1.8855678906917164</span>                <a href=\"file:///tmp/ipykernel_23/261151408.py\"><span style=\"color: #7f7f7f; text-decoration-color: #7f7f7f\">261151408.py</span></a><span style=\"color: #7f7f7f; text-decoration-color: #7f7f7f\">:</span><a href=\"file:///tmp/ipykernel_23/261151408.py#39\"><span style=\"color: #7f7f7f; text-decoration-color: #7f7f7f\">39</span></a>\n</pre>\n"
     },
     "metadata": {}
    },
    {
     "output_type": "display_data",
     "data": {
      "text/plain": "\u001B[2;36m          \u001B[0m\u001B[2;36m \u001B[0m\u001B[34mINFO    \u001B[0m max entity length   \u001B[1;36m16\u001B[0m                                    \u001B]8;id=509502;file:///tmp/ipykernel_23/261151408.py\u001B\\\u001B[2m261151408.py\u001B[0m\u001B]8;;\u001B\\\u001B[2m:\u001B[0m\u001B]8;id=501493;file:///tmp/ipykernel_23/261151408.py#40\u001B\\\u001B[2m40\u001B[0m\u001B]8;;\u001B\\\n",
      "text/html": "<pre style=\"white-space:pre;overflow-x:auto;line-height:normal;font-family:Menlo,'DejaVu Sans Mono',consolas,'Courier New',monospace\"><span style=\"color: #7fbfbf; text-decoration-color: #7fbfbf\">           </span><span style=\"color: #000080; text-decoration-color: #000080\">INFO    </span> max entity length   <span style=\"color: #008080; text-decoration-color: #008080; font-weight: bold\">16</span>                                    <a href=\"file:///tmp/ipykernel_23/261151408.py\"><span style=\"color: #7f7f7f; text-decoration-color: #7f7f7f\">261151408.py</span></a><span style=\"color: #7f7f7f; text-decoration-color: #7f7f7f\">:</span><a href=\"file:///tmp/ipykernel_23/261151408.py#40\"><span style=\"color: #7f7f7f; text-decoration-color: #7f7f7f\">40</span></a>\n</pre>\n"
     },
     "metadata": {}
    },
    {
     "output_type": "display_data",
     "data": {
      "text/plain": "\u001B[2;36m          \u001B[0m\u001B[2;36m \u001B[0m\u001B[34mINFO    \u001B[0m Number of nested entity  \u001B[1;36m999\u001B[0m                              \u001B]8;id=715177;file:///tmp/ipykernel_23/261151408.py\u001B\\\u001B[2m261151408.py\u001B[0m\u001B]8;;\u001B\\\u001B[2m:\u001B[0m\u001B]8;id=766450;file:///tmp/ipykernel_23/261151408.py#41\u001B\\\u001B[2m41\u001B[0m\u001B]8;;\u001B\\\n",
      "text/html": "<pre style=\"white-space:pre;overflow-x:auto;line-height:normal;font-family:Menlo,'DejaVu Sans Mono',consolas,'Courier New',monospace\"><span style=\"color: #7fbfbf; text-decoration-color: #7fbfbf\">           </span><span style=\"color: #000080; text-decoration-color: #000080\">INFO    </span> Number of nested entity  <span style=\"color: #008080; text-decoration-color: #008080; font-weight: bold\">999</span>                              <a href=\"file:///tmp/ipykernel_23/261151408.py\"><span style=\"color: #7f7f7f; text-decoration-color: #7f7f7f\">261151408.py</span></a><span style=\"color: #7f7f7f; text-decoration-color: #7f7f7f\">:</span><a href=\"file:///tmp/ipykernel_23/261151408.py#41\"><span style=\"color: #7f7f7f; text-decoration-color: #7f7f7f\">41</span></a>\n</pre>\n"
     },
     "metadata": {}
    },
    {
     "output_type": "display_data",
     "data": {
      "text/plain": "\u001B[2;36m          \u001B[0m\u001B[2;36m \u001B[0m\u001B[34mINFO    \u001B[0m Number of tokens  \u001B[1;36m19500\u001B[0m                                   \u001B]8;id=745906;file:///tmp/ipykernel_23/261151408.py\u001B\\\u001B[2m261151408.py\u001B[0m\u001B]8;;\u001B\\\u001B[2m:\u001B[0m\u001B]8;id=22049;file:///tmp/ipykernel_23/261151408.py#43\u001B\\\u001B[2m43\u001B[0m\u001B]8;;\u001B\\\n",
      "text/html": "<pre style=\"white-space:pre;overflow-x:auto;line-height:normal;font-family:Menlo,'DejaVu Sans Mono',consolas,'Courier New',monospace\"><span style=\"color: #7fbfbf; text-decoration-color: #7fbfbf\">           </span><span style=\"color: #000080; text-decoration-color: #000080\">INFO    </span> Number of tokens  <span style=\"color: #008080; text-decoration-color: #008080; font-weight: bold\">19500</span>                                   <a href=\"file:///tmp/ipykernel_23/261151408.py\"><span style=\"color: #7f7f7f; text-decoration-color: #7f7f7f\">261151408.py</span></a><span style=\"color: #7f7f7f; text-decoration-color: #7f7f7f\">:</span><a href=\"file:///tmp/ipykernel_23/261151408.py#43\"><span style=\"color: #7f7f7f; text-decoration-color: #7f7f7f\">43</span></a>\n</pre>\n"
     },
     "metadata": {}
    },
    {
     "output_type": "display_data",
     "data": {
      "text/plain": "\u001B[2;36m          \u001B[0m\u001B[2;36m \u001B[0m\u001B[34mINFO    \u001B[0m                                                           \u001B]8;id=976799;file:///tmp/ipykernel_23/261151408.py\u001B\\\u001B[2m261151408.py\u001B[0m\u001B]8;;\u001B\\\u001B[2m:\u001B[0m\u001B]8;id=497201;file:///tmp/ipykernel_23/261151408.py#44\u001B\\\u001B[2m44\u001B[0m\u001B]8;;\u001B\\\n",
      "text/html": "<pre style=\"white-space:pre;overflow-x:auto;line-height:normal;font-family:Menlo,'DejaVu Sans Mono',consolas,'Courier New',monospace\"><span style=\"color: #7fbfbf; text-decoration-color: #7fbfbf\">           </span><span style=\"color: #000080; text-decoration-color: #000080\">INFO    </span>                                                           <a href=\"file:///tmp/ipykernel_23/261151408.py\"><span style=\"color: #7f7f7f; text-decoration-color: #7f7f7f\">261151408.py</span></a><span style=\"color: #7f7f7f; text-decoration-color: #7f7f7f\">:</span><a href=\"file:///tmp/ipykernel_23/261151408.py#44\"><span style=\"color: #7f7f7f; text-decoration-color: #7f7f7f\">44</span></a>\n</pre>\n"
     },
     "metadata": {}
    }
   ]
  },
  {
   "cell_type": "markdown",
   "source": [
    "### Training"
   ],
   "metadata": {
    "id": "KImdSDULzD5m"
   }
  },
  {
   "cell_type": "code",
   "source": [
    "###### HYPERPARAMS ######\n",
    "lr = 5e-6\n",
    "batch_size = 4\n",
    "n_epochs = 10\n",
    "warmup = 0.1\n",
    "dataset_name = 'nerel_common_labels'\n",
    "model_name = 'DeepPavlov/rubert-base-cased'\n",
    "# model_name = 'cointegrated/rubert-tiny2'\n",
    "cnn_depth = 3\n",
    "cnn_dim = 100\n",
    "logit_drop = 0\n",
    "biaffine_size = 200\n",
    "n_head = 4\n",
    "accumulation_steps = 1\n",
    "########################\n",
    "non_ptm_lr_ratio = 100\n",
    "schedule = 'linear'\n",
    "weight_decay = 1e-2\n",
    "size_embed_dim = 25\n",
    "ent_thres = 0.5\n",
    "kernel_size = 3\n",
    "########################\n",
    "\n",
    "\n",
    "\n",
    "@cache_results('caches/ner_caches.pkl', _refresh=False)\n",
    "def get_data(dataset_name, model_name):\n",
    "    paths = f'datasets/outputs/{dataset_name}'\n",
    "    pipe = SpanNerPipe(model_name=model_name)\n",
    "    dl = pipe.process_from_file(paths)\n",
    "    return dl, pipe.matrix_segs\n",
    "\n",
    "\n",
    "dl, matrix_segs = get_data(dataset_name, model_name)\n",
    "\n",
    "def densify(x):\n",
    "    x = x.todense().astype(np.float32)\n",
    "    return x\n",
    "\n",
    "\n",
    "dl.apply_field(densify, field_name='matrix', new_field_name='matrix', progress_bar='Densify')\n",
    "\n",
    "print(dl)\n",
    "\n",
    "label2idx = getattr(dl, 'ner_vocab') if hasattr(dl, 'ner_vocab') else getattr(dl, 'label2idx')\n",
    "print(f\"{len(label2idx)} labels: {label2idx}, matrix_segs:{matrix_segs}\")\n",
    "\n",
    "\n",
    "dls = {}\n",
    "for name, ds in dl.iter_datasets():\n",
    "    ds.set_pad('matrix', pad_fn=Torch3DMatrixPadder(pad_val=ds.collator.input_fields['matrix']['pad_val'],\n",
    "                                                    num_class=matrix_segs['ent'],\n",
    "                                                    batch_size=batch_size))\n",
    "\n",
    "    if name == 'train':\n",
    "        _dl = prepare_torch_dataloader(ds, batch_size=batch_size, num_workers=0,\n",
    "                                       batch_sampler=BucketedBatchSampler(ds, 'input_ids',\n",
    "                                                                          batch_size=batch_size,\n",
    "                                                                          num_batch_per_bucket=30),\n",
    "                                       pin_memory=True, shuffle=True)\n",
    "\n",
    "    else:\n",
    "        _dl = prepare_torch_dataloader(ds, batch_size=batch_size, num_workers=0,\n",
    "                                       sampler=SortedSampler(ds, 'input_ids'), pin_memory=True, shuffle=False)\n",
    "    dls[name] = _dl"
   ],
   "metadata": {
    "execution": {
     "iopub.status.busy": "2023-04-28T19:36:17.107462Z",
     "iopub.execute_input": "2023-04-28T19:36:17.107828Z",
     "iopub.status.idle": "2023-04-28T19:36:32.010059Z",
     "shell.execute_reply.started": "2023-04-28T19:36:17.107790Z",
     "shell.execute_reply": "2023-04-28T19:36:32.009082Z"
    },
    "trusted": true,
    "colab": {
     "referenced_widgets": [
      "1bd32a176ff34a628a668d1e1da6ddd4",
      "7ba99e09c0d34e329aedc88d4c37e5fa",
      "6a827845c8254177bf75a0813886e245",
      "cb0ce88cfc4b49799b8645e8564d39b8"
     ]
    },
    "id": "-T9uPCOxzD5n",
    "outputId": "6fd3baaa-0658-43c5-bb53-23714b207bbb"
   },
   "execution_count": null,
   "outputs": [
    {
     "output_type": "display_data",
     "data": {
      "text/plain": "Downloading:   0%|          | 0.00/24.0 [00:00<?, ?B/s]",
      "application/vnd.jupyter.widget-view+json": {
       "version_major": 2,
       "version_minor": 0,
       "model_id": "1bd32a176ff34a628a668d1e1da6ddd4"
      }
     },
     "metadata": {}
    },
    {
     "output_type": "display_data",
     "data": {
      "text/plain": "Downloading:   0%|          | 0.00/642 [00:00<?, ?B/s]",
      "application/vnd.jupyter.widget-view+json": {
       "version_major": 2,
       "version_minor": 0,
       "model_id": "7ba99e09c0d34e329aedc88d4c37e5fa"
      }
     },
     "metadata": {}
    },
    {
     "output_type": "display_data",
     "data": {
      "text/plain": "Downloading:   0%|          | 0.00/1.57M [00:00<?, ?B/s]",
      "application/vnd.jupyter.widget-view+json": {
       "version_major": 2,
       "version_minor": 0,
       "model_id": "6a827845c8254177bf75a0813886e245"
      }
     },
     "metadata": {}
    },
    {
     "output_type": "display_data",
     "data": {
      "text/plain": "Downloading:   0%|          | 0.00/112 [00:00<?, ?B/s]",
      "application/vnd.jupyter.widget-view+json": {
       "version_major": 2,
       "version_minor": 0,
       "model_id": "cb0ce88cfc4b49799b8645e8564d39b8"
      }
     },
     "metadata": {}
    },
    {
     "name": "stderr",
     "text": "                                                            \r",
     "output_type": "stream"
    },
    {
     "output_type": "display_data",
     "data": {
      "text/plain": "\u001B[2;36m[19:36:30]\u001B[0m\u001B[2;36m \u001B[0m\u001B[34mINFO    \u001B[0m Save cache to \u001B[35m/kaggle/working/CNN_Nested_NER/caches/\u001B[0m \u001B]8;id=970679;file:///opt/conda/lib/python3.7/site-packages/fastNLP/core/utils/cache_results.py\u001B\\\u001B[2mcache_results.py\u001B[0m\u001B]8;;\u001B\\\u001B[2m:\u001B[0m\u001B]8;id=91928;file:///opt/conda/lib/python3.7/site-packages/fastNLP/core/utils/cache_results.py#343\u001B\\\u001B[2m343\u001B[0m\u001B]8;;\u001B\\\n\u001B[2;36m           \u001B[0m         \u001B[95m20c58dfe_ner_caches.pkl.\u001B[0m                             \u001B[2m                    \u001B[0m\n",
      "text/html": "<pre style=\"white-space:pre;overflow-x:auto;line-height:normal;font-family:Menlo,'DejaVu Sans Mono',consolas,'Courier New',monospace\"><span style=\"color: #7fbfbf; text-decoration-color: #7fbfbf\">[19:36:30] </span><span style=\"color: #000080; text-decoration-color: #000080\">INFO    </span> Save cache to <span style=\"color: #800080; text-decoration-color: #800080\">/kaggle/working/CNN_Nested_NER/caches/</span> <a href=\"file:///opt/conda/lib/python3.7/site-packages/fastNLP/core/utils/cache_results.py\"><span style=\"color: #7f7f7f; text-decoration-color: #7f7f7f\">cache_results.py</span></a><span style=\"color: #7f7f7f; text-decoration-color: #7f7f7f\">:</span><a href=\"file:///opt/conda/lib/python3.7/site-packages/fastNLP/core/utils/cache_results.py#343\"><span style=\"color: #7f7f7f; text-decoration-color: #7f7f7f\">343</span></a>\n<span style=\"color: #7fbfbf; text-decoration-color: #7fbfbf\">           </span>         <span style=\"color: #ff00ff; text-decoration-color: #ff00ff\">20c58dfe_ner_caches.pkl.</span>                             <span style=\"color: #7f7f7f; text-decoration-color: #7f7f7f\">                    </span>\n</pre>\n"
     },
     "metadata": {}
    },
    {
     "output_type": "display_data",
     "data": {
      "text/plain": "\u001B[2;36m[19:36:31]\u001B[0m\u001B[2;36m \u001B[0m\u001B[34mINFO    \u001B[0m In total \u001B[1;36m3\u001B[0m datasets:                                     \u001B]8;id=11661;file:///tmp/ipykernel_23/1039625023.py\u001B\\\u001B[2m1039625023.py\u001B[0m\u001B]8;;\u001B\\\u001B[2m:\u001B[0m\u001B]8;id=616521;file:///tmp/ipykernel_23/1039625023.py#43\u001B\\\u001B[2m43\u001B[0m\u001B]8;;\u001B\\\n\u001B[2;36m           \u001B[0m                 dev has \u001B[1;36m476\u001B[0m instances.                           \u001B[2m                \u001B[0m\n\u001B[2;36m           \u001B[0m                 test has \u001B[1;36m471\u001B[0m instances.                          \u001B[2m                \u001B[0m\n\u001B[2;36m           \u001B[0m                 train has \u001B[1;36m3984\u001B[0m instances.                        \u001B[2m                \u001B[0m\n\u001B[2;36m           \u001B[0m                                                                  \u001B[2m                \u001B[0m\n",
      "text/html": "<pre style=\"white-space:pre;overflow-x:auto;line-height:normal;font-family:Menlo,'DejaVu Sans Mono',consolas,'Courier New',monospace\"><span style=\"color: #7fbfbf; text-decoration-color: #7fbfbf\">[19:36:31] </span><span style=\"color: #000080; text-decoration-color: #000080\">INFO    </span> In total <span style=\"color: #008080; text-decoration-color: #008080; font-weight: bold\">3</span> datasets:                                     <a href=\"file:///tmp/ipykernel_23/1039625023.py\"><span style=\"color: #7f7f7f; text-decoration-color: #7f7f7f\">1039625023.py</span></a><span style=\"color: #7f7f7f; text-decoration-color: #7f7f7f\">:</span><a href=\"file:///tmp/ipykernel_23/1039625023.py#43\"><span style=\"color: #7f7f7f; text-decoration-color: #7f7f7f\">43</span></a>\n<span style=\"color: #7fbfbf; text-decoration-color: #7fbfbf\">           </span>                 dev has <span style=\"color: #008080; text-decoration-color: #008080; font-weight: bold\">476</span> instances.                           <span style=\"color: #7f7f7f; text-decoration-color: #7f7f7f\">                </span>\n<span style=\"color: #7fbfbf; text-decoration-color: #7fbfbf\">           </span>                 test has <span style=\"color: #008080; text-decoration-color: #008080; font-weight: bold\">471</span> instances.                          <span style=\"color: #7f7f7f; text-decoration-color: #7f7f7f\">                </span>\n<span style=\"color: #7fbfbf; text-decoration-color: #7fbfbf\">           </span>                 train has <span style=\"color: #008080; text-decoration-color: #008080; font-weight: bold\">3984</span> instances.                        <span style=\"color: #7f7f7f; text-decoration-color: #7f7f7f\">                </span>\n<span style=\"color: #7fbfbf; text-decoration-color: #7fbfbf\">           </span>                                                                  <span style=\"color: #7f7f7f; text-decoration-color: #7f7f7f\">                </span>\n</pre>\n"
     },
     "metadata": {}
    },
    {
     "output_type": "display_data",
     "data": {
      "text/plain": "\u001B[2;36m          \u001B[0m\u001B[2;36m \u001B[0m\u001B[34mINFO    \u001B[0m \u001B[1;36m16\u001B[0m labels: \u001B[1m{\u001B[0m\u001B[32m'AGE'\u001B[0m: \u001B[1;36m0\u001B[0m, \u001B[32m'CITY'\u001B[0m: \u001B[1;36m1\u001B[0m, \u001B[32m'COUNTRY'\u001B[0m: \u001B[1;36m2\u001B[0m, \u001B[32m'DATE'\u001B[0m:   \u001B]8;id=718977;file:///tmp/ipykernel_23/1039625023.py\u001B\\\u001B[2m1039625023.py\u001B[0m\u001B]8;;\u001B\\\u001B[2m:\u001B[0m\u001B]8;id=976901;file:///tmp/ipykernel_23/1039625023.py#46\u001B\\\u001B[2m46\u001B[0m\u001B]8;;\u001B\\\n\u001B[2;36m           \u001B[0m         \u001B[1;36m3\u001B[0m, \u001B[32m'DISEASE'\u001B[0m: \u001B[1;36m4\u001B[0m, \u001B[32m'FACILITY'\u001B[0m: \u001B[1;36m5\u001B[0m, \u001B[32m'LOCATION'\u001B[0m: \u001B[1;36m6\u001B[0m, \u001B[32m'NUMBER'\u001B[0m: \u001B[2m                \u001B[0m\n\u001B[2;36m           \u001B[0m         \u001B[1;36m7\u001B[0m, \u001B[32m'ORDINAL'\u001B[0m: \u001B[1;36m8\u001B[0m, \u001B[32m'ORGANIZATION'\u001B[0m: \u001B[1;36m9\u001B[0m, \u001B[32m'PERCENT'\u001B[0m: \u001B[1;36m10\u001B[0m,       \u001B[2m                \u001B[0m\n\u001B[2;36m           \u001B[0m         \u001B[32m'PERSON'\u001B[0m: \u001B[1;36m11\u001B[0m, \u001B[32m'PRODUCT'\u001B[0m: \u001B[1;36m12\u001B[0m, \u001B[32m'PROFESSION'\u001B[0m: \u001B[1;36m13\u001B[0m,           \u001B[2m                \u001B[0m\n\u001B[2;36m           \u001B[0m         \u001B[32m'STATE_OR_PROVINCE'\u001B[0m: \u001B[1;36m14\u001B[0m, \u001B[32m'TIME'\u001B[0m: \u001B[1;36m15\u001B[0m\u001B[1m}\u001B[0m,                    \u001B[2m                \u001B[0m\n\u001B[2;36m           \u001B[0m         matrix_segs:\u001B[1m{\u001B[0m\u001B[32m'ent'\u001B[0m: \u001B[1;36m16\u001B[0m\u001B[1m}\u001B[0m                                  \u001B[2m                \u001B[0m\n",
      "text/html": "<pre style=\"white-space:pre;overflow-x:auto;line-height:normal;font-family:Menlo,'DejaVu Sans Mono',consolas,'Courier New',monospace\"><span style=\"color: #7fbfbf; text-decoration-color: #7fbfbf\">           </span><span style=\"color: #000080; text-decoration-color: #000080\">INFO    </span> <span style=\"color: #008080; text-decoration-color: #008080; font-weight: bold\">16</span> labels: <span style=\"font-weight: bold\">{</span><span style=\"color: #008000; text-decoration-color: #008000\">'AGE'</span>: <span style=\"color: #008080; text-decoration-color: #008080; font-weight: bold\">0</span>, <span style=\"color: #008000; text-decoration-color: #008000\">'CITY'</span>: <span style=\"color: #008080; text-decoration-color: #008080; font-weight: bold\">1</span>, <span style=\"color: #008000; text-decoration-color: #008000\">'COUNTRY'</span>: <span style=\"color: #008080; text-decoration-color: #008080; font-weight: bold\">2</span>, <span style=\"color: #008000; text-decoration-color: #008000\">'DATE'</span>:   <a href=\"file:///tmp/ipykernel_23/1039625023.py\"><span style=\"color: #7f7f7f; text-decoration-color: #7f7f7f\">1039625023.py</span></a><span style=\"color: #7f7f7f; text-decoration-color: #7f7f7f\">:</span><a href=\"file:///tmp/ipykernel_23/1039625023.py#46\"><span style=\"color: #7f7f7f; text-decoration-color: #7f7f7f\">46</span></a>\n<span style=\"color: #7fbfbf; text-decoration-color: #7fbfbf\">           </span>         <span style=\"color: #008080; text-decoration-color: #008080; font-weight: bold\">3</span>, <span style=\"color: #008000; text-decoration-color: #008000\">'DISEASE'</span>: <span style=\"color: #008080; text-decoration-color: #008080; font-weight: bold\">4</span>, <span style=\"color: #008000; text-decoration-color: #008000\">'FACILITY'</span>: <span style=\"color: #008080; text-decoration-color: #008080; font-weight: bold\">5</span>, <span style=\"color: #008000; text-decoration-color: #008000\">'LOCATION'</span>: <span style=\"color: #008080; text-decoration-color: #008080; font-weight: bold\">6</span>, <span style=\"color: #008000; text-decoration-color: #008000\">'NUMBER'</span>: <span style=\"color: #7f7f7f; text-decoration-color: #7f7f7f\">                </span>\n<span style=\"color: #7fbfbf; text-decoration-color: #7fbfbf\">           </span>         <span style=\"color: #008080; text-decoration-color: #008080; font-weight: bold\">7</span>, <span style=\"color: #008000; text-decoration-color: #008000\">'ORDINAL'</span>: <span style=\"color: #008080; text-decoration-color: #008080; font-weight: bold\">8</span>, <span style=\"color: #008000; text-decoration-color: #008000\">'ORGANIZATION'</span>: <span style=\"color: #008080; text-decoration-color: #008080; font-weight: bold\">9</span>, <span style=\"color: #008000; text-decoration-color: #008000\">'PERCENT'</span>: <span style=\"color: #008080; text-decoration-color: #008080; font-weight: bold\">10</span>,       <span style=\"color: #7f7f7f; text-decoration-color: #7f7f7f\">                </span>\n<span style=\"color: #7fbfbf; text-decoration-color: #7fbfbf\">           </span>         <span style=\"color: #008000; text-decoration-color: #008000\">'PERSON'</span>: <span style=\"color: #008080; text-decoration-color: #008080; font-weight: bold\">11</span>, <span style=\"color: #008000; text-decoration-color: #008000\">'PRODUCT'</span>: <span style=\"color: #008080; text-decoration-color: #008080; font-weight: bold\">12</span>, <span style=\"color: #008000; text-decoration-color: #008000\">'PROFESSION'</span>: <span style=\"color: #008080; text-decoration-color: #008080; font-weight: bold\">13</span>,           <span style=\"color: #7f7f7f; text-decoration-color: #7f7f7f\">                </span>\n<span style=\"color: #7fbfbf; text-decoration-color: #7fbfbf\">           </span>         <span style=\"color: #008000; text-decoration-color: #008000\">'STATE_OR_PROVINCE'</span>: <span style=\"color: #008080; text-decoration-color: #008080; font-weight: bold\">14</span>, <span style=\"color: #008000; text-decoration-color: #008000\">'TIME'</span>: <span style=\"color: #008080; text-decoration-color: #008080; font-weight: bold\">15</span><span style=\"font-weight: bold\">}</span>,                    <span style=\"color: #7f7f7f; text-decoration-color: #7f7f7f\">                </span>\n<span style=\"color: #7fbfbf; text-decoration-color: #7fbfbf\">           </span>         matrix_segs:<span style=\"font-weight: bold\">{</span><span style=\"color: #008000; text-decoration-color: #008000\">'ent'</span>: <span style=\"color: #008080; text-decoration-color: #008080; font-weight: bold\">16</span><span style=\"font-weight: bold\">}</span>                                  <span style=\"color: #7f7f7f; text-decoration-color: #7f7f7f\">                </span>\n</pre>\n"
     },
     "metadata": {}
    }
   ]
  },
  {
   "cell_type": "code",
   "source": [
    "model = CNNNer(model_name, num_ner_tag=matrix_segs['ent'], cnn_dim=cnn_dim, biaffine_size=biaffine_size,\n",
    "               size_embed_dim=size_embed_dim, logit_drop=logit_drop,\n",
    "               kernel_size=kernel_size, n_head=n_head, cnn_depth=cnn_depth)\n",
    "\n",
    "\n",
    "# optimizer\n",
    "parameters = []\n",
    "ln_params = []\n",
    "non_ln_params = []\n",
    "non_pretrain_params = []\n",
    "non_pretrain_ln_params = []\n",
    "\n",
    "import collections\n",
    "\n",
    "counter = collections.Counter()\n",
    "for name, param in model.named_parameters():\n",
    "    counter[name.split('.')[0]] += torch.numel(param)\n",
    "print(counter)\n",
    "print(\"Total param \", sum(counter.values()))\n",
    "\n",
    "for name, param in model.named_parameters():\n",
    "    name = name.lower()\n",
    "    if param.requires_grad is False:\n",
    "        continue\n",
    "    if 'pretrain_model' in name:\n",
    "        if 'norm' in name or 'bias' in name:\n",
    "            ln_params.append(param)\n",
    "        else:\n",
    "            non_ln_params.append(param)\n",
    "    else:\n",
    "        if 'norm' in name or 'bias' in name:\n",
    "            non_pretrain_ln_params.append(param)\n",
    "        else:\n",
    "            non_pretrain_params.append(param)\n",
    "\n",
    "  \n",
    "optimizer = torch.optim.AdamW([{'params': non_ln_params, 'lr': lr, 'weight_decay': weight_decay},\n",
    "                               {'params': ln_params, 'lr': lr, 'weight_decay': 0},\n",
    "                               {'params': non_pretrain_ln_params, 'lr': lr * non_ptm_lr_ratio, 'weight_decay': 0},\n",
    "                               {'params': non_pretrain_params, 'lr': lr * non_ptm_lr_ratio,\n",
    "                                'weight_decay': weight_decay}])\n",
    "# callbacks\n",
    "callbacks = []\n",
    "callbacks.append(TorchGradClipCallback(clip_value=5))\n",
    "callbacks.append(TorchWarmupCallback(warmup=warmup, schedule=schedule))\n",
    "callbacks.append(LoadBestModelCallback())\n",
    "\n",
    "evaluate_dls = {}\n",
    "if 'dev' in dls:\n",
    "    evaluate_dls = {'dev': dls.get('dev')}\n",
    "if 'test' in dls:\n",
    "    evaluate_dls['test'] = dls['test']\n",
    "\n",
    "allow_nested = True\n",
    "metrics = {'f': NERMetric(matrix_segs=matrix_segs, ent_thres=ent_thres, allow_nested=allow_nested)}\n",
    "\n",
    "trainer = Trainer(model=model,\n",
    "                  driver='torch',\n",
    "                  train_dataloader=dls.get('train'),\n",
    "                  evaluate_dataloaders=evaluate_dls,\n",
    "                  optimizers=optimizer,\n",
    "                  callbacks=callbacks,\n",
    "                  overfit_batches=0,\n",
    "                  device=0,\n",
    "                  n_epochs=n_epochs,\n",
    "                  metrics=metrics,\n",
    "                  monitor='f#f#dev',\n",
    "                  evaluate_every=-1,\n",
    "                  evaluate_use_dist_sampler=True,\n",
    "                  accumulation_steps=accumulation_steps,\n",
    "                  fp16=False,\n",
    "                  progress_bar='tqdm')\n",
    "\n",
    "\n",
    "trainer.run(num_train_batch_per_epoch=-1, num_eval_batch_per_dl=-1, num_eval_sanity_batch=1)\n",
    "torch.save(model, 'weights/model_best.pkl')"
   ],
   "metadata": {
    "execution": {
     "iopub.status.busy": "2023-04-28T19:36:32.011607Z",
     "iopub.execute_input": "2023-04-28T19:36:32.012188Z",
     "iopub.status.idle": "2023-04-28T19:55:11.418172Z",
     "shell.execute_reply.started": "2023-04-28T19:36:32.012148Z",
     "shell.execute_reply": "2023-04-28T19:55:11.416596Z"
    },
    "trusted": true,
    "colab": {
     "referenced_widgets": [
      "926e3c9d253b448185620a2643be91c0",
      "",
      "00781132aa9a4a4cbb4fa3765a5e6f3f"
     ]
    },
    "id": "LEJDbAQ6zD5o",
    "outputId": "efc0fdd3-47d8-4e86-fc15-078e4a648ce4"
   },
   "execution_count": null,
   "outputs": [
    {
     "output_type": "display_data",
     "data": {
      "text/plain": "Downloading:   0%|          | 0.00/681M [00:00<?, ?B/s]",
      "application/vnd.jupyter.widget-view+json": {
       "version_major": 2,
       "version_minor": 0,
       "model_id": "926e3c9d253b448185620a2643be91c0"
      }
     },
     "metadata": {}
    },
    {
     "name": "stderr",
     "text": "Some weights of the model checkpoint at DeepPavlov/rubert-base-cased were not used when initializing BertModel: ['cls.predictions.decoder.bias', 'cls.predictions.transform.LayerNorm.weight', 'cls.predictions.transform.dense.bias', 'cls.predictions.transform.dense.weight', 'cls.seq_relationship.bias', 'cls.seq_relationship.weight', 'cls.predictions.transform.LayerNorm.bias', 'cls.predictions.decoder.weight', 'cls.predictions.bias']\n- This IS expected if you are initializing BertModel from the checkpoint of a model trained on another task or with another architecture (e.g. initializing a BertForSequenceClassification model from a BertForPreTraining model).\n- This IS NOT expected if you are initializing BertModel from the checkpoint of a model that you expect to be exactly identical (initializing a BertForSequenceClassification model from a BertForSequenceClassification model).\n",
     "output_type": "stream"
    },
    {
     "output_type": "display_data",
     "data": {
      "text/plain": "\u001B[2;36m[19:38:05]\u001B[0m\u001B[2;36m \u001B[0m\u001B[34mINFO    \u001B[0m \u001B[1;35mCounter\u001B[0m\u001B[1m(\u001B[0m\u001B[1m{\u001B[0m\u001B[32m'pretrain_model'\u001B[0m: \u001B[1;36m177853440\u001B[0m, \u001B[32m'cnn'\u001B[0m: \u001B[1;36m360600\u001B[0m,     \u001B]8;id=679405;file:///tmp/ipykernel_23/2556785512.py\u001B\\\u001B[2m2556785512.py\u001B[0m\u001B]8;;\u001B\\\u001B[2m:\u001B[0m\u001B]8;id=101777;file:///tmp/ipykernel_23/2556785512.py#18\u001B\\\u001B[2m18\u001B[0m\u001B]8;;\u001B\\\n\u001B[2;36m           \u001B[0m         \u001B[32m'multi_head_biaffine'\u001B[0m: \u001B[1;36m250000\u001B[0m, \u001B[32m'head_mlp'\u001B[0m: \u001B[1;36m153800\u001B[0m,       \u001B[2m                \u001B[0m\n\u001B[2;36m           \u001B[0m         \u001B[32m'tail_mlp'\u001B[0m: \u001B[1;36m153800\u001B[0m, \u001B[32m'W'\u001B[0m: \u001B[1;36m42700\u001B[0m, \u001B[32m'down_fc'\u001B[0m: \u001B[1;36m1616\u001B[0m,         \u001B[2m                \u001B[0m\n\u001B[2;36m           \u001B[0m         \u001B[32m'size_embedding'\u001B[0m: \u001B[1;36m750\u001B[0m\u001B[1m}\u001B[0m\u001B[1m)\u001B[0m                                  \u001B[2m                \u001B[0m\n",
      "text/html": "<pre style=\"white-space:pre;overflow-x:auto;line-height:normal;font-family:Menlo,'DejaVu Sans Mono',consolas,'Courier New',monospace\"><span style=\"color: #7fbfbf; text-decoration-color: #7fbfbf\">[19:38:05] </span><span style=\"color: #000080; text-decoration-color: #000080\">INFO    </span> <span style=\"color: #800080; text-decoration-color: #800080; font-weight: bold\">Counter</span><span style=\"font-weight: bold\">({</span><span style=\"color: #008000; text-decoration-color: #008000\">'pretrain_model'</span>: <span style=\"color: #008080; text-decoration-color: #008080; font-weight: bold\">177853440</span>, <span style=\"color: #008000; text-decoration-color: #008000\">'cnn'</span>: <span style=\"color: #008080; text-decoration-color: #008080; font-weight: bold\">360600</span>,     <a href=\"file:///tmp/ipykernel_23/2556785512.py\"><span style=\"color: #7f7f7f; text-decoration-color: #7f7f7f\">2556785512.py</span></a><span style=\"color: #7f7f7f; text-decoration-color: #7f7f7f\">:</span><a href=\"file:///tmp/ipykernel_23/2556785512.py#18\"><span style=\"color: #7f7f7f; text-decoration-color: #7f7f7f\">18</span></a>\n<span style=\"color: #7fbfbf; text-decoration-color: #7fbfbf\">           </span>         <span style=\"color: #008000; text-decoration-color: #008000\">'multi_head_biaffine'</span>: <span style=\"color: #008080; text-decoration-color: #008080; font-weight: bold\">250000</span>, <span style=\"color: #008000; text-decoration-color: #008000\">'head_mlp'</span>: <span style=\"color: #008080; text-decoration-color: #008080; font-weight: bold\">153800</span>,       <span style=\"color: #7f7f7f; text-decoration-color: #7f7f7f\">                </span>\n<span style=\"color: #7fbfbf; text-decoration-color: #7fbfbf\">           </span>         <span style=\"color: #008000; text-decoration-color: #008000\">'tail_mlp'</span>: <span style=\"color: #008080; text-decoration-color: #008080; font-weight: bold\">153800</span>, <span style=\"color: #008000; text-decoration-color: #008000\">'W'</span>: <span style=\"color: #008080; text-decoration-color: #008080; font-weight: bold\">42700</span>, <span style=\"color: #008000; text-decoration-color: #008000\">'down_fc'</span>: <span style=\"color: #008080; text-decoration-color: #008080; font-weight: bold\">1616</span>,         <span style=\"color: #7f7f7f; text-decoration-color: #7f7f7f\">                </span>\n<span style=\"color: #7fbfbf; text-decoration-color: #7fbfbf\">           </span>         <span style=\"color: #008000; text-decoration-color: #008000\">'size_embedding'</span>: <span style=\"color: #008080; text-decoration-color: #008080; font-weight: bold\">750</span><span style=\"font-weight: bold\">})</span>                                  <span style=\"color: #7f7f7f; text-decoration-color: #7f7f7f\">                </span>\n</pre>\n"
     },
     "metadata": {}
    },
    {
     "output_type": "display_data",
     "data": {
      "text/plain": "\u001B[2;36m          \u001B[0m\u001B[2;36m \u001B[0m\u001B[34mINFO    \u001B[0m Total param  \u001B[1;36m178816706\u001B[0m                                   \u001B]8;id=449711;file:///tmp/ipykernel_23/2556785512.py\u001B\\\u001B[2m2556785512.py\u001B[0m\u001B]8;;\u001B\\\u001B[2m:\u001B[0m\u001B]8;id=570959;file:///tmp/ipykernel_23/2556785512.py#19\u001B\\\u001B[2m19\u001B[0m\u001B]8;;\u001B\\\n",
      "text/html": "<pre style=\"white-space:pre;overflow-x:auto;line-height:normal;font-family:Menlo,'DejaVu Sans Mono',consolas,'Courier New',monospace\"><span style=\"color: #7fbfbf; text-decoration-color: #7fbfbf\">           </span><span style=\"color: #000080; text-decoration-color: #000080\">INFO    </span> Total param  <span style=\"color: #008080; text-decoration-color: #008080; font-weight: bold\">178816706</span>                                   <a href=\"file:///tmp/ipykernel_23/2556785512.py\"><span style=\"color: #7f7f7f; text-decoration-color: #7f7f7f\">2556785512.py</span></a><span style=\"color: #7f7f7f; text-decoration-color: #7f7f7f\">:</span><a href=\"file:///tmp/ipykernel_23/2556785512.py#19\"><span style=\"color: #7f7f7f; text-decoration-color: #7f7f7f\">19</span></a>\n</pre>\n"
     },
     "metadata": {}
    },
    {
     "output_type": "display_data",
     "data": {
      "text/plain": "\u001B[2;36m[19:38:14]\u001B[0m\u001B[2;36m \u001B[0m\u001B[34mINFO    \u001B[0m Running evaluator sanity check for \u001B[1;36m1\u001B[0m batches.              \u001B]8;id=948313;file:///opt/conda/lib/python3.7/site-packages/fastNLP/core/controllers/trainer.py\u001B\\\u001B[2mtrainer.py\u001B[0m\u001B]8;;\u001B\\\u001B[2m:\u001B[0m\u001B]8;id=985551;file:///opt/conda/lib/python3.7/site-packages/fastNLP/core/controllers/trainer.py#661\u001B\\\u001B[2m661\u001B[0m\u001B]8;;\u001B\\\n",
      "text/html": "<pre style=\"white-space:pre;overflow-x:auto;line-height:normal;font-family:Menlo,'DejaVu Sans Mono',consolas,'Courier New',monospace\"><span style=\"color: #7fbfbf; text-decoration-color: #7fbfbf\">[19:38:14] </span><span style=\"color: #000080; text-decoration-color: #000080\">INFO    </span> Running evaluator sanity check for <span style=\"color: #008080; text-decoration-color: #008080; font-weight: bold\">1</span> batches.              <a href=\"file:///opt/conda/lib/python3.7/site-packages/fastNLP/core/controllers/trainer.py\"><span style=\"color: #7f7f7f; text-decoration-color: #7f7f7f\">trainer.py</span></a><span style=\"color: #7f7f7f; text-decoration-color: #7f7f7f\">:</span><a href=\"file:///opt/conda/lib/python3.7/site-packages/fastNLP/core/controllers/trainer.py#661\"><span style=\"color: #7f7f7f; text-decoration-color: #7f7f7f\">661</span></a>\n</pre>\n"
     },
     "metadata": {}
    },
    {
     "output_type": "display_data",
     "data": {
      "text/plain": "Eval. on dev Batch:   0%|          | 0/1 [00:00<?, ?it/s]",
      "application/vnd.jupyter.widget-view+json": {
       "version_major": 2,
       "version_minor": 0,
       "model_id": ""
      }
     },
     "metadata": {}
    },
    {
     "output_type": "display_data",
     "data": {
      "text/plain": "Eval. on test Batch:   0%|          | 0/1 [00:00<?, ?it/s]",
      "application/vnd.jupyter.widget-view+json": {
       "version_major": 2,
       "version_minor": 0,
       "model_id": ""
      }
     },
     "metadata": {}
    },
    {
     "output_type": "display_data",
     "data": {
      "text/plain": "Epoch:0:   0%|          | [00:00<?, ?it/s, ]",
      "application/vnd.jupyter.widget-view+json": {
       "version_major": 2,
       "version_minor": 0,
       "model_id": "00781132aa9a4a4cbb4fa3765a5e6f3f"
      }
     },
     "metadata": {}
    },
    {
     "output_type": "display_data",
     "data": {
      "text/plain": "Batch:   0%|          | 0/996 [00:00<?, ?it/s]",
      "application/vnd.jupyter.widget-view+json": {
       "version_major": 2,
       "version_minor": 0,
       "model_id": ""
      }
     },
     "metadata": {}
    },
    {
     "output_type": "display_data",
     "data": {
      "text/plain": "Eval. on dev Batch:   0%|          | 0/119 [00:00<?, ?it/s]",
      "application/vnd.jupyter.widget-view+json": {
       "version_major": 2,
       "version_minor": 0,
       "model_id": ""
      }
     },
     "metadata": {}
    },
    {
     "output_type": "display_data",
     "data": {
      "text/plain": "Eval. on test Batch:   0%|          | 0/118 [00:00<?, ?it/s]",
      "application/vnd.jupyter.widget-view+json": {
       "version_major": 2,
       "version_minor": 0,
       "model_id": ""
      }
     },
     "metadata": {}
    },
    {
     "output_type": "display_data",
     "data": {
      "text/plain": "\u001B[2;36m[19:39:57]\u001B[0m\u001B[2;36m \u001B[0m\u001B[34mINFO    \u001B[0m ++++++++++Eval. results on Epoch:\u001B[1;36m1\u001B[0m,              \u001B]8;id=16738;file:///opt/conda/lib/python3.7/site-packages/fastNLP/core/callbacks/progress_callback.py\u001B\\\u001B[2mprogress_callback.py\u001B[0m\u001B]8;;\u001B\\\u001B[2m:\u001B[0m\u001B]8;id=708305;file:///opt/conda/lib/python3.7/site-packages/fastNLP/core/callbacks/progress_callback.py#322\u001B\\\u001B[2m322\u001B[0m\u001B]8;;\u001B\\\n\u001B[2;36m           \u001B[0m         Batch:\u001B[1;36m0\u001B[0m++++++++++                                \u001B[2m                        \u001B[0m\n",
      "text/html": "<pre style=\"white-space:pre;overflow-x:auto;line-height:normal;font-family:Menlo,'DejaVu Sans Mono',consolas,'Courier New',monospace\"><span style=\"color: #7fbfbf; text-decoration-color: #7fbfbf\">[19:39:57] </span><span style=\"color: #000080; text-decoration-color: #000080\">INFO    </span> ++++++++++Eval. results on Epoch:<span style=\"color: #008080; text-decoration-color: #008080; font-weight: bold\">1</span>,              <a href=\"file:///opt/conda/lib/python3.7/site-packages/fastNLP/core/callbacks/progress_callback.py\"><span style=\"color: #7f7f7f; text-decoration-color: #7f7f7f\">progress_callback.py</span></a><span style=\"color: #7f7f7f; text-decoration-color: #7f7f7f\">:</span><a href=\"file:///opt/conda/lib/python3.7/site-packages/fastNLP/core/callbacks/progress_callback.py#322\"><span style=\"color: #7f7f7f; text-decoration-color: #7f7f7f\">322</span></a>\n<span style=\"color: #7fbfbf; text-decoration-color: #7fbfbf\">           </span>         Batch:<span style=\"color: #008080; text-decoration-color: #008080; font-weight: bold\">0</span>++++++++++                                <span style=\"color: #7f7f7f; text-decoration-color: #7f7f7f\">                        </span>\n</pre>\n"
     },
     "metadata": {}
    },
    {
     "output_type": "display_data",
     "data": {
      "text/plain": "\u001B[2;36m          \u001B[0m\u001B[2;36m \u001B[0m\u001B[34mINFO    \u001B[0m \u001B[1m{\u001B[0m\u001B[32m\"f#f#dev\"\u001B[0m: \u001B[1;36m78.42\u001B[0m, \u001B[32m\"rec#f#dev\"\u001B[0m: \u001B[1;36m76.84\u001B[0m,           \u001B]8;id=67925;file:///opt/conda/lib/python3.7/site-packages/fastNLP/core/callbacks/progress_callback.py\u001B\\\u001B[2mprogress_callback.py\u001B[0m\u001B]8;;\u001B\\\u001B[2m:\u001B[0m\u001B]8;id=847191;file:///opt/conda/lib/python3.7/site-packages/fastNLP/core/callbacks/progress_callback.py#327\u001B\\\u001B[2m327\u001B[0m\u001B]8;;\u001B\\\n\u001B[2;36m           \u001B[0m         \u001B[32m\"pre#f#dev\"\u001B[0m: \u001B[1;36m80.07\u001B[0m, \u001B[32m\"f#f#test\"\u001B[0m: \u001B[1;36m75.99\u001B[0m,           \u001B[2m                        \u001B[0m\n\u001B[2;36m           \u001B[0m         \u001B[32m\"rec#f#test\"\u001B[0m: \u001B[1;36m75.19\u001B[0m, \u001B[32m\"pre#f#test\"\u001B[0m: \u001B[1;36m76.81\u001B[0m\u001B[1m}\u001B[0m        \u001B[2m                        \u001B[0m\n",
      "text/html": "<pre style=\"white-space:pre;overflow-x:auto;line-height:normal;font-family:Menlo,'DejaVu Sans Mono',consolas,'Courier New',monospace\"><span style=\"color: #7fbfbf; text-decoration-color: #7fbfbf\">           </span><span style=\"color: #000080; text-decoration-color: #000080\">INFO    </span> <span style=\"font-weight: bold\">{</span><span style=\"color: #008000; text-decoration-color: #008000\">\"f#f#dev\"</span>: <span style=\"color: #008080; text-decoration-color: #008080; font-weight: bold\">78.42</span>, <span style=\"color: #008000; text-decoration-color: #008000\">\"rec#f#dev\"</span>: <span style=\"color: #008080; text-decoration-color: #008080; font-weight: bold\">76.84</span>,           <a href=\"file:///opt/conda/lib/python3.7/site-packages/fastNLP/core/callbacks/progress_callback.py\"><span style=\"color: #7f7f7f; text-decoration-color: #7f7f7f\">progress_callback.py</span></a><span style=\"color: #7f7f7f; text-decoration-color: #7f7f7f\">:</span><a href=\"file:///opt/conda/lib/python3.7/site-packages/fastNLP/core/callbacks/progress_callback.py#327\"><span style=\"color: #7f7f7f; text-decoration-color: #7f7f7f\">327</span></a>\n<span style=\"color: #7fbfbf; text-decoration-color: #7fbfbf\">           </span>         <span style=\"color: #008000; text-decoration-color: #008000\">\"pre#f#dev\"</span>: <span style=\"color: #008080; text-decoration-color: #008080; font-weight: bold\">80.07</span>, <span style=\"color: #008000; text-decoration-color: #008000\">\"f#f#test\"</span>: <span style=\"color: #008080; text-decoration-color: #008080; font-weight: bold\">75.99</span>,           <span style=\"color: #7f7f7f; text-decoration-color: #7f7f7f\">                        </span>\n<span style=\"color: #7fbfbf; text-decoration-color: #7fbfbf\">           </span>         <span style=\"color: #008000; text-decoration-color: #008000\">\"rec#f#test\"</span>: <span style=\"color: #008080; text-decoration-color: #008080; font-weight: bold\">75.19</span>, <span style=\"color: #008000; text-decoration-color: #008000\">\"pre#f#test\"</span>: <span style=\"color: #008080; text-decoration-color: #008080; font-weight: bold\">76.81</span><span style=\"font-weight: bold\">}</span>        <span style=\"color: #7f7f7f; text-decoration-color: #7f7f7f\">                        </span>\n</pre>\n"
     },
     "metadata": {}
    },
    {
     "output_type": "display_data",
     "data": {
      "text/plain": "Eval. on dev Batch:   0%|          | 0/119 [00:00<?, ?it/s]",
      "application/vnd.jupyter.widget-view+json": {
       "version_major": 2,
       "version_minor": 0,
       "model_id": ""
      }
     },
     "metadata": {}
    },
    {
     "output_type": "display_data",
     "data": {
      "text/plain": "Eval. on test Batch:   0%|          | 0/118 [00:00<?, ?it/s]",
      "application/vnd.jupyter.widget-view+json": {
       "version_major": 2,
       "version_minor": 0,
       "model_id": ""
      }
     },
     "metadata": {}
    },
    {
     "output_type": "display_data",
     "data": {
      "text/plain": "\u001B[2;36m[19:41:39]\u001B[0m\u001B[2;36m \u001B[0m\u001B[34mINFO    \u001B[0m ++++++++++Eval. results on Epoch:\u001B[1;36m2\u001B[0m,              \u001B]8;id=346786;file:///opt/conda/lib/python3.7/site-packages/fastNLP/core/callbacks/progress_callback.py\u001B\\\u001B[2mprogress_callback.py\u001B[0m\u001B]8;;\u001B\\\u001B[2m:\u001B[0m\u001B]8;id=281832;file:///opt/conda/lib/python3.7/site-packages/fastNLP/core/callbacks/progress_callback.py#322\u001B\\\u001B[2m322\u001B[0m\u001B]8;;\u001B\\\n\u001B[2;36m           \u001B[0m         Batch:\u001B[1;36m0\u001B[0m++++++++++                                \u001B[2m                        \u001B[0m\n",
      "text/html": "<pre style=\"white-space:pre;overflow-x:auto;line-height:normal;font-family:Menlo,'DejaVu Sans Mono',consolas,'Courier New',monospace\"><span style=\"color: #7fbfbf; text-decoration-color: #7fbfbf\">[19:41:39] </span><span style=\"color: #000080; text-decoration-color: #000080\">INFO    </span> ++++++++++Eval. results on Epoch:<span style=\"color: #008080; text-decoration-color: #008080; font-weight: bold\">2</span>,              <a href=\"file:///opt/conda/lib/python3.7/site-packages/fastNLP/core/callbacks/progress_callback.py\"><span style=\"color: #7f7f7f; text-decoration-color: #7f7f7f\">progress_callback.py</span></a><span style=\"color: #7f7f7f; text-decoration-color: #7f7f7f\">:</span><a href=\"file:///opt/conda/lib/python3.7/site-packages/fastNLP/core/callbacks/progress_callback.py#322\"><span style=\"color: #7f7f7f; text-decoration-color: #7f7f7f\">322</span></a>\n<span style=\"color: #7fbfbf; text-decoration-color: #7fbfbf\">           </span>         Batch:<span style=\"color: #008080; text-decoration-color: #008080; font-weight: bold\">0</span>++++++++++                                <span style=\"color: #7f7f7f; text-decoration-color: #7f7f7f\">                        </span>\n</pre>\n"
     },
     "metadata": {}
    },
    {
     "output_type": "display_data",
     "data": {
      "text/plain": "\u001B[2;36m          \u001B[0m\u001B[2;36m \u001B[0m\u001B[34mINFO    \u001B[0m \u001B[1m{\u001B[0m\u001B[32m\"f#f#dev\"\u001B[0m: \u001B[1;36m86.63\u001B[0m, \u001B[32m\"rec#f#dev\"\u001B[0m: \u001B[1;36m83.27\u001B[0m,           \u001B]8;id=773542;file:///opt/conda/lib/python3.7/site-packages/fastNLP/core/callbacks/progress_callback.py\u001B\\\u001B[2mprogress_callback.py\u001B[0m\u001B]8;;\u001B\\\u001B[2m:\u001B[0m\u001B]8;id=178527;file:///opt/conda/lib/python3.7/site-packages/fastNLP/core/callbacks/progress_callback.py#327\u001B\\\u001B[2m327\u001B[0m\u001B]8;;\u001B\\\n\u001B[2;36m           \u001B[0m         \u001B[32m\"pre#f#dev\"\u001B[0m: \u001B[1;36m90.28\u001B[0m, \u001B[32m\"f#f#test\"\u001B[0m: \u001B[1;36m85.75\u001B[0m,           \u001B[2m                        \u001B[0m\n\u001B[2;36m           \u001B[0m         \u001B[32m\"rec#f#test\"\u001B[0m: \u001B[1;36m83.82\u001B[0m, \u001B[32m\"pre#f#test\"\u001B[0m: \u001B[1;36m87.77\u001B[0m\u001B[1m}\u001B[0m        \u001B[2m                        \u001B[0m\n",
      "text/html": "<pre style=\"white-space:pre;overflow-x:auto;line-height:normal;font-family:Menlo,'DejaVu Sans Mono',consolas,'Courier New',monospace\"><span style=\"color: #7fbfbf; text-decoration-color: #7fbfbf\">           </span><span style=\"color: #000080; text-decoration-color: #000080\">INFO    </span> <span style=\"font-weight: bold\">{</span><span style=\"color: #008000; text-decoration-color: #008000\">\"f#f#dev\"</span>: <span style=\"color: #008080; text-decoration-color: #008080; font-weight: bold\">86.63</span>, <span style=\"color: #008000; text-decoration-color: #008000\">\"rec#f#dev\"</span>: <span style=\"color: #008080; text-decoration-color: #008080; font-weight: bold\">83.27</span>,           <a href=\"file:///opt/conda/lib/python3.7/site-packages/fastNLP/core/callbacks/progress_callback.py\"><span style=\"color: #7f7f7f; text-decoration-color: #7f7f7f\">progress_callback.py</span></a><span style=\"color: #7f7f7f; text-decoration-color: #7f7f7f\">:</span><a href=\"file:///opt/conda/lib/python3.7/site-packages/fastNLP/core/callbacks/progress_callback.py#327\"><span style=\"color: #7f7f7f; text-decoration-color: #7f7f7f\">327</span></a>\n<span style=\"color: #7fbfbf; text-decoration-color: #7fbfbf\">           </span>         <span style=\"color: #008000; text-decoration-color: #008000\">\"pre#f#dev\"</span>: <span style=\"color: #008080; text-decoration-color: #008080; font-weight: bold\">90.28</span>, <span style=\"color: #008000; text-decoration-color: #008000\">\"f#f#test\"</span>: <span style=\"color: #008080; text-decoration-color: #008080; font-weight: bold\">85.75</span>,           <span style=\"color: #7f7f7f; text-decoration-color: #7f7f7f\">                        </span>\n<span style=\"color: #7fbfbf; text-decoration-color: #7fbfbf\">           </span>         <span style=\"color: #008000; text-decoration-color: #008000\">\"rec#f#test\"</span>: <span style=\"color: #008080; text-decoration-color: #008080; font-weight: bold\">83.82</span>, <span style=\"color: #008000; text-decoration-color: #008000\">\"pre#f#test\"</span>: <span style=\"color: #008080; text-decoration-color: #008080; font-weight: bold\">87.77</span><span style=\"font-weight: bold\">}</span>        <span style=\"color: #7f7f7f; text-decoration-color: #7f7f7f\">                        </span>\n</pre>\n"
     },
     "metadata": {}
    },
    {
     "output_type": "display_data",
     "data": {
      "text/plain": "Eval. on dev Batch:   0%|          | 0/119 [00:00<?, ?it/s]",
      "application/vnd.jupyter.widget-view+json": {
       "version_major": 2,
       "version_minor": 0,
       "model_id": ""
      }
     },
     "metadata": {}
    },
    {
     "output_type": "display_data",
     "data": {
      "text/plain": "Eval. on test Batch:   0%|          | 0/118 [00:00<?, ?it/s]",
      "application/vnd.jupyter.widget-view+json": {
       "version_major": 2,
       "version_minor": 0,
       "model_id": ""
      }
     },
     "metadata": {}
    },
    {
     "output_type": "display_data",
     "data": {
      "text/plain": "\u001B[2;36m[19:43:21]\u001B[0m\u001B[2;36m \u001B[0m\u001B[34mINFO    \u001B[0m ++++++++++Eval. results on Epoch:\u001B[1;36m3\u001B[0m,              \u001B]8;id=64750;file:///opt/conda/lib/python3.7/site-packages/fastNLP/core/callbacks/progress_callback.py\u001B\\\u001B[2mprogress_callback.py\u001B[0m\u001B]8;;\u001B\\\u001B[2m:\u001B[0m\u001B]8;id=128907;file:///opt/conda/lib/python3.7/site-packages/fastNLP/core/callbacks/progress_callback.py#322\u001B\\\u001B[2m322\u001B[0m\u001B]8;;\u001B\\\n\u001B[2;36m           \u001B[0m         Batch:\u001B[1;36m0\u001B[0m++++++++++                                \u001B[2m                        \u001B[0m\n",
      "text/html": "<pre style=\"white-space:pre;overflow-x:auto;line-height:normal;font-family:Menlo,'DejaVu Sans Mono',consolas,'Courier New',monospace\"><span style=\"color: #7fbfbf; text-decoration-color: #7fbfbf\">[19:43:21] </span><span style=\"color: #000080; text-decoration-color: #000080\">INFO    </span> ++++++++++Eval. results on Epoch:<span style=\"color: #008080; text-decoration-color: #008080; font-weight: bold\">3</span>,              <a href=\"file:///opt/conda/lib/python3.7/site-packages/fastNLP/core/callbacks/progress_callback.py\"><span style=\"color: #7f7f7f; text-decoration-color: #7f7f7f\">progress_callback.py</span></a><span style=\"color: #7f7f7f; text-decoration-color: #7f7f7f\">:</span><a href=\"file:///opt/conda/lib/python3.7/site-packages/fastNLP/core/callbacks/progress_callback.py#322\"><span style=\"color: #7f7f7f; text-decoration-color: #7f7f7f\">322</span></a>\n<span style=\"color: #7fbfbf; text-decoration-color: #7fbfbf\">           </span>         Batch:<span style=\"color: #008080; text-decoration-color: #008080; font-weight: bold\">0</span>++++++++++                                <span style=\"color: #7f7f7f; text-decoration-color: #7f7f7f\">                        </span>\n</pre>\n"
     },
     "metadata": {}
    },
    {
     "output_type": "display_data",
     "data": {
      "text/plain": "\u001B[2;36m          \u001B[0m\u001B[2;36m \u001B[0m\u001B[34mINFO    \u001B[0m \u001B[1m{\u001B[0m\u001B[32m\"f#f#dev\"\u001B[0m: \u001B[1;36m87.07\u001B[0m, \u001B[32m\"rec#f#dev\"\u001B[0m: \u001B[1;36m89.53\u001B[0m,           \u001B]8;id=764633;file:///opt/conda/lib/python3.7/site-packages/fastNLP/core/callbacks/progress_callback.py\u001B\\\u001B[2mprogress_callback.py\u001B[0m\u001B]8;;\u001B\\\u001B[2m:\u001B[0m\u001B]8;id=695668;file:///opt/conda/lib/python3.7/site-packages/fastNLP/core/callbacks/progress_callback.py#327\u001B\\\u001B[2m327\u001B[0m\u001B]8;;\u001B\\\n\u001B[2;36m           \u001B[0m         \u001B[32m\"pre#f#dev\"\u001B[0m: \u001B[1;36m84.74\u001B[0m, \u001B[32m\"f#f#test\"\u001B[0m: \u001B[1;36m86.91\u001B[0m,           \u001B[2m                        \u001B[0m\n\u001B[2;36m           \u001B[0m         \u001B[32m\"rec#f#test\"\u001B[0m: \u001B[1;36m90.89\u001B[0m, \u001B[32m\"pre#f#test\"\u001B[0m: \u001B[1;36m83.27\u001B[0m\u001B[1m}\u001B[0m        \u001B[2m                        \u001B[0m\n",
      "text/html": "<pre style=\"white-space:pre;overflow-x:auto;line-height:normal;font-family:Menlo,'DejaVu Sans Mono',consolas,'Courier New',monospace\"><span style=\"color: #7fbfbf; text-decoration-color: #7fbfbf\">           </span><span style=\"color: #000080; text-decoration-color: #000080\">INFO    </span> <span style=\"font-weight: bold\">{</span><span style=\"color: #008000; text-decoration-color: #008000\">\"f#f#dev\"</span>: <span style=\"color: #008080; text-decoration-color: #008080; font-weight: bold\">87.07</span>, <span style=\"color: #008000; text-decoration-color: #008000\">\"rec#f#dev\"</span>: <span style=\"color: #008080; text-decoration-color: #008080; font-weight: bold\">89.53</span>,           <a href=\"file:///opt/conda/lib/python3.7/site-packages/fastNLP/core/callbacks/progress_callback.py\"><span style=\"color: #7f7f7f; text-decoration-color: #7f7f7f\">progress_callback.py</span></a><span style=\"color: #7f7f7f; text-decoration-color: #7f7f7f\">:</span><a href=\"file:///opt/conda/lib/python3.7/site-packages/fastNLP/core/callbacks/progress_callback.py#327\"><span style=\"color: #7f7f7f; text-decoration-color: #7f7f7f\">327</span></a>\n<span style=\"color: #7fbfbf; text-decoration-color: #7fbfbf\">           </span>         <span style=\"color: #008000; text-decoration-color: #008000\">\"pre#f#dev\"</span>: <span style=\"color: #008080; text-decoration-color: #008080; font-weight: bold\">84.74</span>, <span style=\"color: #008000; text-decoration-color: #008000\">\"f#f#test\"</span>: <span style=\"color: #008080; text-decoration-color: #008080; font-weight: bold\">86.91</span>,           <span style=\"color: #7f7f7f; text-decoration-color: #7f7f7f\">                        </span>\n<span style=\"color: #7fbfbf; text-decoration-color: #7fbfbf\">           </span>         <span style=\"color: #008000; text-decoration-color: #008000\">\"rec#f#test\"</span>: <span style=\"color: #008080; text-decoration-color: #008080; font-weight: bold\">90.89</span>, <span style=\"color: #008000; text-decoration-color: #008000\">\"pre#f#test\"</span>: <span style=\"color: #008080; text-decoration-color: #008080; font-weight: bold\">83.27</span><span style=\"font-weight: bold\">}</span>        <span style=\"color: #7f7f7f; text-decoration-color: #7f7f7f\">                        </span>\n</pre>\n"
     },
     "metadata": {}
    },
    {
     "output_type": "display_data",
     "data": {
      "text/plain": "Eval. on dev Batch:   0%|          | 0/119 [00:00<?, ?it/s]",
      "application/vnd.jupyter.widget-view+json": {
       "version_major": 2,
       "version_minor": 0,
       "model_id": ""
      }
     },
     "metadata": {}
    },
    {
     "output_type": "display_data",
     "data": {
      "text/plain": "Eval. on test Batch:   0%|          | 0/118 [00:00<?, ?it/s]",
      "application/vnd.jupyter.widget-view+json": {
       "version_major": 2,
       "version_minor": 0,
       "model_id": ""
      }
     },
     "metadata": {}
    },
    {
     "output_type": "display_data",
     "data": {
      "text/plain": "\u001B[2;36m[19:45:02]\u001B[0m\u001B[2;36m \u001B[0m\u001B[34mINFO    \u001B[0m ++++++++++Eval. results on Epoch:\u001B[1;36m4\u001B[0m,              \u001B]8;id=561517;file:///opt/conda/lib/python3.7/site-packages/fastNLP/core/callbacks/progress_callback.py\u001B\\\u001B[2mprogress_callback.py\u001B[0m\u001B]8;;\u001B\\\u001B[2m:\u001B[0m\u001B]8;id=740827;file:///opt/conda/lib/python3.7/site-packages/fastNLP/core/callbacks/progress_callback.py#322\u001B\\\u001B[2m322\u001B[0m\u001B]8;;\u001B\\\n\u001B[2;36m           \u001B[0m         Batch:\u001B[1;36m0\u001B[0m++++++++++                                \u001B[2m                        \u001B[0m\n",
      "text/html": "<pre style=\"white-space:pre;overflow-x:auto;line-height:normal;font-family:Menlo,'DejaVu Sans Mono',consolas,'Courier New',monospace\"><span style=\"color: #7fbfbf; text-decoration-color: #7fbfbf\">[19:45:02] </span><span style=\"color: #000080; text-decoration-color: #000080\">INFO    </span> ++++++++++Eval. results on Epoch:<span style=\"color: #008080; text-decoration-color: #008080; font-weight: bold\">4</span>,              <a href=\"file:///opt/conda/lib/python3.7/site-packages/fastNLP/core/callbacks/progress_callback.py\"><span style=\"color: #7f7f7f; text-decoration-color: #7f7f7f\">progress_callback.py</span></a><span style=\"color: #7f7f7f; text-decoration-color: #7f7f7f\">:</span><a href=\"file:///opt/conda/lib/python3.7/site-packages/fastNLP/core/callbacks/progress_callback.py#322\"><span style=\"color: #7f7f7f; text-decoration-color: #7f7f7f\">322</span></a>\n<span style=\"color: #7fbfbf; text-decoration-color: #7fbfbf\">           </span>         Batch:<span style=\"color: #008080; text-decoration-color: #008080; font-weight: bold\">0</span>++++++++++                                <span style=\"color: #7f7f7f; text-decoration-color: #7f7f7f\">                        </span>\n</pre>\n"
     },
     "metadata": {}
    },
    {
     "output_type": "display_data",
     "data": {
      "text/plain": "\u001B[2;36m          \u001B[0m\u001B[2;36m \u001B[0m\u001B[34mINFO    \u001B[0m \u001B[1m{\u001B[0m\u001B[32m\"f#f#dev\"\u001B[0m: \u001B[1;36m88.59\u001B[0m, \u001B[32m\"rec#f#dev\"\u001B[0m: \u001B[1;36m89.24\u001B[0m,           \u001B]8;id=316167;file:///opt/conda/lib/python3.7/site-packages/fastNLP/core/callbacks/progress_callback.py\u001B\\\u001B[2mprogress_callback.py\u001B[0m\u001B]8;;\u001B\\\u001B[2m:\u001B[0m\u001B]8;id=373248;file:///opt/conda/lib/python3.7/site-packages/fastNLP/core/callbacks/progress_callback.py#327\u001B\\\u001B[2m327\u001B[0m\u001B]8;;\u001B\\\n\u001B[2;36m           \u001B[0m         \u001B[32m\"pre#f#dev\"\u001B[0m: \u001B[1;36m87.95\u001B[0m, \u001B[32m\"f#f#test\"\u001B[0m: \u001B[1;36m88.36\u001B[0m,           \u001B[2m                        \u001B[0m\n\u001B[2;36m           \u001B[0m         \u001B[32m\"rec#f#test\"\u001B[0m: \u001B[1;36m89.69\u001B[0m, \u001B[32m\"pre#f#test\"\u001B[0m: \u001B[1;36m87.06\u001B[0m\u001B[1m}\u001B[0m        \u001B[2m                        \u001B[0m\n",
      "text/html": "<pre style=\"white-space:pre;overflow-x:auto;line-height:normal;font-family:Menlo,'DejaVu Sans Mono',consolas,'Courier New',monospace\"><span style=\"color: #7fbfbf; text-decoration-color: #7fbfbf\">           </span><span style=\"color: #000080; text-decoration-color: #000080\">INFO    </span> <span style=\"font-weight: bold\">{</span><span style=\"color: #008000; text-decoration-color: #008000\">\"f#f#dev\"</span>: <span style=\"color: #008080; text-decoration-color: #008080; font-weight: bold\">88.59</span>, <span style=\"color: #008000; text-decoration-color: #008000\">\"rec#f#dev\"</span>: <span style=\"color: #008080; text-decoration-color: #008080; font-weight: bold\">89.24</span>,           <a href=\"file:///opt/conda/lib/python3.7/site-packages/fastNLP/core/callbacks/progress_callback.py\"><span style=\"color: #7f7f7f; text-decoration-color: #7f7f7f\">progress_callback.py</span></a><span style=\"color: #7f7f7f; text-decoration-color: #7f7f7f\">:</span><a href=\"file:///opt/conda/lib/python3.7/site-packages/fastNLP/core/callbacks/progress_callback.py#327\"><span style=\"color: #7f7f7f; text-decoration-color: #7f7f7f\">327</span></a>\n<span style=\"color: #7fbfbf; text-decoration-color: #7fbfbf\">           </span>         <span style=\"color: #008000; text-decoration-color: #008000\">\"pre#f#dev\"</span>: <span style=\"color: #008080; text-decoration-color: #008080; font-weight: bold\">87.95</span>, <span style=\"color: #008000; text-decoration-color: #008000\">\"f#f#test\"</span>: <span style=\"color: #008080; text-decoration-color: #008080; font-weight: bold\">88.36</span>,           <span style=\"color: #7f7f7f; text-decoration-color: #7f7f7f\">                        </span>\n<span style=\"color: #7fbfbf; text-decoration-color: #7fbfbf\">           </span>         <span style=\"color: #008000; text-decoration-color: #008000\">\"rec#f#test\"</span>: <span style=\"color: #008080; text-decoration-color: #008080; font-weight: bold\">89.69</span>, <span style=\"color: #008000; text-decoration-color: #008000\">\"pre#f#test\"</span>: <span style=\"color: #008080; text-decoration-color: #008080; font-weight: bold\">87.06</span><span style=\"font-weight: bold\">}</span>        <span style=\"color: #7f7f7f; text-decoration-color: #7f7f7f\">                        </span>\n</pre>\n"
     },
     "metadata": {}
    },
    {
     "output_type": "display_data",
     "data": {
      "text/plain": "Eval. on dev Batch:   0%|          | 0/119 [00:00<?, ?it/s]",
      "application/vnd.jupyter.widget-view+json": {
       "version_major": 2,
       "version_minor": 0,
       "model_id": ""
      }
     },
     "metadata": {}
    },
    {
     "output_type": "display_data",
     "data": {
      "text/plain": "Eval. on test Batch:   0%|          | 0/118 [00:00<?, ?it/s]",
      "application/vnd.jupyter.widget-view+json": {
       "version_major": 2,
       "version_minor": 0,
       "model_id": ""
      }
     },
     "metadata": {}
    },
    {
     "output_type": "display_data",
     "data": {
      "text/plain": "\u001B[2;36m[19:46:43]\u001B[0m\u001B[2;36m \u001B[0m\u001B[34mINFO    \u001B[0m ++++++++++Eval. results on Epoch:\u001B[1;36m5\u001B[0m,              \u001B]8;id=356073;file:///opt/conda/lib/python3.7/site-packages/fastNLP/core/callbacks/progress_callback.py\u001B\\\u001B[2mprogress_callback.py\u001B[0m\u001B]8;;\u001B\\\u001B[2m:\u001B[0m\u001B]8;id=356390;file:///opt/conda/lib/python3.7/site-packages/fastNLP/core/callbacks/progress_callback.py#322\u001B\\\u001B[2m322\u001B[0m\u001B]8;;\u001B\\\n\u001B[2;36m           \u001B[0m         Batch:\u001B[1;36m0\u001B[0m++++++++++                                \u001B[2m                        \u001B[0m\n",
      "text/html": "<pre style=\"white-space:pre;overflow-x:auto;line-height:normal;font-family:Menlo,'DejaVu Sans Mono',consolas,'Courier New',monospace\"><span style=\"color: #7fbfbf; text-decoration-color: #7fbfbf\">[19:46:43] </span><span style=\"color: #000080; text-decoration-color: #000080\">INFO    </span> ++++++++++Eval. results on Epoch:<span style=\"color: #008080; text-decoration-color: #008080; font-weight: bold\">5</span>,              <a href=\"file:///opt/conda/lib/python3.7/site-packages/fastNLP/core/callbacks/progress_callback.py\"><span style=\"color: #7f7f7f; text-decoration-color: #7f7f7f\">progress_callback.py</span></a><span style=\"color: #7f7f7f; text-decoration-color: #7f7f7f\">:</span><a href=\"file:///opt/conda/lib/python3.7/site-packages/fastNLP/core/callbacks/progress_callback.py#322\"><span style=\"color: #7f7f7f; text-decoration-color: #7f7f7f\">322</span></a>\n<span style=\"color: #7fbfbf; text-decoration-color: #7fbfbf\">           </span>         Batch:<span style=\"color: #008080; text-decoration-color: #008080; font-weight: bold\">0</span>++++++++++                                <span style=\"color: #7f7f7f; text-decoration-color: #7f7f7f\">                        </span>\n</pre>\n"
     },
     "metadata": {}
    },
    {
     "output_type": "display_data",
     "data": {
      "text/plain": "\u001B[2;36m          \u001B[0m\u001B[2;36m \u001B[0m\u001B[34mINFO    \u001B[0m \u001B[1m{\u001B[0m\u001B[32m\"f#f#dev\"\u001B[0m: \u001B[1;36m89.19\u001B[0m, \u001B[32m\"rec#f#dev\"\u001B[0m: \u001B[1;36m90.45\u001B[0m,           \u001B]8;id=812119;file:///opt/conda/lib/python3.7/site-packages/fastNLP/core/callbacks/progress_callback.py\u001B\\\u001B[2mprogress_callback.py\u001B[0m\u001B]8;;\u001B\\\u001B[2m:\u001B[0m\u001B]8;id=617836;file:///opt/conda/lib/python3.7/site-packages/fastNLP/core/callbacks/progress_callback.py#327\u001B\\\u001B[2m327\u001B[0m\u001B]8;;\u001B\\\n\u001B[2;36m           \u001B[0m         \u001B[32m\"pre#f#dev\"\u001B[0m: \u001B[1;36m87.97\u001B[0m, \u001B[32m\"f#f#test\"\u001B[0m: \u001B[1;36m88.51\u001B[0m,           \u001B[2m                        \u001B[0m\n\u001B[2;36m           \u001B[0m         \u001B[32m\"rec#f#test\"\u001B[0m: \u001B[1;36m90.63\u001B[0m, \u001B[32m\"pre#f#test\"\u001B[0m: \u001B[1;36m86.49\u001B[0m\u001B[1m}\u001B[0m        \u001B[2m                        \u001B[0m\n",
      "text/html": "<pre style=\"white-space:pre;overflow-x:auto;line-height:normal;font-family:Menlo,'DejaVu Sans Mono',consolas,'Courier New',monospace\"><span style=\"color: #7fbfbf; text-decoration-color: #7fbfbf\">           </span><span style=\"color: #000080; text-decoration-color: #000080\">INFO    </span> <span style=\"font-weight: bold\">{</span><span style=\"color: #008000; text-decoration-color: #008000\">\"f#f#dev\"</span>: <span style=\"color: #008080; text-decoration-color: #008080; font-weight: bold\">89.19</span>, <span style=\"color: #008000; text-decoration-color: #008000\">\"rec#f#dev\"</span>: <span style=\"color: #008080; text-decoration-color: #008080; font-weight: bold\">90.45</span>,           <a href=\"file:///opt/conda/lib/python3.7/site-packages/fastNLP/core/callbacks/progress_callback.py\"><span style=\"color: #7f7f7f; text-decoration-color: #7f7f7f\">progress_callback.py</span></a><span style=\"color: #7f7f7f; text-decoration-color: #7f7f7f\">:</span><a href=\"file:///opt/conda/lib/python3.7/site-packages/fastNLP/core/callbacks/progress_callback.py#327\"><span style=\"color: #7f7f7f; text-decoration-color: #7f7f7f\">327</span></a>\n<span style=\"color: #7fbfbf; text-decoration-color: #7fbfbf\">           </span>         <span style=\"color: #008000; text-decoration-color: #008000\">\"pre#f#dev\"</span>: <span style=\"color: #008080; text-decoration-color: #008080; font-weight: bold\">87.97</span>, <span style=\"color: #008000; text-decoration-color: #008000\">\"f#f#test\"</span>: <span style=\"color: #008080; text-decoration-color: #008080; font-weight: bold\">88.51</span>,           <span style=\"color: #7f7f7f; text-decoration-color: #7f7f7f\">                        </span>\n<span style=\"color: #7fbfbf; text-decoration-color: #7fbfbf\">           </span>         <span style=\"color: #008000; text-decoration-color: #008000\">\"rec#f#test\"</span>: <span style=\"color: #008080; text-decoration-color: #008080; font-weight: bold\">90.63</span>, <span style=\"color: #008000; text-decoration-color: #008000\">\"pre#f#test\"</span>: <span style=\"color: #008080; text-decoration-color: #008080; font-weight: bold\">86.49</span><span style=\"font-weight: bold\">}</span>        <span style=\"color: #7f7f7f; text-decoration-color: #7f7f7f\">                        </span>\n</pre>\n"
     },
     "metadata": {}
    },
    {
     "output_type": "display_data",
     "data": {
      "text/plain": "Eval. on dev Batch:   0%|          | 0/119 [00:00<?, ?it/s]",
      "application/vnd.jupyter.widget-view+json": {
       "version_major": 2,
       "version_minor": 0,
       "model_id": ""
      }
     },
     "metadata": {}
    },
    {
     "output_type": "display_data",
     "data": {
      "text/plain": "Eval. on test Batch:   0%|          | 0/118 [00:00<?, ?it/s]",
      "application/vnd.jupyter.widget-view+json": {
       "version_major": 2,
       "version_minor": 0,
       "model_id": ""
      }
     },
     "metadata": {}
    },
    {
     "output_type": "display_data",
     "data": {
      "text/plain": "\u001B[2;36m[19:48:24]\u001B[0m\u001B[2;36m \u001B[0m\u001B[34mINFO    \u001B[0m ++++++++++Eval. results on Epoch:\u001B[1;36m6\u001B[0m,              \u001B]8;id=666818;file:///opt/conda/lib/python3.7/site-packages/fastNLP/core/callbacks/progress_callback.py\u001B\\\u001B[2mprogress_callback.py\u001B[0m\u001B]8;;\u001B\\\u001B[2m:\u001B[0m\u001B]8;id=629645;file:///opt/conda/lib/python3.7/site-packages/fastNLP/core/callbacks/progress_callback.py#322\u001B\\\u001B[2m322\u001B[0m\u001B]8;;\u001B\\\n\u001B[2;36m           \u001B[0m         Batch:\u001B[1;36m0\u001B[0m++++++++++                                \u001B[2m                        \u001B[0m\n",
      "text/html": "<pre style=\"white-space:pre;overflow-x:auto;line-height:normal;font-family:Menlo,'DejaVu Sans Mono',consolas,'Courier New',monospace\"><span style=\"color: #7fbfbf; text-decoration-color: #7fbfbf\">[19:48:24] </span><span style=\"color: #000080; text-decoration-color: #000080\">INFO    </span> ++++++++++Eval. results on Epoch:<span style=\"color: #008080; text-decoration-color: #008080; font-weight: bold\">6</span>,              <a href=\"file:///opt/conda/lib/python3.7/site-packages/fastNLP/core/callbacks/progress_callback.py\"><span style=\"color: #7f7f7f; text-decoration-color: #7f7f7f\">progress_callback.py</span></a><span style=\"color: #7f7f7f; text-decoration-color: #7f7f7f\">:</span><a href=\"file:///opt/conda/lib/python3.7/site-packages/fastNLP/core/callbacks/progress_callback.py#322\"><span style=\"color: #7f7f7f; text-decoration-color: #7f7f7f\">322</span></a>\n<span style=\"color: #7fbfbf; text-decoration-color: #7fbfbf\">           </span>         Batch:<span style=\"color: #008080; text-decoration-color: #008080; font-weight: bold\">0</span>++++++++++                                <span style=\"color: #7f7f7f; text-decoration-color: #7f7f7f\">                        </span>\n</pre>\n"
     },
     "metadata": {}
    },
    {
     "output_type": "display_data",
     "data": {
      "text/plain": "\u001B[2;36m          \u001B[0m\u001B[2;36m \u001B[0m\u001B[34mINFO    \u001B[0m \u001B[1m{\u001B[0m\u001B[32m\"f#f#dev\"\u001B[0m: \u001B[1;36m89.37\u001B[0m, \u001B[32m\"rec#f#dev\"\u001B[0m: \u001B[1;36m89.73\u001B[0m,           \u001B]8;id=903580;file:///opt/conda/lib/python3.7/site-packages/fastNLP/core/callbacks/progress_callback.py\u001B\\\u001B[2mprogress_callback.py\u001B[0m\u001B]8;;\u001B\\\u001B[2m:\u001B[0m\u001B]8;id=256487;file:///opt/conda/lib/python3.7/site-packages/fastNLP/core/callbacks/progress_callback.py#327\u001B\\\u001B[2m327\u001B[0m\u001B]8;;\u001B\\\n\u001B[2;36m           \u001B[0m         \u001B[32m\"pre#f#dev\"\u001B[0m: \u001B[1;36m89.01\u001B[0m, \u001B[32m\"f#f#test\"\u001B[0m: \u001B[1;36m89.33\u001B[0m,           \u001B[2m                        \u001B[0m\n\u001B[2;36m           \u001B[0m         \u001B[32m\"rec#f#test\"\u001B[0m: \u001B[1;36m90.49\u001B[0m, \u001B[32m\"pre#f#test\"\u001B[0m: \u001B[1;36m88.2\u001B[0m\u001B[1m}\u001B[0m         \u001B[2m                        \u001B[0m\n",
      "text/html": "<pre style=\"white-space:pre;overflow-x:auto;line-height:normal;font-family:Menlo,'DejaVu Sans Mono',consolas,'Courier New',monospace\"><span style=\"color: #7fbfbf; text-decoration-color: #7fbfbf\">           </span><span style=\"color: #000080; text-decoration-color: #000080\">INFO    </span> <span style=\"font-weight: bold\">{</span><span style=\"color: #008000; text-decoration-color: #008000\">\"f#f#dev\"</span>: <span style=\"color: #008080; text-decoration-color: #008080; font-weight: bold\">89.37</span>, <span style=\"color: #008000; text-decoration-color: #008000\">\"rec#f#dev\"</span>: <span style=\"color: #008080; text-decoration-color: #008080; font-weight: bold\">89.73</span>,           <a href=\"file:///opt/conda/lib/python3.7/site-packages/fastNLP/core/callbacks/progress_callback.py\"><span style=\"color: #7f7f7f; text-decoration-color: #7f7f7f\">progress_callback.py</span></a><span style=\"color: #7f7f7f; text-decoration-color: #7f7f7f\">:</span><a href=\"file:///opt/conda/lib/python3.7/site-packages/fastNLP/core/callbacks/progress_callback.py#327\"><span style=\"color: #7f7f7f; text-decoration-color: #7f7f7f\">327</span></a>\n<span style=\"color: #7fbfbf; text-decoration-color: #7fbfbf\">           </span>         <span style=\"color: #008000; text-decoration-color: #008000\">\"pre#f#dev\"</span>: <span style=\"color: #008080; text-decoration-color: #008080; font-weight: bold\">89.01</span>, <span style=\"color: #008000; text-decoration-color: #008000\">\"f#f#test\"</span>: <span style=\"color: #008080; text-decoration-color: #008080; font-weight: bold\">89.33</span>,           <span style=\"color: #7f7f7f; text-decoration-color: #7f7f7f\">                        </span>\n<span style=\"color: #7fbfbf; text-decoration-color: #7fbfbf\">           </span>         <span style=\"color: #008000; text-decoration-color: #008000\">\"rec#f#test\"</span>: <span style=\"color: #008080; text-decoration-color: #008080; font-weight: bold\">90.49</span>, <span style=\"color: #008000; text-decoration-color: #008000\">\"pre#f#test\"</span>: <span style=\"color: #008080; text-decoration-color: #008080; font-weight: bold\">88.2</span><span style=\"font-weight: bold\">}</span>         <span style=\"color: #7f7f7f; text-decoration-color: #7f7f7f\">                        </span>\n</pre>\n"
     },
     "metadata": {}
    },
    {
     "output_type": "display_data",
     "data": {
      "text/plain": "Eval. on dev Batch:   0%|          | 0/119 [00:00<?, ?it/s]",
      "application/vnd.jupyter.widget-view+json": {
       "version_major": 2,
       "version_minor": 0,
       "model_id": ""
      }
     },
     "metadata": {}
    },
    {
     "output_type": "display_data",
     "data": {
      "text/plain": "Eval. on test Batch:   0%|          | 0/118 [00:00<?, ?it/s]",
      "application/vnd.jupyter.widget-view+json": {
       "version_major": 2,
       "version_minor": 0,
       "model_id": ""
      }
     },
     "metadata": {}
    },
    {
     "output_type": "display_data",
     "data": {
      "text/plain": "\u001B[2;36m[19:50:06]\u001B[0m\u001B[2;36m \u001B[0m\u001B[34mINFO    \u001B[0m ----------Eval. results on Epoch:\u001B[1;36m7\u001B[0m,              \u001B]8;id=729842;file:///opt/conda/lib/python3.7/site-packages/fastNLP/core/callbacks/progress_callback.py\u001B\\\u001B[2mprogress_callback.py\u001B[0m\u001B]8;;\u001B\\\u001B[2m:\u001B[0m\u001B]8;id=108092;file:///opt/conda/lib/python3.7/site-packages/fastNLP/core/callbacks/progress_callback.py#322\u001B\\\u001B[2m322\u001B[0m\u001B]8;;\u001B\\\n\u001B[2;36m           \u001B[0m         Batch:\u001B[1;36m0\u001B[0m----------                                \u001B[2m                        \u001B[0m\n",
      "text/html": "<pre style=\"white-space:pre;overflow-x:auto;line-height:normal;font-family:Menlo,'DejaVu Sans Mono',consolas,'Courier New',monospace\"><span style=\"color: #7fbfbf; text-decoration-color: #7fbfbf\">[19:50:06] </span><span style=\"color: #000080; text-decoration-color: #000080\">INFO    </span> ----------Eval. results on Epoch:<span style=\"color: #008080; text-decoration-color: #008080; font-weight: bold\">7</span>,              <a href=\"file:///opt/conda/lib/python3.7/site-packages/fastNLP/core/callbacks/progress_callback.py\"><span style=\"color: #7f7f7f; text-decoration-color: #7f7f7f\">progress_callback.py</span></a><span style=\"color: #7f7f7f; text-decoration-color: #7f7f7f\">:</span><a href=\"file:///opt/conda/lib/python3.7/site-packages/fastNLP/core/callbacks/progress_callback.py#322\"><span style=\"color: #7f7f7f; text-decoration-color: #7f7f7f\">322</span></a>\n<span style=\"color: #7fbfbf; text-decoration-color: #7fbfbf\">           </span>         Batch:<span style=\"color: #008080; text-decoration-color: #008080; font-weight: bold\">0</span>----------                                <span style=\"color: #7f7f7f; text-decoration-color: #7f7f7f\">                        </span>\n</pre>\n"
     },
     "metadata": {}
    },
    {
     "output_type": "display_data",
     "data": {
      "text/plain": "\u001B[2;36m          \u001B[0m\u001B[2;36m \u001B[0m\u001B[34mINFO    \u001B[0m \u001B[1m{\u001B[0m\u001B[32m\"f#f#dev\"\u001B[0m: \u001B[1;36m88.75\u001B[0m, \u001B[32m\"rec#f#dev\"\u001B[0m: \u001B[1;36m90.37\u001B[0m,           \u001B]8;id=996628;file:///opt/conda/lib/python3.7/site-packages/fastNLP/core/callbacks/progress_callback.py\u001B\\\u001B[2mprogress_callback.py\u001B[0m\u001B]8;;\u001B\\\u001B[2m:\u001B[0m\u001B]8;id=898599;file:///opt/conda/lib/python3.7/site-packages/fastNLP/core/callbacks/progress_callback.py#327\u001B\\\u001B[2m327\u001B[0m\u001B]8;;\u001B\\\n\u001B[2;36m           \u001B[0m         \u001B[32m\"pre#f#dev\"\u001B[0m: \u001B[1;36m87.2\u001B[0m, \u001B[32m\"f#f#test\"\u001B[0m: \u001B[1;36m89.03\u001B[0m,            \u001B[2m                        \u001B[0m\n\u001B[2;36m           \u001B[0m         \u001B[32m\"rec#f#test\"\u001B[0m: \u001B[1;36m91.2\u001B[0m, \u001B[32m\"pre#f#test\"\u001B[0m: \u001B[1;36m86.96\u001B[0m\u001B[1m}\u001B[0m         \u001B[2m                        \u001B[0m\n",
      "text/html": "<pre style=\"white-space:pre;overflow-x:auto;line-height:normal;font-family:Menlo,'DejaVu Sans Mono',consolas,'Courier New',monospace\"><span style=\"color: #7fbfbf; text-decoration-color: #7fbfbf\">           </span><span style=\"color: #000080; text-decoration-color: #000080\">INFO    </span> <span style=\"font-weight: bold\">{</span><span style=\"color: #008000; text-decoration-color: #008000\">\"f#f#dev\"</span>: <span style=\"color: #008080; text-decoration-color: #008080; font-weight: bold\">88.75</span>, <span style=\"color: #008000; text-decoration-color: #008000\">\"rec#f#dev\"</span>: <span style=\"color: #008080; text-decoration-color: #008080; font-weight: bold\">90.37</span>,           <a href=\"file:///opt/conda/lib/python3.7/site-packages/fastNLP/core/callbacks/progress_callback.py\"><span style=\"color: #7f7f7f; text-decoration-color: #7f7f7f\">progress_callback.py</span></a><span style=\"color: #7f7f7f; text-decoration-color: #7f7f7f\">:</span><a href=\"file:///opt/conda/lib/python3.7/site-packages/fastNLP/core/callbacks/progress_callback.py#327\"><span style=\"color: #7f7f7f; text-decoration-color: #7f7f7f\">327</span></a>\n<span style=\"color: #7fbfbf; text-decoration-color: #7fbfbf\">           </span>         <span style=\"color: #008000; text-decoration-color: #008000\">\"pre#f#dev\"</span>: <span style=\"color: #008080; text-decoration-color: #008080; font-weight: bold\">87.2</span>, <span style=\"color: #008000; text-decoration-color: #008000\">\"f#f#test\"</span>: <span style=\"color: #008080; text-decoration-color: #008080; font-weight: bold\">89.03</span>,            <span style=\"color: #7f7f7f; text-decoration-color: #7f7f7f\">                        </span>\n<span style=\"color: #7fbfbf; text-decoration-color: #7fbfbf\">           </span>         <span style=\"color: #008000; text-decoration-color: #008000\">\"rec#f#test\"</span>: <span style=\"color: #008080; text-decoration-color: #008080; font-weight: bold\">91.2</span>, <span style=\"color: #008000; text-decoration-color: #008000\">\"pre#f#test\"</span>: <span style=\"color: #008080; text-decoration-color: #008080; font-weight: bold\">86.96</span><span style=\"font-weight: bold\">}</span>         <span style=\"color: #7f7f7f; text-decoration-color: #7f7f7f\">                        </span>\n</pre>\n"
     },
     "metadata": {}
    },
    {
     "output_type": "display_data",
     "data": {
      "text/plain": "Eval. on dev Batch:   0%|          | 0/119 [00:00<?, ?it/s]",
      "application/vnd.jupyter.widget-view+json": {
       "version_major": 2,
       "version_minor": 0,
       "model_id": ""
      }
     },
     "metadata": {}
    },
    {
     "output_type": "display_data",
     "data": {
      "text/plain": "Eval. on test Batch:   0%|          | 0/118 [00:00<?, ?it/s]",
      "application/vnd.jupyter.widget-view+json": {
       "version_major": 2,
       "version_minor": 0,
       "model_id": ""
      }
     },
     "metadata": {}
    },
    {
     "output_type": "display_data",
     "data": {
      "text/plain": "\u001B[2;36m[19:51:46]\u001B[0m\u001B[2;36m \u001B[0m\u001B[34mINFO    \u001B[0m ----------Eval. results on Epoch:\u001B[1;36m8\u001B[0m,              \u001B]8;id=544427;file:///opt/conda/lib/python3.7/site-packages/fastNLP/core/callbacks/progress_callback.py\u001B\\\u001B[2mprogress_callback.py\u001B[0m\u001B]8;;\u001B\\\u001B[2m:\u001B[0m\u001B]8;id=91841;file:///opt/conda/lib/python3.7/site-packages/fastNLP/core/callbacks/progress_callback.py#322\u001B\\\u001B[2m322\u001B[0m\u001B]8;;\u001B\\\n\u001B[2;36m           \u001B[0m         Batch:\u001B[1;36m0\u001B[0m----------                                \u001B[2m                        \u001B[0m\n",
      "text/html": "<pre style=\"white-space:pre;overflow-x:auto;line-height:normal;font-family:Menlo,'DejaVu Sans Mono',consolas,'Courier New',monospace\"><span style=\"color: #7fbfbf; text-decoration-color: #7fbfbf\">[19:51:46] </span><span style=\"color: #000080; text-decoration-color: #000080\">INFO    </span> ----------Eval. results on Epoch:<span style=\"color: #008080; text-decoration-color: #008080; font-weight: bold\">8</span>,              <a href=\"file:///opt/conda/lib/python3.7/site-packages/fastNLP/core/callbacks/progress_callback.py\"><span style=\"color: #7f7f7f; text-decoration-color: #7f7f7f\">progress_callback.py</span></a><span style=\"color: #7f7f7f; text-decoration-color: #7f7f7f\">:</span><a href=\"file:///opt/conda/lib/python3.7/site-packages/fastNLP/core/callbacks/progress_callback.py#322\"><span style=\"color: #7f7f7f; text-decoration-color: #7f7f7f\">322</span></a>\n<span style=\"color: #7fbfbf; text-decoration-color: #7fbfbf\">           </span>         Batch:<span style=\"color: #008080; text-decoration-color: #008080; font-weight: bold\">0</span>----------                                <span style=\"color: #7f7f7f; text-decoration-color: #7f7f7f\">                        </span>\n</pre>\n"
     },
     "metadata": {}
    },
    {
     "output_type": "display_data",
     "data": {
      "text/plain": "\u001B[2;36m          \u001B[0m\u001B[2;36m \u001B[0m\u001B[34mINFO    \u001B[0m \u001B[1m{\u001B[0m\u001B[32m\"f#f#dev\"\u001B[0m: \u001B[1;36m89.21\u001B[0m, \u001B[32m\"rec#f#dev\"\u001B[0m: \u001B[1;36m90.11\u001B[0m,           \u001B]8;id=845438;file:///opt/conda/lib/python3.7/site-packages/fastNLP/core/callbacks/progress_callback.py\u001B\\\u001B[2mprogress_callback.py\u001B[0m\u001B]8;;\u001B\\\u001B[2m:\u001B[0m\u001B]8;id=166389;file:///opt/conda/lib/python3.7/site-packages/fastNLP/core/callbacks/progress_callback.py#327\u001B\\\u001B[2m327\u001B[0m\u001B]8;;\u001B\\\n\u001B[2;36m           \u001B[0m         \u001B[32m\"pre#f#dev\"\u001B[0m: \u001B[1;36m88.32\u001B[0m, \u001B[32m\"f#f#test\"\u001B[0m: \u001B[1;36m89.13\u001B[0m,           \u001B[2m                        \u001B[0m\n\u001B[2;36m           \u001B[0m         \u001B[32m\"rec#f#test\"\u001B[0m: \u001B[1;36m90.97\u001B[0m, \u001B[32m\"pre#f#test\"\u001B[0m: \u001B[1;36m87.36\u001B[0m\u001B[1m}\u001B[0m        \u001B[2m                        \u001B[0m\n",
      "text/html": "<pre style=\"white-space:pre;overflow-x:auto;line-height:normal;font-family:Menlo,'DejaVu Sans Mono',consolas,'Courier New',monospace\"><span style=\"color: #7fbfbf; text-decoration-color: #7fbfbf\">           </span><span style=\"color: #000080; text-decoration-color: #000080\">INFO    </span> <span style=\"font-weight: bold\">{</span><span style=\"color: #008000; text-decoration-color: #008000\">\"f#f#dev\"</span>: <span style=\"color: #008080; text-decoration-color: #008080; font-weight: bold\">89.21</span>, <span style=\"color: #008000; text-decoration-color: #008000\">\"rec#f#dev\"</span>: <span style=\"color: #008080; text-decoration-color: #008080; font-weight: bold\">90.11</span>,           <a href=\"file:///opt/conda/lib/python3.7/site-packages/fastNLP/core/callbacks/progress_callback.py\"><span style=\"color: #7f7f7f; text-decoration-color: #7f7f7f\">progress_callback.py</span></a><span style=\"color: #7f7f7f; text-decoration-color: #7f7f7f\">:</span><a href=\"file:///opt/conda/lib/python3.7/site-packages/fastNLP/core/callbacks/progress_callback.py#327\"><span style=\"color: #7f7f7f; text-decoration-color: #7f7f7f\">327</span></a>\n<span style=\"color: #7fbfbf; text-decoration-color: #7fbfbf\">           </span>         <span style=\"color: #008000; text-decoration-color: #008000\">\"pre#f#dev\"</span>: <span style=\"color: #008080; text-decoration-color: #008080; font-weight: bold\">88.32</span>, <span style=\"color: #008000; text-decoration-color: #008000\">\"f#f#test\"</span>: <span style=\"color: #008080; text-decoration-color: #008080; font-weight: bold\">89.13</span>,           <span style=\"color: #7f7f7f; text-decoration-color: #7f7f7f\">                        </span>\n<span style=\"color: #7fbfbf; text-decoration-color: #7fbfbf\">           </span>         <span style=\"color: #008000; text-decoration-color: #008000\">\"rec#f#test\"</span>: <span style=\"color: #008080; text-decoration-color: #008080; font-weight: bold\">90.97</span>, <span style=\"color: #008000; text-decoration-color: #008000\">\"pre#f#test\"</span>: <span style=\"color: #008080; text-decoration-color: #008080; font-weight: bold\">87.36</span><span style=\"font-weight: bold\">}</span>        <span style=\"color: #7f7f7f; text-decoration-color: #7f7f7f\">                        </span>\n</pre>\n"
     },
     "metadata": {}
    },
    {
     "output_type": "display_data",
     "data": {
      "text/plain": "Eval. on dev Batch:   0%|          | 0/119 [00:00<?, ?it/s]",
      "application/vnd.jupyter.widget-view+json": {
       "version_major": 2,
       "version_minor": 0,
       "model_id": ""
      }
     },
     "metadata": {}
    },
    {
     "output_type": "display_data",
     "data": {
      "text/plain": "Eval. on test Batch:   0%|          | 0/118 [00:00<?, ?it/s]",
      "application/vnd.jupyter.widget-view+json": {
       "version_major": 2,
       "version_minor": 0,
       "model_id": ""
      }
     },
     "metadata": {}
    },
    {
     "output_type": "display_data",
     "data": {
      "text/plain": "\u001B[2;36m[19:53:25]\u001B[0m\u001B[2;36m \u001B[0m\u001B[34mINFO    \u001B[0m ++++++++++Eval. results on Epoch:\u001B[1;36m9\u001B[0m,              \u001B]8;id=150784;file:///opt/conda/lib/python3.7/site-packages/fastNLP/core/callbacks/progress_callback.py\u001B\\\u001B[2mprogress_callback.py\u001B[0m\u001B]8;;\u001B\\\u001B[2m:\u001B[0m\u001B]8;id=617501;file:///opt/conda/lib/python3.7/site-packages/fastNLP/core/callbacks/progress_callback.py#322\u001B\\\u001B[2m322\u001B[0m\u001B]8;;\u001B\\\n\u001B[2;36m           \u001B[0m         Batch:\u001B[1;36m0\u001B[0m++++++++++                                \u001B[2m                        \u001B[0m\n",
      "text/html": "<pre style=\"white-space:pre;overflow-x:auto;line-height:normal;font-family:Menlo,'DejaVu Sans Mono',consolas,'Courier New',monospace\"><span style=\"color: #7fbfbf; text-decoration-color: #7fbfbf\">[19:53:25] </span><span style=\"color: #000080; text-decoration-color: #000080\">INFO    </span> ++++++++++Eval. results on Epoch:<span style=\"color: #008080; text-decoration-color: #008080; font-weight: bold\">9</span>,              <a href=\"file:///opt/conda/lib/python3.7/site-packages/fastNLP/core/callbacks/progress_callback.py\"><span style=\"color: #7f7f7f; text-decoration-color: #7f7f7f\">progress_callback.py</span></a><span style=\"color: #7f7f7f; text-decoration-color: #7f7f7f\">:</span><a href=\"file:///opt/conda/lib/python3.7/site-packages/fastNLP/core/callbacks/progress_callback.py#322\"><span style=\"color: #7f7f7f; text-decoration-color: #7f7f7f\">322</span></a>\n<span style=\"color: #7fbfbf; text-decoration-color: #7fbfbf\">           </span>         Batch:<span style=\"color: #008080; text-decoration-color: #008080; font-weight: bold\">0</span>++++++++++                                <span style=\"color: #7f7f7f; text-decoration-color: #7f7f7f\">                        </span>\n</pre>\n"
     },
     "metadata": {}
    },
    {
     "output_type": "display_data",
     "data": {
      "text/plain": "\u001B[2;36m          \u001B[0m\u001B[2;36m \u001B[0m\u001B[34mINFO    \u001B[0m \u001B[1m{\u001B[0m\u001B[32m\"f#f#dev\"\u001B[0m: \u001B[1;36m89.49\u001B[0m, \u001B[32m\"rec#f#dev\"\u001B[0m: \u001B[1;36m91.03\u001B[0m,           \u001B]8;id=154612;file:///opt/conda/lib/python3.7/site-packages/fastNLP/core/callbacks/progress_callback.py\u001B\\\u001B[2mprogress_callback.py\u001B[0m\u001B]8;;\u001B\\\u001B[2m:\u001B[0m\u001B]8;id=295073;file:///opt/conda/lib/python3.7/site-packages/fastNLP/core/callbacks/progress_callback.py#327\u001B\\\u001B[2m327\u001B[0m\u001B]8;;\u001B\\\n\u001B[2;36m           \u001B[0m         \u001B[32m\"pre#f#dev\"\u001B[0m: \u001B[1;36m88.01\u001B[0m, \u001B[32m\"f#f#test\"\u001B[0m: \u001B[1;36m88.94\u001B[0m,           \u001B[2m                        \u001B[0m\n\u001B[2;36m           \u001B[0m         \u001B[32m\"rec#f#test\"\u001B[0m: \u001B[1;36m91.74\u001B[0m, \u001B[32m\"pre#f#test\"\u001B[0m: \u001B[1;36m86.31\u001B[0m\u001B[1m}\u001B[0m        \u001B[2m                        \u001B[0m\n",
      "text/html": "<pre style=\"white-space:pre;overflow-x:auto;line-height:normal;font-family:Menlo,'DejaVu Sans Mono',consolas,'Courier New',monospace\"><span style=\"color: #7fbfbf; text-decoration-color: #7fbfbf\">           </span><span style=\"color: #000080; text-decoration-color: #000080\">INFO    </span> <span style=\"font-weight: bold\">{</span><span style=\"color: #008000; text-decoration-color: #008000\">\"f#f#dev\"</span>: <span style=\"color: #008080; text-decoration-color: #008080; font-weight: bold\">89.49</span>, <span style=\"color: #008000; text-decoration-color: #008000\">\"rec#f#dev\"</span>: <span style=\"color: #008080; text-decoration-color: #008080; font-weight: bold\">91.03</span>,           <a href=\"file:///opt/conda/lib/python3.7/site-packages/fastNLP/core/callbacks/progress_callback.py\"><span style=\"color: #7f7f7f; text-decoration-color: #7f7f7f\">progress_callback.py</span></a><span style=\"color: #7f7f7f; text-decoration-color: #7f7f7f\">:</span><a href=\"file:///opt/conda/lib/python3.7/site-packages/fastNLP/core/callbacks/progress_callback.py#327\"><span style=\"color: #7f7f7f; text-decoration-color: #7f7f7f\">327</span></a>\n<span style=\"color: #7fbfbf; text-decoration-color: #7fbfbf\">           </span>         <span style=\"color: #008000; text-decoration-color: #008000\">\"pre#f#dev\"</span>: <span style=\"color: #008080; text-decoration-color: #008080; font-weight: bold\">88.01</span>, <span style=\"color: #008000; text-decoration-color: #008000\">\"f#f#test\"</span>: <span style=\"color: #008080; text-decoration-color: #008080; font-weight: bold\">88.94</span>,           <span style=\"color: #7f7f7f; text-decoration-color: #7f7f7f\">                        </span>\n<span style=\"color: #7fbfbf; text-decoration-color: #7fbfbf\">           </span>         <span style=\"color: #008000; text-decoration-color: #008000\">\"rec#f#test\"</span>: <span style=\"color: #008080; text-decoration-color: #008080; font-weight: bold\">91.74</span>, <span style=\"color: #008000; text-decoration-color: #008000\">\"pre#f#test\"</span>: <span style=\"color: #008080; text-decoration-color: #008080; font-weight: bold\">86.31</span><span style=\"font-weight: bold\">}</span>        <span style=\"color: #7f7f7f; text-decoration-color: #7f7f7f\">                        </span>\n</pre>\n"
     },
     "metadata": {}
    },
    {
     "output_type": "display_data",
     "data": {
      "text/plain": "Eval. on dev Batch:   0%|          | 0/119 [00:00<?, ?it/s]",
      "application/vnd.jupyter.widget-view+json": {
       "version_major": 2,
       "version_minor": 0,
       "model_id": ""
      }
     },
     "metadata": {}
    },
    {
     "output_type": "display_data",
     "data": {
      "text/plain": "Eval. on test Batch:   0%|          | 0/118 [00:00<?, ?it/s]",
      "application/vnd.jupyter.widget-view+json": {
       "version_major": 2,
       "version_minor": 0,
       "model_id": ""
      }
     },
     "metadata": {}
    },
    {
     "output_type": "display_data",
     "data": {
      "text/plain": "\u001B[2;36m[19:55:07]\u001B[0m\u001B[2;36m \u001B[0m\u001B[34mINFO    \u001B[0m ++++++++++Eval. results on Epoch:\u001B[1;36m10\u001B[0m,             \u001B]8;id=702677;file:///opt/conda/lib/python3.7/site-packages/fastNLP/core/callbacks/progress_callback.py\u001B\\\u001B[2mprogress_callback.py\u001B[0m\u001B]8;;\u001B\\\u001B[2m:\u001B[0m\u001B]8;id=511821;file:///opt/conda/lib/python3.7/site-packages/fastNLP/core/callbacks/progress_callback.py#322\u001B\\\u001B[2m322\u001B[0m\u001B]8;;\u001B\\\n\u001B[2;36m           \u001B[0m         Batch:\u001B[1;36m0\u001B[0m++++++++++                                \u001B[2m                        \u001B[0m\n",
      "text/html": "<pre style=\"white-space:pre;overflow-x:auto;line-height:normal;font-family:Menlo,'DejaVu Sans Mono',consolas,'Courier New',monospace\"><span style=\"color: #7fbfbf; text-decoration-color: #7fbfbf\">[19:55:07] </span><span style=\"color: #000080; text-decoration-color: #000080\">INFO    </span> ++++++++++Eval. results on Epoch:<span style=\"color: #008080; text-decoration-color: #008080; font-weight: bold\">10</span>,             <a href=\"file:///opt/conda/lib/python3.7/site-packages/fastNLP/core/callbacks/progress_callback.py\"><span style=\"color: #7f7f7f; text-decoration-color: #7f7f7f\">progress_callback.py</span></a><span style=\"color: #7f7f7f; text-decoration-color: #7f7f7f\">:</span><a href=\"file:///opt/conda/lib/python3.7/site-packages/fastNLP/core/callbacks/progress_callback.py#322\"><span style=\"color: #7f7f7f; text-decoration-color: #7f7f7f\">322</span></a>\n<span style=\"color: #7fbfbf; text-decoration-color: #7fbfbf\">           </span>         Batch:<span style=\"color: #008080; text-decoration-color: #008080; font-weight: bold\">0</span>++++++++++                                <span style=\"color: #7f7f7f; text-decoration-color: #7f7f7f\">                        </span>\n</pre>\n"
     },
     "metadata": {}
    },
    {
     "output_type": "display_data",
     "data": {
      "text/plain": "\u001B[2;36m          \u001B[0m\u001B[2;36m \u001B[0m\u001B[34mINFO    \u001B[0m \u001B[1m{\u001B[0m\u001B[32m\"f#f#dev\"\u001B[0m: \u001B[1;36m89.65\u001B[0m, \u001B[32m\"rec#f#dev\"\u001B[0m: \u001B[1;36m90.45\u001B[0m,           \u001B]8;id=560582;file:///opt/conda/lib/python3.7/site-packages/fastNLP/core/callbacks/progress_callback.py\u001B\\\u001B[2mprogress_callback.py\u001B[0m\u001B]8;;\u001B\\\u001B[2m:\u001B[0m\u001B]8;id=180087;file:///opt/conda/lib/python3.7/site-packages/fastNLP/core/callbacks/progress_callback.py#327\u001B\\\u001B[2m327\u001B[0m\u001B]8;;\u001B\\\n\u001B[2;36m           \u001B[0m         \u001B[32m\"pre#f#dev\"\u001B[0m: \u001B[1;36m88.86\u001B[0m, \u001B[32m\"f#f#test\"\u001B[0m: \u001B[1;36m89.23\u001B[0m,           \u001B[2m                        \u001B[0m\n\u001B[2;36m           \u001B[0m         \u001B[32m\"rec#f#test\"\u001B[0m: \u001B[1;36m91.09\u001B[0m, \u001B[32m\"pre#f#test\"\u001B[0m: \u001B[1;36m87.45\u001B[0m\u001B[1m}\u001B[0m        \u001B[2m                        \u001B[0m\n",
      "text/html": "<pre style=\"white-space:pre;overflow-x:auto;line-height:normal;font-family:Menlo,'DejaVu Sans Mono',consolas,'Courier New',monospace\"><span style=\"color: #7fbfbf; text-decoration-color: #7fbfbf\">           </span><span style=\"color: #000080; text-decoration-color: #000080\">INFO    </span> <span style=\"font-weight: bold\">{</span><span style=\"color: #008000; text-decoration-color: #008000\">\"f#f#dev\"</span>: <span style=\"color: #008080; text-decoration-color: #008080; font-weight: bold\">89.65</span>, <span style=\"color: #008000; text-decoration-color: #008000\">\"rec#f#dev\"</span>: <span style=\"color: #008080; text-decoration-color: #008080; font-weight: bold\">90.45</span>,           <a href=\"file:///opt/conda/lib/python3.7/site-packages/fastNLP/core/callbacks/progress_callback.py\"><span style=\"color: #7f7f7f; text-decoration-color: #7f7f7f\">progress_callback.py</span></a><span style=\"color: #7f7f7f; text-decoration-color: #7f7f7f\">:</span><a href=\"file:///opt/conda/lib/python3.7/site-packages/fastNLP/core/callbacks/progress_callback.py#327\"><span style=\"color: #7f7f7f; text-decoration-color: #7f7f7f\">327</span></a>\n<span style=\"color: #7fbfbf; text-decoration-color: #7fbfbf\">           </span>         <span style=\"color: #008000; text-decoration-color: #008000\">\"pre#f#dev\"</span>: <span style=\"color: #008080; text-decoration-color: #008080; font-weight: bold\">88.86</span>, <span style=\"color: #008000; text-decoration-color: #008000\">\"f#f#test\"</span>: <span style=\"color: #008080; text-decoration-color: #008080; font-weight: bold\">89.23</span>,           <span style=\"color: #7f7f7f; text-decoration-color: #7f7f7f\">                        </span>\n<span style=\"color: #7fbfbf; text-decoration-color: #7fbfbf\">           </span>         <span style=\"color: #008000; text-decoration-color: #008000\">\"rec#f#test\"</span>: <span style=\"color: #008080; text-decoration-color: #008080; font-weight: bold\">91.09</span>, <span style=\"color: #008000; text-decoration-color: #008000\">\"pre#f#test\"</span>: <span style=\"color: #008080; text-decoration-color: #008080; font-weight: bold\">87.45</span><span style=\"font-weight: bold\">}</span>        <span style=\"color: #7f7f7f; text-decoration-color: #7f7f7f\">                        </span>\n</pre>\n"
     },
     "metadata": {}
    },
    {
     "output_type": "display_data",
     "data": {
      "text/plain": "\u001B[2;36m[19:55:08]\u001B[0m\u001B[2;36m \u001B[0m\u001B[34mINFO    \u001B[0m The best performance for monitor f#f#dev:\u001B[1;36m89.65\u001B[0m    \u001B]8;id=867113;file:///opt/conda/lib/python3.7/site-packages/fastNLP/core/callbacks/progress_callback.py\u001B\\\u001B[2mprogress_callback.py\u001B[0m\u001B]8;;\u001B\\\u001B[2m:\u001B[0m\u001B]8;id=43048;file:///opt/conda/lib/python3.7/site-packages/fastNLP/core/callbacks/progress_callback.py#37\u001B\\\u001B[2m37\u001B[0m\u001B]8;;\u001B\\\n\u001B[2;36m           \u001B[0m         was achieved in Epoch:\u001B[1;36m10\u001B[0m, Global Batch:\u001B[1;36m9960\u001B[0m. The  \u001B[2m                       \u001B[0m\n\u001B[2;36m           \u001B[0m         evaluation result:                                \u001B[2m                       \u001B[0m\n\u001B[2;36m           \u001B[0m         \u001B[1m{\u001B[0m\u001B[32m'f#f#dev'\u001B[0m: \u001B[1;36m89.65\u001B[0m, \u001B[32m'rec#f#dev'\u001B[0m: \u001B[1;36m90.45\u001B[0m,            \u001B[2m                       \u001B[0m\n\u001B[2;36m           \u001B[0m         \u001B[32m'pre#f#dev'\u001B[0m: \u001B[1;36m88.86\u001B[0m, \u001B[32m'f#f#test'\u001B[0m: \u001B[1;36m89.23\u001B[0m,            \u001B[2m                       \u001B[0m\n\u001B[2;36m           \u001B[0m         \u001B[32m'rec#f#test'\u001B[0m: \u001B[1;36m91.09\u001B[0m, \u001B[32m'pre#f#test'\u001B[0m: \u001B[1;36m87.45\u001B[0m\u001B[1m}\u001B[0m         \u001B[2m                       \u001B[0m\n",
      "text/html": "<pre style=\"white-space:pre;overflow-x:auto;line-height:normal;font-family:Menlo,'DejaVu Sans Mono',consolas,'Courier New',monospace\"><span style=\"color: #7fbfbf; text-decoration-color: #7fbfbf\">[19:55:08] </span><span style=\"color: #000080; text-decoration-color: #000080\">INFO    </span> The best performance for monitor f#f#dev:<span style=\"color: #008080; text-decoration-color: #008080; font-weight: bold\">89.65</span>    <a href=\"file:///opt/conda/lib/python3.7/site-packages/fastNLP/core/callbacks/progress_callback.py\"><span style=\"color: #7f7f7f; text-decoration-color: #7f7f7f\">progress_callback.py</span></a><span style=\"color: #7f7f7f; text-decoration-color: #7f7f7f\">:</span><a href=\"file:///opt/conda/lib/python3.7/site-packages/fastNLP/core/callbacks/progress_callback.py#37\"><span style=\"color: #7f7f7f; text-decoration-color: #7f7f7f\">37</span></a>\n<span style=\"color: #7fbfbf; text-decoration-color: #7fbfbf\">           </span>         was achieved in Epoch:<span style=\"color: #008080; text-decoration-color: #008080; font-weight: bold\">10</span>, Global Batch:<span style=\"color: #008080; text-decoration-color: #008080; font-weight: bold\">9960</span>. The  <span style=\"color: #7f7f7f; text-decoration-color: #7f7f7f\">                       </span>\n<span style=\"color: #7fbfbf; text-decoration-color: #7fbfbf\">           </span>         evaluation result:                                <span style=\"color: #7f7f7f; text-decoration-color: #7f7f7f\">                       </span>\n<span style=\"color: #7fbfbf; text-decoration-color: #7fbfbf\">           </span>         <span style=\"font-weight: bold\">{</span><span style=\"color: #008000; text-decoration-color: #008000\">'f#f#dev'</span>: <span style=\"color: #008080; text-decoration-color: #008080; font-weight: bold\">89.65</span>, <span style=\"color: #008000; text-decoration-color: #008000\">'rec#f#dev'</span>: <span style=\"color: #008080; text-decoration-color: #008080; font-weight: bold\">90.45</span>,            <span style=\"color: #7f7f7f; text-decoration-color: #7f7f7f\">                       </span>\n<span style=\"color: #7fbfbf; text-decoration-color: #7fbfbf\">           </span>         <span style=\"color: #008000; text-decoration-color: #008000\">'pre#f#dev'</span>: <span style=\"color: #008080; text-decoration-color: #008080; font-weight: bold\">88.86</span>, <span style=\"color: #008000; text-decoration-color: #008000\">'f#f#test'</span>: <span style=\"color: #008080; text-decoration-color: #008080; font-weight: bold\">89.23</span>,            <span style=\"color: #7f7f7f; text-decoration-color: #7f7f7f\">                       </span>\n<span style=\"color: #7fbfbf; text-decoration-color: #7fbfbf\">           </span>         <span style=\"color: #008000; text-decoration-color: #008000\">'rec#f#test'</span>: <span style=\"color: #008080; text-decoration-color: #008080; font-weight: bold\">91.09</span>, <span style=\"color: #008000; text-decoration-color: #008000\">'pre#f#test'</span>: <span style=\"color: #008080; text-decoration-color: #008080; font-weight: bold\">87.45</span><span style=\"font-weight: bold\">}</span>         <span style=\"color: #7f7f7f; text-decoration-color: #7f7f7f\">                       </span>\n</pre>\n"
     },
     "metadata": {}
    },
    {
     "output_type": "display_data",
     "data": {
      "text/plain": "\u001B[2;36m          \u001B[0m\u001B[2;36m \u001B[0m\u001B[34mINFO    \u001B[0m Loading best model from buffer with       \u001B]8;id=255390;file:///opt/conda/lib/python3.7/site-packages/fastNLP/core/callbacks/load_best_model_callback.py\u001B\\\u001B[2mload_best_model_callback.py\u001B[0m\u001B]8;;\u001B\\\u001B[2m:\u001B[0m\u001B]8;id=427164;file:///opt/conda/lib/python3.7/site-packages/fastNLP/core/callbacks/load_best_model_callback.py#120\u001B\\\u001B[2m120\u001B[0m\u001B]8;;\u001B\\\n\u001B[2;36m           \u001B[0m         f#f#dev: \u001B[1;36m89.65\u001B[0m \u001B[1m(\u001B[0machieved in Epoch: \u001B[1;36m10\u001B[0m,    \u001B[2m                               \u001B[0m\n\u001B[2;36m           \u001B[0m         Global Batch: \u001B[1;36m9960\u001B[0m\u001B[1m)\u001B[0m \u001B[33m...\u001B[0m                   \u001B[2m                               \u001B[0m\n",
      "text/html": "<pre style=\"white-space:pre;overflow-x:auto;line-height:normal;font-family:Menlo,'DejaVu Sans Mono',consolas,'Courier New',monospace\"><span style=\"color: #7fbfbf; text-decoration-color: #7fbfbf\">           </span><span style=\"color: #000080; text-decoration-color: #000080\">INFO    </span> Loading best model from buffer with       <a href=\"file:///opt/conda/lib/python3.7/site-packages/fastNLP/core/callbacks/load_best_model_callback.py\"><span style=\"color: #7f7f7f; text-decoration-color: #7f7f7f\">load_best_model_callback.py</span></a><span style=\"color: #7f7f7f; text-decoration-color: #7f7f7f\">:</span><a href=\"file:///opt/conda/lib/python3.7/site-packages/fastNLP/core/callbacks/load_best_model_callback.py#120\"><span style=\"color: #7f7f7f; text-decoration-color: #7f7f7f\">120</span></a>\n<span style=\"color: #7fbfbf; text-decoration-color: #7fbfbf\">           </span>         f#f#dev: <span style=\"color: #008080; text-decoration-color: #008080; font-weight: bold\">89.65</span> <span style=\"font-weight: bold\">(</span>achieved in Epoch: <span style=\"color: #008080; text-decoration-color: #008080; font-weight: bold\">10</span>,    <span style=\"color: #7f7f7f; text-decoration-color: #7f7f7f\">                               </span>\n<span style=\"color: #7fbfbf; text-decoration-color: #7fbfbf\">           </span>         Global Batch: <span style=\"color: #008080; text-decoration-color: #008080; font-weight: bold\">9960</span><span style=\"font-weight: bold\">)</span> <span style=\"color: #808000; text-decoration-color: #808000\">...</span>                   <span style=\"color: #7f7f7f; text-decoration-color: #7f7f7f\">                               </span>\n</pre>\n"
     },
     "metadata": {}
    }
   ]
  },
  {
   "cell_type": "code",
   "source": [],
   "metadata": {
    "id": "e_CDSmw4zD5o"
   },
   "execution_count": null,
   "outputs": []
  }
 ]
}
